{
 "cells": [
  {
   "cell_type": "code",
   "execution_count": 1,
   "id": "dbeb87ba",
   "metadata": {},
   "outputs": [],
   "source": [
    "import numpy as np\n",
    "import pandas as pd\n",
    "import matplotlib.pyplot as plt\n",
    "from sklearn.linear_model import LogisticRegression\n",
    "from sklearn.model_selection import train_test_split\n",
    "from sklearn.metrics import confusion_matrix,accuracy_score"
   ]
  },
  {
   "cell_type": "code",
   "execution_count": 2,
   "id": "de7c17f9",
   "metadata": {},
   "outputs": [],
   "source": [
    "df=pd.read_csv('logreg-th.csv')"
   ]
  },
  {
   "cell_type": "code",
   "execution_count": 3,
   "id": "9142b26b",
   "metadata": {},
   "outputs": [
    {
     "data": {
      "text/html": [
       "<div>\n",
       "<style scoped>\n",
       "    .dataframe tbody tr th:only-of-type {\n",
       "        vertical-align: middle;\n",
       "    }\n",
       "\n",
       "    .dataframe tbody tr th {\n",
       "        vertical-align: top;\n",
       "    }\n",
       "\n",
       "    .dataframe thead th {\n",
       "        text-align: right;\n",
       "    }\n",
       "</style>\n",
       "<table border=\"1\" class=\"dataframe\">\n",
       "  <thead>\n",
       "    <tr style=\"text-align: right;\">\n",
       "      <th></th>\n",
       "      <th>gender</th>\n",
       "      <th>NationalITy</th>\n",
       "      <th>PlaceofBirth</th>\n",
       "      <th>StageID</th>\n",
       "      <th>GradeID</th>\n",
       "      <th>SectionID</th>\n",
       "      <th>Topic</th>\n",
       "      <th>Semester</th>\n",
       "      <th>Relation</th>\n",
       "      <th>raisedhands</th>\n",
       "      <th>VisITedResources</th>\n",
       "      <th>AnnouncementsView</th>\n",
       "      <th>Discussion</th>\n",
       "      <th>ParentAnsweringSurvey</th>\n",
       "      <th>ParentschoolSatisfaction</th>\n",
       "      <th>StudentAbsenceDays</th>\n",
       "      <th>Class</th>\n",
       "    </tr>\n",
       "  </thead>\n",
       "  <tbody>\n",
       "    <tr>\n",
       "      <th>0</th>\n",
       "      <td>M</td>\n",
       "      <td>KW</td>\n",
       "      <td>KuwaIT</td>\n",
       "      <td>lowerlevel</td>\n",
       "      <td>G-04</td>\n",
       "      <td>A</td>\n",
       "      <td>IT</td>\n",
       "      <td>F</td>\n",
       "      <td>Father</td>\n",
       "      <td>15</td>\n",
       "      <td>16</td>\n",
       "      <td>2</td>\n",
       "      <td>20</td>\n",
       "      <td>Yes</td>\n",
       "      <td>Good</td>\n",
       "      <td>Under-7</td>\n",
       "      <td>M</td>\n",
       "    </tr>\n",
       "    <tr>\n",
       "      <th>1</th>\n",
       "      <td>M</td>\n",
       "      <td>KW</td>\n",
       "      <td>KuwaIT</td>\n",
       "      <td>lowerlevel</td>\n",
       "      <td>G-04</td>\n",
       "      <td>A</td>\n",
       "      <td>IT</td>\n",
       "      <td>F</td>\n",
       "      <td>Father</td>\n",
       "      <td>20</td>\n",
       "      <td>20</td>\n",
       "      <td>3</td>\n",
       "      <td>25</td>\n",
       "      <td>Yes</td>\n",
       "      <td>Good</td>\n",
       "      <td>Under-7</td>\n",
       "      <td>M</td>\n",
       "    </tr>\n",
       "    <tr>\n",
       "      <th>2</th>\n",
       "      <td>M</td>\n",
       "      <td>KW</td>\n",
       "      <td>KuwaIT</td>\n",
       "      <td>lowerlevel</td>\n",
       "      <td>G-04</td>\n",
       "      <td>A</td>\n",
       "      <td>IT</td>\n",
       "      <td>F</td>\n",
       "      <td>Father</td>\n",
       "      <td>10</td>\n",
       "      <td>7</td>\n",
       "      <td>0</td>\n",
       "      <td>30</td>\n",
       "      <td>No</td>\n",
       "      <td>Bad</td>\n",
       "      <td>Above-7</td>\n",
       "      <td>L</td>\n",
       "    </tr>\n",
       "    <tr>\n",
       "      <th>3</th>\n",
       "      <td>M</td>\n",
       "      <td>KW</td>\n",
       "      <td>KuwaIT</td>\n",
       "      <td>lowerlevel</td>\n",
       "      <td>G-04</td>\n",
       "      <td>A</td>\n",
       "      <td>IT</td>\n",
       "      <td>F</td>\n",
       "      <td>Father</td>\n",
       "      <td>30</td>\n",
       "      <td>25</td>\n",
       "      <td>5</td>\n",
       "      <td>35</td>\n",
       "      <td>No</td>\n",
       "      <td>Bad</td>\n",
       "      <td>Above-7</td>\n",
       "      <td>L</td>\n",
       "    </tr>\n",
       "    <tr>\n",
       "      <th>4</th>\n",
       "      <td>M</td>\n",
       "      <td>KW</td>\n",
       "      <td>KuwaIT</td>\n",
       "      <td>lowerlevel</td>\n",
       "      <td>G-04</td>\n",
       "      <td>A</td>\n",
       "      <td>IT</td>\n",
       "      <td>F</td>\n",
       "      <td>Father</td>\n",
       "      <td>40</td>\n",
       "      <td>50</td>\n",
       "      <td>12</td>\n",
       "      <td>50</td>\n",
       "      <td>No</td>\n",
       "      <td>Bad</td>\n",
       "      <td>Above-7</td>\n",
       "      <td>M</td>\n",
       "    </tr>\n",
       "    <tr>\n",
       "      <th>...</th>\n",
       "      <td>...</td>\n",
       "      <td>...</td>\n",
       "      <td>...</td>\n",
       "      <td>...</td>\n",
       "      <td>...</td>\n",
       "      <td>...</td>\n",
       "      <td>...</td>\n",
       "      <td>...</td>\n",
       "      <td>...</td>\n",
       "      <td>...</td>\n",
       "      <td>...</td>\n",
       "      <td>...</td>\n",
       "      <td>...</td>\n",
       "      <td>...</td>\n",
       "      <td>...</td>\n",
       "      <td>...</td>\n",
       "      <td>...</td>\n",
       "    </tr>\n",
       "    <tr>\n",
       "      <th>475</th>\n",
       "      <td>F</td>\n",
       "      <td>Jordan</td>\n",
       "      <td>Jordan</td>\n",
       "      <td>MiddleSchool</td>\n",
       "      <td>G-08</td>\n",
       "      <td>A</td>\n",
       "      <td>Chemistry</td>\n",
       "      <td>S</td>\n",
       "      <td>Father</td>\n",
       "      <td>5</td>\n",
       "      <td>4</td>\n",
       "      <td>5</td>\n",
       "      <td>8</td>\n",
       "      <td>No</td>\n",
       "      <td>Bad</td>\n",
       "      <td>Above-7</td>\n",
       "      <td>L</td>\n",
       "    </tr>\n",
       "    <tr>\n",
       "      <th>476</th>\n",
       "      <td>F</td>\n",
       "      <td>Jordan</td>\n",
       "      <td>Jordan</td>\n",
       "      <td>MiddleSchool</td>\n",
       "      <td>G-08</td>\n",
       "      <td>A</td>\n",
       "      <td>Geology</td>\n",
       "      <td>F</td>\n",
       "      <td>Father</td>\n",
       "      <td>50</td>\n",
       "      <td>77</td>\n",
       "      <td>14</td>\n",
       "      <td>28</td>\n",
       "      <td>No</td>\n",
       "      <td>Bad</td>\n",
       "      <td>Under-7</td>\n",
       "      <td>M</td>\n",
       "    </tr>\n",
       "    <tr>\n",
       "      <th>477</th>\n",
       "      <td>F</td>\n",
       "      <td>Jordan</td>\n",
       "      <td>Jordan</td>\n",
       "      <td>MiddleSchool</td>\n",
       "      <td>G-08</td>\n",
       "      <td>A</td>\n",
       "      <td>Geology</td>\n",
       "      <td>S</td>\n",
       "      <td>Father</td>\n",
       "      <td>55</td>\n",
       "      <td>74</td>\n",
       "      <td>25</td>\n",
       "      <td>29</td>\n",
       "      <td>No</td>\n",
       "      <td>Bad</td>\n",
       "      <td>Under-7</td>\n",
       "      <td>M</td>\n",
       "    </tr>\n",
       "    <tr>\n",
       "      <th>478</th>\n",
       "      <td>F</td>\n",
       "      <td>Jordan</td>\n",
       "      <td>Jordan</td>\n",
       "      <td>MiddleSchool</td>\n",
       "      <td>G-08</td>\n",
       "      <td>A</td>\n",
       "      <td>History</td>\n",
       "      <td>F</td>\n",
       "      <td>Father</td>\n",
       "      <td>30</td>\n",
       "      <td>17</td>\n",
       "      <td>14</td>\n",
       "      <td>57</td>\n",
       "      <td>No</td>\n",
       "      <td>Bad</td>\n",
       "      <td>Above-7</td>\n",
       "      <td>L</td>\n",
       "    </tr>\n",
       "    <tr>\n",
       "      <th>479</th>\n",
       "      <td>F</td>\n",
       "      <td>Jordan</td>\n",
       "      <td>Jordan</td>\n",
       "      <td>MiddleSchool</td>\n",
       "      <td>G-08</td>\n",
       "      <td>A</td>\n",
       "      <td>History</td>\n",
       "      <td>S</td>\n",
       "      <td>Father</td>\n",
       "      <td>35</td>\n",
       "      <td>14</td>\n",
       "      <td>23</td>\n",
       "      <td>62</td>\n",
       "      <td>No</td>\n",
       "      <td>Bad</td>\n",
       "      <td>Above-7</td>\n",
       "      <td>L</td>\n",
       "    </tr>\n",
       "  </tbody>\n",
       "</table>\n",
       "<p>480 rows × 17 columns</p>\n",
       "</div>"
      ],
      "text/plain": [
       "    gender NationalITy PlaceofBirth       StageID GradeID SectionID  \\\n",
       "0        M          KW       KuwaIT    lowerlevel    G-04         A   \n",
       "1        M          KW       KuwaIT    lowerlevel    G-04         A   \n",
       "2        M          KW       KuwaIT    lowerlevel    G-04         A   \n",
       "3        M          KW       KuwaIT    lowerlevel    G-04         A   \n",
       "4        M          KW       KuwaIT    lowerlevel    G-04         A   \n",
       "..     ...         ...          ...           ...     ...       ...   \n",
       "475      F      Jordan       Jordan  MiddleSchool    G-08         A   \n",
       "476      F      Jordan       Jordan  MiddleSchool    G-08         A   \n",
       "477      F      Jordan       Jordan  MiddleSchool    G-08         A   \n",
       "478      F      Jordan       Jordan  MiddleSchool    G-08         A   \n",
       "479      F      Jordan       Jordan  MiddleSchool    G-08         A   \n",
       "\n",
       "         Topic Semester Relation  raisedhands  VisITedResources  \\\n",
       "0           IT        F   Father           15                16   \n",
       "1           IT        F   Father           20                20   \n",
       "2           IT        F   Father           10                 7   \n",
       "3           IT        F   Father           30                25   \n",
       "4           IT        F   Father           40                50   \n",
       "..         ...      ...      ...          ...               ...   \n",
       "475  Chemistry        S   Father            5                 4   \n",
       "476    Geology        F   Father           50                77   \n",
       "477    Geology        S   Father           55                74   \n",
       "478    History        F   Father           30                17   \n",
       "479    History        S   Father           35                14   \n",
       "\n",
       "     AnnouncementsView  Discussion ParentAnsweringSurvey  \\\n",
       "0                    2          20                   Yes   \n",
       "1                    3          25                   Yes   \n",
       "2                    0          30                    No   \n",
       "3                    5          35                    No   \n",
       "4                   12          50                    No   \n",
       "..                 ...         ...                   ...   \n",
       "475                  5           8                    No   \n",
       "476                 14          28                    No   \n",
       "477                 25          29                    No   \n",
       "478                 14          57                    No   \n",
       "479                 23          62                    No   \n",
       "\n",
       "    ParentschoolSatisfaction StudentAbsenceDays Class  \n",
       "0                       Good            Under-7     M  \n",
       "1                       Good            Under-7     M  \n",
       "2                        Bad            Above-7     L  \n",
       "3                        Bad            Above-7     L  \n",
       "4                        Bad            Above-7     M  \n",
       "..                       ...                ...   ...  \n",
       "475                      Bad            Above-7     L  \n",
       "476                      Bad            Under-7     M  \n",
       "477                      Bad            Under-7     M  \n",
       "478                      Bad            Above-7     L  \n",
       "479                      Bad            Above-7     L  \n",
       "\n",
       "[480 rows x 17 columns]"
      ]
     },
     "execution_count": 3,
     "metadata": {},
     "output_type": "execute_result"
    }
   ],
   "source": [
    "df"
   ]
  },
  {
   "cell_type": "markdown",
   "id": "6ee59d79",
   "metadata": {},
   "source": [
    "# changing all column names to lower case"
   ]
  },
  {
   "cell_type": "code",
   "execution_count": 4,
   "id": "5a5f2295",
   "metadata": {},
   "outputs": [],
   "source": [
    "df.columns=[i.lower().strip() for i in df.columns]"
   ]
  },
  {
   "cell_type": "code",
   "execution_count": 5,
   "id": "7cffd132",
   "metadata": {},
   "outputs": [
    {
     "data": {
      "text/html": [
       "<div>\n",
       "<style scoped>\n",
       "    .dataframe tbody tr th:only-of-type {\n",
       "        vertical-align: middle;\n",
       "    }\n",
       "\n",
       "    .dataframe tbody tr th {\n",
       "        vertical-align: top;\n",
       "    }\n",
       "\n",
       "    .dataframe thead th {\n",
       "        text-align: right;\n",
       "    }\n",
       "</style>\n",
       "<table border=\"1\" class=\"dataframe\">\n",
       "  <thead>\n",
       "    <tr style=\"text-align: right;\">\n",
       "      <th></th>\n",
       "      <th>gender</th>\n",
       "      <th>nationality</th>\n",
       "      <th>placeofbirth</th>\n",
       "      <th>stageid</th>\n",
       "      <th>gradeid</th>\n",
       "      <th>sectionid</th>\n",
       "      <th>topic</th>\n",
       "      <th>semester</th>\n",
       "      <th>relation</th>\n",
       "      <th>raisedhands</th>\n",
       "      <th>visitedresources</th>\n",
       "      <th>announcementsview</th>\n",
       "      <th>discussion</th>\n",
       "      <th>parentansweringsurvey</th>\n",
       "      <th>parentschoolsatisfaction</th>\n",
       "      <th>studentabsencedays</th>\n",
       "      <th>class</th>\n",
       "    </tr>\n",
       "  </thead>\n",
       "  <tbody>\n",
       "    <tr>\n",
       "      <th>0</th>\n",
       "      <td>M</td>\n",
       "      <td>KW</td>\n",
       "      <td>KuwaIT</td>\n",
       "      <td>lowerlevel</td>\n",
       "      <td>G-04</td>\n",
       "      <td>A</td>\n",
       "      <td>IT</td>\n",
       "      <td>F</td>\n",
       "      <td>Father</td>\n",
       "      <td>15</td>\n",
       "      <td>16</td>\n",
       "      <td>2</td>\n",
       "      <td>20</td>\n",
       "      <td>Yes</td>\n",
       "      <td>Good</td>\n",
       "      <td>Under-7</td>\n",
       "      <td>M</td>\n",
       "    </tr>\n",
       "    <tr>\n",
       "      <th>1</th>\n",
       "      <td>M</td>\n",
       "      <td>KW</td>\n",
       "      <td>KuwaIT</td>\n",
       "      <td>lowerlevel</td>\n",
       "      <td>G-04</td>\n",
       "      <td>A</td>\n",
       "      <td>IT</td>\n",
       "      <td>F</td>\n",
       "      <td>Father</td>\n",
       "      <td>20</td>\n",
       "      <td>20</td>\n",
       "      <td>3</td>\n",
       "      <td>25</td>\n",
       "      <td>Yes</td>\n",
       "      <td>Good</td>\n",
       "      <td>Under-7</td>\n",
       "      <td>M</td>\n",
       "    </tr>\n",
       "    <tr>\n",
       "      <th>2</th>\n",
       "      <td>M</td>\n",
       "      <td>KW</td>\n",
       "      <td>KuwaIT</td>\n",
       "      <td>lowerlevel</td>\n",
       "      <td>G-04</td>\n",
       "      <td>A</td>\n",
       "      <td>IT</td>\n",
       "      <td>F</td>\n",
       "      <td>Father</td>\n",
       "      <td>10</td>\n",
       "      <td>7</td>\n",
       "      <td>0</td>\n",
       "      <td>30</td>\n",
       "      <td>No</td>\n",
       "      <td>Bad</td>\n",
       "      <td>Above-7</td>\n",
       "      <td>L</td>\n",
       "    </tr>\n",
       "    <tr>\n",
       "      <th>3</th>\n",
       "      <td>M</td>\n",
       "      <td>KW</td>\n",
       "      <td>KuwaIT</td>\n",
       "      <td>lowerlevel</td>\n",
       "      <td>G-04</td>\n",
       "      <td>A</td>\n",
       "      <td>IT</td>\n",
       "      <td>F</td>\n",
       "      <td>Father</td>\n",
       "      <td>30</td>\n",
       "      <td>25</td>\n",
       "      <td>5</td>\n",
       "      <td>35</td>\n",
       "      <td>No</td>\n",
       "      <td>Bad</td>\n",
       "      <td>Above-7</td>\n",
       "      <td>L</td>\n",
       "    </tr>\n",
       "    <tr>\n",
       "      <th>4</th>\n",
       "      <td>M</td>\n",
       "      <td>KW</td>\n",
       "      <td>KuwaIT</td>\n",
       "      <td>lowerlevel</td>\n",
       "      <td>G-04</td>\n",
       "      <td>A</td>\n",
       "      <td>IT</td>\n",
       "      <td>F</td>\n",
       "      <td>Father</td>\n",
       "      <td>40</td>\n",
       "      <td>50</td>\n",
       "      <td>12</td>\n",
       "      <td>50</td>\n",
       "      <td>No</td>\n",
       "      <td>Bad</td>\n",
       "      <td>Above-7</td>\n",
       "      <td>M</td>\n",
       "    </tr>\n",
       "    <tr>\n",
       "      <th>...</th>\n",
       "      <td>...</td>\n",
       "      <td>...</td>\n",
       "      <td>...</td>\n",
       "      <td>...</td>\n",
       "      <td>...</td>\n",
       "      <td>...</td>\n",
       "      <td>...</td>\n",
       "      <td>...</td>\n",
       "      <td>...</td>\n",
       "      <td>...</td>\n",
       "      <td>...</td>\n",
       "      <td>...</td>\n",
       "      <td>...</td>\n",
       "      <td>...</td>\n",
       "      <td>...</td>\n",
       "      <td>...</td>\n",
       "      <td>...</td>\n",
       "    </tr>\n",
       "    <tr>\n",
       "      <th>475</th>\n",
       "      <td>F</td>\n",
       "      <td>Jordan</td>\n",
       "      <td>Jordan</td>\n",
       "      <td>MiddleSchool</td>\n",
       "      <td>G-08</td>\n",
       "      <td>A</td>\n",
       "      <td>Chemistry</td>\n",
       "      <td>S</td>\n",
       "      <td>Father</td>\n",
       "      <td>5</td>\n",
       "      <td>4</td>\n",
       "      <td>5</td>\n",
       "      <td>8</td>\n",
       "      <td>No</td>\n",
       "      <td>Bad</td>\n",
       "      <td>Above-7</td>\n",
       "      <td>L</td>\n",
       "    </tr>\n",
       "    <tr>\n",
       "      <th>476</th>\n",
       "      <td>F</td>\n",
       "      <td>Jordan</td>\n",
       "      <td>Jordan</td>\n",
       "      <td>MiddleSchool</td>\n",
       "      <td>G-08</td>\n",
       "      <td>A</td>\n",
       "      <td>Geology</td>\n",
       "      <td>F</td>\n",
       "      <td>Father</td>\n",
       "      <td>50</td>\n",
       "      <td>77</td>\n",
       "      <td>14</td>\n",
       "      <td>28</td>\n",
       "      <td>No</td>\n",
       "      <td>Bad</td>\n",
       "      <td>Under-7</td>\n",
       "      <td>M</td>\n",
       "    </tr>\n",
       "    <tr>\n",
       "      <th>477</th>\n",
       "      <td>F</td>\n",
       "      <td>Jordan</td>\n",
       "      <td>Jordan</td>\n",
       "      <td>MiddleSchool</td>\n",
       "      <td>G-08</td>\n",
       "      <td>A</td>\n",
       "      <td>Geology</td>\n",
       "      <td>S</td>\n",
       "      <td>Father</td>\n",
       "      <td>55</td>\n",
       "      <td>74</td>\n",
       "      <td>25</td>\n",
       "      <td>29</td>\n",
       "      <td>No</td>\n",
       "      <td>Bad</td>\n",
       "      <td>Under-7</td>\n",
       "      <td>M</td>\n",
       "    </tr>\n",
       "    <tr>\n",
       "      <th>478</th>\n",
       "      <td>F</td>\n",
       "      <td>Jordan</td>\n",
       "      <td>Jordan</td>\n",
       "      <td>MiddleSchool</td>\n",
       "      <td>G-08</td>\n",
       "      <td>A</td>\n",
       "      <td>History</td>\n",
       "      <td>F</td>\n",
       "      <td>Father</td>\n",
       "      <td>30</td>\n",
       "      <td>17</td>\n",
       "      <td>14</td>\n",
       "      <td>57</td>\n",
       "      <td>No</td>\n",
       "      <td>Bad</td>\n",
       "      <td>Above-7</td>\n",
       "      <td>L</td>\n",
       "    </tr>\n",
       "    <tr>\n",
       "      <th>479</th>\n",
       "      <td>F</td>\n",
       "      <td>Jordan</td>\n",
       "      <td>Jordan</td>\n",
       "      <td>MiddleSchool</td>\n",
       "      <td>G-08</td>\n",
       "      <td>A</td>\n",
       "      <td>History</td>\n",
       "      <td>S</td>\n",
       "      <td>Father</td>\n",
       "      <td>35</td>\n",
       "      <td>14</td>\n",
       "      <td>23</td>\n",
       "      <td>62</td>\n",
       "      <td>No</td>\n",
       "      <td>Bad</td>\n",
       "      <td>Above-7</td>\n",
       "      <td>L</td>\n",
       "    </tr>\n",
       "  </tbody>\n",
       "</table>\n",
       "<p>480 rows × 17 columns</p>\n",
       "</div>"
      ],
      "text/plain": [
       "    gender nationality placeofbirth       stageid gradeid sectionid  \\\n",
       "0        M          KW       KuwaIT    lowerlevel    G-04         A   \n",
       "1        M          KW       KuwaIT    lowerlevel    G-04         A   \n",
       "2        M          KW       KuwaIT    lowerlevel    G-04         A   \n",
       "3        M          KW       KuwaIT    lowerlevel    G-04         A   \n",
       "4        M          KW       KuwaIT    lowerlevel    G-04         A   \n",
       "..     ...         ...          ...           ...     ...       ...   \n",
       "475      F      Jordan       Jordan  MiddleSchool    G-08         A   \n",
       "476      F      Jordan       Jordan  MiddleSchool    G-08         A   \n",
       "477      F      Jordan       Jordan  MiddleSchool    G-08         A   \n",
       "478      F      Jordan       Jordan  MiddleSchool    G-08         A   \n",
       "479      F      Jordan       Jordan  MiddleSchool    G-08         A   \n",
       "\n",
       "         topic semester relation  raisedhands  visitedresources  \\\n",
       "0           IT        F   Father           15                16   \n",
       "1           IT        F   Father           20                20   \n",
       "2           IT        F   Father           10                 7   \n",
       "3           IT        F   Father           30                25   \n",
       "4           IT        F   Father           40                50   \n",
       "..         ...      ...      ...          ...               ...   \n",
       "475  Chemistry        S   Father            5                 4   \n",
       "476    Geology        F   Father           50                77   \n",
       "477    Geology        S   Father           55                74   \n",
       "478    History        F   Father           30                17   \n",
       "479    History        S   Father           35                14   \n",
       "\n",
       "     announcementsview  discussion parentansweringsurvey  \\\n",
       "0                    2          20                   Yes   \n",
       "1                    3          25                   Yes   \n",
       "2                    0          30                    No   \n",
       "3                    5          35                    No   \n",
       "4                   12          50                    No   \n",
       "..                 ...         ...                   ...   \n",
       "475                  5           8                    No   \n",
       "476                 14          28                    No   \n",
       "477                 25          29                    No   \n",
       "478                 14          57                    No   \n",
       "479                 23          62                    No   \n",
       "\n",
       "    parentschoolsatisfaction studentabsencedays class  \n",
       "0                       Good            Under-7     M  \n",
       "1                       Good            Under-7     M  \n",
       "2                        Bad            Above-7     L  \n",
       "3                        Bad            Above-7     L  \n",
       "4                        Bad            Above-7     M  \n",
       "..                       ...                ...   ...  \n",
       "475                      Bad            Above-7     L  \n",
       "476                      Bad            Under-7     M  \n",
       "477                      Bad            Under-7     M  \n",
       "478                      Bad            Above-7     L  \n",
       "479                      Bad            Above-7     L  \n",
       "\n",
       "[480 rows x 17 columns]"
      ]
     },
     "execution_count": 5,
     "metadata": {},
     "output_type": "execute_result"
    }
   ],
   "source": [
    "df"
   ]
  },
  {
   "cell_type": "markdown",
   "id": "dedb5c1e",
   "metadata": {},
   "source": [
    "# EDA"
   ]
  },
  {
   "cell_type": "code",
   "execution_count": 208,
   "id": "5272ab32",
   "metadata": {},
   "outputs": [
    {
     "data": {
      "text/html": [
       "<div>\n",
       "<style scoped>\n",
       "    .dataframe tbody tr th:only-of-type {\n",
       "        vertical-align: middle;\n",
       "    }\n",
       "\n",
       "    .dataframe tbody tr th {\n",
       "        vertical-align: top;\n",
       "    }\n",
       "\n",
       "    .dataframe thead th {\n",
       "        text-align: right;\n",
       "    }\n",
       "</style>\n",
       "<table border=\"1\" class=\"dataframe\">\n",
       "  <thead>\n",
       "    <tr style=\"text-align: right;\">\n",
       "      <th></th>\n",
       "      <th>raisedhands</th>\n",
       "      <th>visitedresources</th>\n",
       "      <th>announcementsview</th>\n",
       "      <th>discussion</th>\n",
       "    </tr>\n",
       "  </thead>\n",
       "  <tbody>\n",
       "    <tr>\n",
       "      <th>0</th>\n",
       "      <td>15</td>\n",
       "      <td>16</td>\n",
       "      <td>2</td>\n",
       "      <td>20</td>\n",
       "    </tr>\n",
       "    <tr>\n",
       "      <th>1</th>\n",
       "      <td>20</td>\n",
       "      <td>20</td>\n",
       "      <td>3</td>\n",
       "      <td>25</td>\n",
       "    </tr>\n",
       "    <tr>\n",
       "      <th>2</th>\n",
       "      <td>10</td>\n",
       "      <td>7</td>\n",
       "      <td>0</td>\n",
       "      <td>30</td>\n",
       "    </tr>\n",
       "    <tr>\n",
       "      <th>3</th>\n",
       "      <td>30</td>\n",
       "      <td>25</td>\n",
       "      <td>5</td>\n",
       "      <td>35</td>\n",
       "    </tr>\n",
       "    <tr>\n",
       "      <th>4</th>\n",
       "      <td>40</td>\n",
       "      <td>50</td>\n",
       "      <td>12</td>\n",
       "      <td>50</td>\n",
       "    </tr>\n",
       "    <tr>\n",
       "      <th>...</th>\n",
       "      <td>...</td>\n",
       "      <td>...</td>\n",
       "      <td>...</td>\n",
       "      <td>...</td>\n",
       "    </tr>\n",
       "    <tr>\n",
       "      <th>475</th>\n",
       "      <td>5</td>\n",
       "      <td>4</td>\n",
       "      <td>5</td>\n",
       "      <td>8</td>\n",
       "    </tr>\n",
       "    <tr>\n",
       "      <th>476</th>\n",
       "      <td>50</td>\n",
       "      <td>77</td>\n",
       "      <td>14</td>\n",
       "      <td>28</td>\n",
       "    </tr>\n",
       "    <tr>\n",
       "      <th>477</th>\n",
       "      <td>55</td>\n",
       "      <td>74</td>\n",
       "      <td>25</td>\n",
       "      <td>29</td>\n",
       "    </tr>\n",
       "    <tr>\n",
       "      <th>478</th>\n",
       "      <td>30</td>\n",
       "      <td>17</td>\n",
       "      <td>14</td>\n",
       "      <td>57</td>\n",
       "    </tr>\n",
       "    <tr>\n",
       "      <th>479</th>\n",
       "      <td>35</td>\n",
       "      <td>14</td>\n",
       "      <td>23</td>\n",
       "      <td>62</td>\n",
       "    </tr>\n",
       "  </tbody>\n",
       "</table>\n",
       "<p>480 rows × 4 columns</p>\n",
       "</div>"
      ],
      "text/plain": [
       "     raisedhands  visitedresources  announcementsview  discussion\n",
       "0             15                16                  2          20\n",
       "1             20                20                  3          25\n",
       "2             10                 7                  0          30\n",
       "3             30                25                  5          35\n",
       "4             40                50                 12          50\n",
       "..           ...               ...                ...         ...\n",
       "475            5                 4                  5           8\n",
       "476           50                77                 14          28\n",
       "477           55                74                 25          29\n",
       "478           30                17                 14          57\n",
       "479           35                14                 23          62\n",
       "\n",
       "[480 rows x 4 columns]"
      ]
     },
     "execution_count": 208,
     "metadata": {},
     "output_type": "execute_result"
    }
   ],
   "source": [
    "num = df.select_dtypes(exclude='object')\n",
    "num "
   ]
  },
  {
   "cell_type": "code",
   "execution_count": 209,
   "id": "52518892",
   "metadata": {},
   "outputs": [
    {
     "data": {
      "text/html": [
       "<div>\n",
       "<style scoped>\n",
       "    .dataframe tbody tr th:only-of-type {\n",
       "        vertical-align: middle;\n",
       "    }\n",
       "\n",
       "    .dataframe tbody tr th {\n",
       "        vertical-align: top;\n",
       "    }\n",
       "\n",
       "    .dataframe thead th {\n",
       "        text-align: right;\n",
       "    }\n",
       "</style>\n",
       "<table border=\"1\" class=\"dataframe\">\n",
       "  <thead>\n",
       "    <tr style=\"text-align: right;\">\n",
       "      <th></th>\n",
       "      <th>gender</th>\n",
       "      <th>nationality</th>\n",
       "      <th>placeofbirth</th>\n",
       "      <th>stageid</th>\n",
       "      <th>gradeid</th>\n",
       "      <th>sectionid</th>\n",
       "      <th>topic</th>\n",
       "      <th>semester</th>\n",
       "      <th>relation</th>\n",
       "      <th>parentansweringsurvey</th>\n",
       "      <th>parentschoolsatisfaction</th>\n",
       "      <th>studentabsencedays</th>\n",
       "      <th>class</th>\n",
       "    </tr>\n",
       "  </thead>\n",
       "  <tbody>\n",
       "    <tr>\n",
       "      <th>0</th>\n",
       "      <td>M</td>\n",
       "      <td>KW</td>\n",
       "      <td>KuwaIT</td>\n",
       "      <td>lowerlevel</td>\n",
       "      <td>G-04</td>\n",
       "      <td>A</td>\n",
       "      <td>IT</td>\n",
       "      <td>F</td>\n",
       "      <td>Father</td>\n",
       "      <td>Yes</td>\n",
       "      <td>Good</td>\n",
       "      <td>Under-7</td>\n",
       "      <td>1</td>\n",
       "    </tr>\n",
       "    <tr>\n",
       "      <th>1</th>\n",
       "      <td>M</td>\n",
       "      <td>KW</td>\n",
       "      <td>KuwaIT</td>\n",
       "      <td>lowerlevel</td>\n",
       "      <td>G-04</td>\n",
       "      <td>A</td>\n",
       "      <td>IT</td>\n",
       "      <td>F</td>\n",
       "      <td>Father</td>\n",
       "      <td>Yes</td>\n",
       "      <td>Good</td>\n",
       "      <td>Under-7</td>\n",
       "      <td>1</td>\n",
       "    </tr>\n",
       "    <tr>\n",
       "      <th>2</th>\n",
       "      <td>M</td>\n",
       "      <td>KW</td>\n",
       "      <td>KuwaIT</td>\n",
       "      <td>lowerlevel</td>\n",
       "      <td>G-04</td>\n",
       "      <td>A</td>\n",
       "      <td>IT</td>\n",
       "      <td>F</td>\n",
       "      <td>Father</td>\n",
       "      <td>No</td>\n",
       "      <td>Bad</td>\n",
       "      <td>Above-7</td>\n",
       "      <td>0</td>\n",
       "    </tr>\n",
       "    <tr>\n",
       "      <th>3</th>\n",
       "      <td>M</td>\n",
       "      <td>KW</td>\n",
       "      <td>KuwaIT</td>\n",
       "      <td>lowerlevel</td>\n",
       "      <td>G-04</td>\n",
       "      <td>A</td>\n",
       "      <td>IT</td>\n",
       "      <td>F</td>\n",
       "      <td>Father</td>\n",
       "      <td>No</td>\n",
       "      <td>Bad</td>\n",
       "      <td>Above-7</td>\n",
       "      <td>0</td>\n",
       "    </tr>\n",
       "    <tr>\n",
       "      <th>4</th>\n",
       "      <td>M</td>\n",
       "      <td>KW</td>\n",
       "      <td>KuwaIT</td>\n",
       "      <td>lowerlevel</td>\n",
       "      <td>G-04</td>\n",
       "      <td>A</td>\n",
       "      <td>IT</td>\n",
       "      <td>F</td>\n",
       "      <td>Father</td>\n",
       "      <td>No</td>\n",
       "      <td>Bad</td>\n",
       "      <td>Above-7</td>\n",
       "      <td>1</td>\n",
       "    </tr>\n",
       "    <tr>\n",
       "      <th>...</th>\n",
       "      <td>...</td>\n",
       "      <td>...</td>\n",
       "      <td>...</td>\n",
       "      <td>...</td>\n",
       "      <td>...</td>\n",
       "      <td>...</td>\n",
       "      <td>...</td>\n",
       "      <td>...</td>\n",
       "      <td>...</td>\n",
       "      <td>...</td>\n",
       "      <td>...</td>\n",
       "      <td>...</td>\n",
       "      <td>...</td>\n",
       "    </tr>\n",
       "    <tr>\n",
       "      <th>475</th>\n",
       "      <td>F</td>\n",
       "      <td>Jordan</td>\n",
       "      <td>Jordan</td>\n",
       "      <td>MiddleSchool</td>\n",
       "      <td>G-08</td>\n",
       "      <td>A</td>\n",
       "      <td>Chemistry</td>\n",
       "      <td>S</td>\n",
       "      <td>Father</td>\n",
       "      <td>No</td>\n",
       "      <td>Bad</td>\n",
       "      <td>Above-7</td>\n",
       "      <td>0</td>\n",
       "    </tr>\n",
       "    <tr>\n",
       "      <th>476</th>\n",
       "      <td>F</td>\n",
       "      <td>Jordan</td>\n",
       "      <td>Jordan</td>\n",
       "      <td>MiddleSchool</td>\n",
       "      <td>G-08</td>\n",
       "      <td>A</td>\n",
       "      <td>Geology</td>\n",
       "      <td>F</td>\n",
       "      <td>Father</td>\n",
       "      <td>No</td>\n",
       "      <td>Bad</td>\n",
       "      <td>Under-7</td>\n",
       "      <td>1</td>\n",
       "    </tr>\n",
       "    <tr>\n",
       "      <th>477</th>\n",
       "      <td>F</td>\n",
       "      <td>Jordan</td>\n",
       "      <td>Jordan</td>\n",
       "      <td>MiddleSchool</td>\n",
       "      <td>G-08</td>\n",
       "      <td>A</td>\n",
       "      <td>Geology</td>\n",
       "      <td>S</td>\n",
       "      <td>Father</td>\n",
       "      <td>No</td>\n",
       "      <td>Bad</td>\n",
       "      <td>Under-7</td>\n",
       "      <td>1</td>\n",
       "    </tr>\n",
       "    <tr>\n",
       "      <th>478</th>\n",
       "      <td>F</td>\n",
       "      <td>Jordan</td>\n",
       "      <td>Jordan</td>\n",
       "      <td>MiddleSchool</td>\n",
       "      <td>G-08</td>\n",
       "      <td>A</td>\n",
       "      <td>History</td>\n",
       "      <td>F</td>\n",
       "      <td>Father</td>\n",
       "      <td>No</td>\n",
       "      <td>Bad</td>\n",
       "      <td>Above-7</td>\n",
       "      <td>0</td>\n",
       "    </tr>\n",
       "    <tr>\n",
       "      <th>479</th>\n",
       "      <td>F</td>\n",
       "      <td>Jordan</td>\n",
       "      <td>Jordan</td>\n",
       "      <td>MiddleSchool</td>\n",
       "      <td>G-08</td>\n",
       "      <td>A</td>\n",
       "      <td>History</td>\n",
       "      <td>S</td>\n",
       "      <td>Father</td>\n",
       "      <td>No</td>\n",
       "      <td>Bad</td>\n",
       "      <td>Above-7</td>\n",
       "      <td>0</td>\n",
       "    </tr>\n",
       "  </tbody>\n",
       "</table>\n",
       "<p>480 rows × 13 columns</p>\n",
       "</div>"
      ],
      "text/plain": [
       "    gender nationality placeofbirth       stageid gradeid sectionid  \\\n",
       "0        M          KW       KuwaIT    lowerlevel    G-04         A   \n",
       "1        M          KW       KuwaIT    lowerlevel    G-04         A   \n",
       "2        M          KW       KuwaIT    lowerlevel    G-04         A   \n",
       "3        M          KW       KuwaIT    lowerlevel    G-04         A   \n",
       "4        M          KW       KuwaIT    lowerlevel    G-04         A   \n",
       "..     ...         ...          ...           ...     ...       ...   \n",
       "475      F      Jordan       Jordan  MiddleSchool    G-08         A   \n",
       "476      F      Jordan       Jordan  MiddleSchool    G-08         A   \n",
       "477      F      Jordan       Jordan  MiddleSchool    G-08         A   \n",
       "478      F      Jordan       Jordan  MiddleSchool    G-08         A   \n",
       "479      F      Jordan       Jordan  MiddleSchool    G-08         A   \n",
       "\n",
       "         topic semester relation parentansweringsurvey  \\\n",
       "0           IT        F   Father                   Yes   \n",
       "1           IT        F   Father                   Yes   \n",
       "2           IT        F   Father                    No   \n",
       "3           IT        F   Father                    No   \n",
       "4           IT        F   Father                    No   \n",
       "..         ...      ...      ...                   ...   \n",
       "475  Chemistry        S   Father                    No   \n",
       "476    Geology        F   Father                    No   \n",
       "477    Geology        S   Father                    No   \n",
       "478    History        F   Father                    No   \n",
       "479    History        S   Father                    No   \n",
       "\n",
       "    parentschoolsatisfaction studentabsencedays class  \n",
       "0                       Good            Under-7     1  \n",
       "1                       Good            Under-7     1  \n",
       "2                        Bad            Above-7     0  \n",
       "3                        Bad            Above-7     0  \n",
       "4                        Bad            Above-7     1  \n",
       "..                       ...                ...   ...  \n",
       "475                      Bad            Above-7     0  \n",
       "476                      Bad            Under-7     1  \n",
       "477                      Bad            Under-7     1  \n",
       "478                      Bad            Above-7     0  \n",
       "479                      Bad            Above-7     0  \n",
       "\n",
       "[480 rows x 13 columns]"
      ]
     },
     "execution_count": 209,
     "metadata": {},
     "output_type": "execute_result"
    }
   ],
   "source": [
    "cat = df.select_dtypes(include='object')\n",
    "cat"
   ]
  },
  {
   "cell_type": "markdown",
   "id": "b01f8255",
   "metadata": {},
   "source": [
    "# BASIC INFO ABOUT DATAFRAME"
   ]
  },
  {
   "cell_type": "code",
   "execution_count": 13,
   "id": "083e4af1",
   "metadata": {},
   "outputs": [
    {
     "name": "stdout",
     "output_type": "stream",
     "text": [
      "<class 'pandas.core.frame.DataFrame'>\n",
      "RangeIndex: 480 entries, 0 to 479\n",
      "Data columns (total 17 columns):\n",
      " #   Column                    Non-Null Count  Dtype \n",
      "---  ------                    --------------  ----- \n",
      " 0   gender                    480 non-null    object\n",
      " 1   nationality               480 non-null    object\n",
      " 2   placeofbirth              480 non-null    object\n",
      " 3   stageid                   480 non-null    object\n",
      " 4   gradeid                   480 non-null    object\n",
      " 5   sectionid                 480 non-null    object\n",
      " 6   topic                     480 non-null    object\n",
      " 7   semester                  480 non-null    object\n",
      " 8   relation                  480 non-null    object\n",
      " 9   raisedhands               480 non-null    int64 \n",
      " 10  visitedresources          480 non-null    int64 \n",
      " 11  announcementsview         480 non-null    int64 \n",
      " 12  discussion                480 non-null    int64 \n",
      " 13  parentansweringsurvey     480 non-null    object\n",
      " 14  parentschoolsatisfaction  480 non-null    object\n",
      " 15  studentabsencedays        480 non-null    object\n",
      " 16  class                     480 non-null    object\n",
      "dtypes: int64(4), object(13)\n",
      "memory usage: 63.9+ KB\n"
     ]
    }
   ],
   "source": [
    "df.info()"
   ]
  },
  {
   "cell_type": "code",
   "execution_count": 6,
   "id": "7e31e58e",
   "metadata": {},
   "outputs": [
    {
     "data": {
      "text/plain": [
       "Index(['gender', 'nationality', 'placeofbirth', 'stageid', 'gradeid',\n",
       "       'sectionid', 'topic', 'semester', 'relation', 'raisedhands',\n",
       "       'visitedresources', 'announcementsview', 'discussion',\n",
       "       'parentansweringsurvey', 'parentschoolsatisfaction',\n",
       "       'studentabsencedays', 'class'],\n",
       "      dtype='object')"
      ]
     },
     "execution_count": 6,
     "metadata": {},
     "output_type": "execute_result"
    }
   ],
   "source": [
    "df.columns"
   ]
  },
  {
   "cell_type": "code",
   "execution_count": 14,
   "id": "949980bf",
   "metadata": {},
   "outputs": [
    {
     "data": {
      "text/plain": [
       "M    305\n",
       "F    175\n",
       "Name: gender, dtype: int64"
      ]
     },
     "execution_count": 14,
     "metadata": {},
     "output_type": "execute_result"
    }
   ],
   "source": [
    "df['gender'].value_counts()"
   ]
  },
  {
   "cell_type": "code",
   "execution_count": 8,
   "id": "a4819402",
   "metadata": {},
   "outputs": [
    {
     "data": {
      "text/plain": [
       "M    0.635417\n",
       "F    0.364583\n",
       "Name: gender, dtype: float64"
      ]
     },
     "execution_count": 8,
     "metadata": {},
     "output_type": "execute_result"
    }
   ],
   "source": [
    "df['gender'].value_counts(normalize=True)"
   ]
  },
  {
   "cell_type": "code",
   "execution_count": 11,
   "id": "1cb56aa8",
   "metadata": {},
   "outputs": [
    {
     "data": {
      "text/plain": [
       "KW             179\n",
       "Jordan         172\n",
       "Palestine       28\n",
       "Iraq            22\n",
       "lebanon         17\n",
       "Tunis           12\n",
       "SaudiArabia     11\n",
       "Egypt            9\n",
       "Syria            7\n",
       "USA              6\n",
       "Iran             6\n",
       "Lybia            6\n",
       "Morocco          4\n",
       "venzuela         1\n",
       "Name: nationality, dtype: int64"
      ]
     },
     "execution_count": 11,
     "metadata": {},
     "output_type": "execute_result"
    }
   ],
   "source": [
    "df['nationality'].value_counts()"
   ]
  },
  {
   "cell_type": "code",
   "execution_count": 13,
   "id": "fa597286",
   "metadata": {},
   "outputs": [
    {
     "data": {
      "text/plain": [
       "KW             0.372917\n",
       "Jordan         0.358333\n",
       "Palestine      0.058333\n",
       "Iraq           0.045833\n",
       "lebanon        0.035417\n",
       "Tunis          0.025000\n",
       "SaudiArabia    0.022917\n",
       "Egypt          0.018750\n",
       "Syria          0.014583\n",
       "USA            0.012500\n",
       "Iran           0.012500\n",
       "Lybia          0.012500\n",
       "Morocco        0.008333\n",
       "venzuela       0.002083\n",
       "Name: nationality, dtype: float64"
      ]
     },
     "execution_count": 13,
     "metadata": {},
     "output_type": "execute_result"
    }
   ],
   "source": [
    "df['nationality'].value_counts(normalize=True)"
   ]
  },
  {
   "cell_type": "code",
   "execution_count": 17,
   "id": "7d228a5d",
   "metadata": {},
   "outputs": [
    {
     "data": {
      "text/plain": [
       "KuwaIT         180\n",
       "Jordan         176\n",
       "Iraq            22\n",
       "lebanon         19\n",
       "SaudiArabia     16\n",
       "USA             16\n",
       "Palestine       10\n",
       "Egypt            9\n",
       "Tunis            9\n",
       "Iran             6\n",
       "Syria            6\n",
       "Lybia            6\n",
       "Morocco          4\n",
       "venzuela         1\n",
       "Name: placeofbirth, dtype: int64"
      ]
     },
     "execution_count": 17,
     "metadata": {},
     "output_type": "execute_result"
    }
   ],
   "source": [
    "df['placeofbirth'].value_counts()"
   ]
  },
  {
   "cell_type": "code",
   "execution_count": 14,
   "id": "02e5e0f4",
   "metadata": {},
   "outputs": [
    {
     "data": {
      "text/plain": [
       "KuwaIT         0.375000\n",
       "Jordan         0.366667\n",
       "Iraq           0.045833\n",
       "lebanon        0.039583\n",
       "SaudiArabia    0.033333\n",
       "USA            0.033333\n",
       "Palestine      0.020833\n",
       "Egypt          0.018750\n",
       "Tunis          0.018750\n",
       "Iran           0.012500\n",
       "Syria          0.012500\n",
       "Lybia          0.012500\n",
       "Morocco        0.008333\n",
       "venzuela       0.002083\n",
       "Name: placeofbirth, dtype: float64"
      ]
     },
     "execution_count": 14,
     "metadata": {},
     "output_type": "execute_result"
    }
   ],
   "source": [
    "df['placeofbirth'].value_counts(normalize=True)"
   ]
  },
  {
   "cell_type": "code",
   "execution_count": 18,
   "id": "8c2f4080",
   "metadata": {},
   "outputs": [
    {
     "data": {
      "text/plain": [
       "MiddleSchool    248\n",
       "lowerlevel      199\n",
       "HighSchool       33\n",
       "Name: stageid, dtype: int64"
      ]
     },
     "execution_count": 18,
     "metadata": {},
     "output_type": "execute_result"
    }
   ],
   "source": [
    "df['stageid'].value_counts()"
   ]
  },
  {
   "cell_type": "code",
   "execution_count": 15,
   "id": "0f6046e8",
   "metadata": {},
   "outputs": [
    {
     "data": {
      "text/plain": [
       "MiddleSchool    0.516667\n",
       "lowerlevel      0.414583\n",
       "HighSchool      0.068750\n",
       "Name: stageid, dtype: float64"
      ]
     },
     "execution_count": 15,
     "metadata": {},
     "output_type": "execute_result"
    }
   ],
   "source": [
    "df['stageid'].value_counts(normalize=True)"
   ]
  },
  {
   "cell_type": "code",
   "execution_count": 19,
   "id": "80181183",
   "metadata": {},
   "outputs": [
    {
     "data": {
      "text/plain": [
       "G-02    147\n",
       "G-08    116\n",
       "G-07    101\n",
       "G-04     48\n",
       "G-06     32\n",
       "G-11     13\n",
       "G-12     11\n",
       "G-09      5\n",
       "G-10      4\n",
       "G-05      3\n",
       "Name: gradeid, dtype: int64"
      ]
     },
     "execution_count": 19,
     "metadata": {},
     "output_type": "execute_result"
    }
   ],
   "source": [
    "df['gradeid'].value_counts()"
   ]
  },
  {
   "cell_type": "code",
   "execution_count": 21,
   "id": "a1acc8a3",
   "metadata": {},
   "outputs": [
    {
     "data": {
      "text/plain": [
       "A    283\n",
       "B    167\n",
       "C     30\n",
       "Name: sectionid, dtype: int64"
      ]
     },
     "execution_count": 21,
     "metadata": {},
     "output_type": "execute_result"
    }
   ],
   "source": [
    "df['sectionid'].value_counts()"
   ]
  },
  {
   "cell_type": "code",
   "execution_count": 38,
   "id": "3e7b0d71",
   "metadata": {},
   "outputs": [
    {
     "data": {
      "text/plain": [
       "IT           95\n",
       "French       65\n",
       "Arabic       59\n",
       "Science      51\n",
       "English      45\n",
       "Biology      30\n",
       "Spanish      25\n",
       "Chemistry    24\n",
       "Geology      24\n",
       "Quran        22\n",
       "Math         21\n",
       "History      19\n",
       "Name: topic, dtype: int64"
      ]
     },
     "execution_count": 38,
     "metadata": {},
     "output_type": "execute_result"
    }
   ],
   "source": [
    "df['topic'].value_counts()"
   ]
  },
  {
   "cell_type": "code",
   "execution_count": 22,
   "id": "42f0d81f",
   "metadata": {},
   "outputs": [
    {
     "data": {
      "text/plain": [
       "F    245\n",
       "S    235\n",
       "Name: semester, dtype: int64"
      ]
     },
     "execution_count": 22,
     "metadata": {},
     "output_type": "execute_result"
    }
   ],
   "source": [
    "df['semester'].value_counts()"
   ]
  },
  {
   "cell_type": "code",
   "execution_count": 23,
   "id": "ff59c2f5",
   "metadata": {},
   "outputs": [
    {
     "data": {
      "text/plain": [
       "Father    283\n",
       "Mum       197\n",
       "Name: relation, dtype: int64"
      ]
     },
     "execution_count": 23,
     "metadata": {},
     "output_type": "execute_result"
    }
   ],
   "source": [
    "df['relation'].value_counts()"
   ]
  },
  {
   "cell_type": "code",
   "execution_count": 25,
   "id": "adb4f3bf",
   "metadata": {},
   "outputs": [
    {
     "data": {
      "text/plain": [
       "count    480.000000\n",
       "mean      54.797917\n",
       "std       33.080007\n",
       "min        0.000000\n",
       "25%       20.000000\n",
       "50%       65.000000\n",
       "75%       84.000000\n",
       "max       99.000000\n",
       "Name: visitedresources, dtype: float64"
      ]
     },
     "execution_count": 25,
     "metadata": {},
     "output_type": "execute_result"
    }
   ],
   "source": [
    "df['visitedresources'].describe()"
   ]
  },
  {
   "cell_type": "code",
   "execution_count": 26,
   "id": "21f97e35",
   "metadata": {},
   "outputs": [
    {
     "data": {
      "text/plain": [
       "count    480.000000\n",
       "mean      37.918750\n",
       "std       26.611244\n",
       "min        0.000000\n",
       "25%       14.000000\n",
       "50%       33.000000\n",
       "75%       58.000000\n",
       "max       98.000000\n",
       "Name: announcementsview, dtype: float64"
      ]
     },
     "execution_count": 26,
     "metadata": {},
     "output_type": "execute_result"
    }
   ],
   "source": [
    "df['announcementsview'].describe()"
   ]
  },
  {
   "cell_type": "code",
   "execution_count": 27,
   "id": "f654f1b5",
   "metadata": {},
   "outputs": [
    {
     "data": {
      "text/plain": [
       "count    480.000000\n",
       "mean      43.283333\n",
       "std       27.637735\n",
       "min        1.000000\n",
       "25%       20.000000\n",
       "50%       39.000000\n",
       "75%       70.000000\n",
       "max       99.000000\n",
       "Name: discussion, dtype: float64"
      ]
     },
     "execution_count": 27,
     "metadata": {},
     "output_type": "execute_result"
    }
   ],
   "source": [
    "df['discussion'].describe()"
   ]
  },
  {
   "cell_type": "code",
   "execution_count": 28,
   "id": "e8cb3f2c",
   "metadata": {},
   "outputs": [
    {
     "data": {
      "text/plain": [
       "Yes    270\n",
       "No     210\n",
       "Name: parentansweringsurvey, dtype: int64"
      ]
     },
     "execution_count": 28,
     "metadata": {},
     "output_type": "execute_result"
    }
   ],
   "source": [
    "df['parentansweringsurvey'].value_counts()"
   ]
  },
  {
   "cell_type": "code",
   "execution_count": 29,
   "id": "af29d0fa",
   "metadata": {},
   "outputs": [
    {
     "data": {
      "text/plain": [
       "Good    292\n",
       "Bad     188\n",
       "Name: parentschoolsatisfaction, dtype: int64"
      ]
     },
     "execution_count": 29,
     "metadata": {},
     "output_type": "execute_result"
    }
   ],
   "source": [
    "df['parentschoolsatisfaction'].value_counts()"
   ]
  },
  {
   "cell_type": "code",
   "execution_count": 30,
   "id": "662f20a3",
   "metadata": {},
   "outputs": [
    {
     "data": {
      "text/plain": [
       "Under-7    289\n",
       "Above-7    191\n",
       "Name: studentabsencedays, dtype: int64"
      ]
     },
     "execution_count": 30,
     "metadata": {},
     "output_type": "execute_result"
    }
   ],
   "source": [
    "df['studentabsencedays'].value_counts()"
   ]
  },
  {
   "cell_type": "code",
   "execution_count": 31,
   "id": "f75b3310",
   "metadata": {},
   "outputs": [
    {
     "data": {
      "text/plain": [
       "M    211\n",
       "H    142\n",
       "L    127\n",
       "Name: class, dtype: int64"
      ]
     },
     "execution_count": 31,
     "metadata": {},
     "output_type": "execute_result"
    }
   ],
   "source": [
    "df['class'].value_counts()"
   ]
  },
  {
   "cell_type": "code",
   "execution_count": null,
   "id": "f48a309c",
   "metadata": {},
   "outputs": [],
   "source": []
  },
  {
   "cell_type": "code",
   "execution_count": null,
   "id": "6a27dfb9",
   "metadata": {},
   "outputs": [],
   "source": []
  },
  {
   "cell_type": "markdown",
   "id": "0c6a06ce",
   "metadata": {},
   "source": [
    "# labelencoding"
   ]
  },
  {
   "cell_type": "code",
   "execution_count": 16,
   "id": "33f0a8c7",
   "metadata": {},
   "outputs": [],
   "source": [
    "from sklearn.preprocessing import LabelEncoder"
   ]
  },
  {
   "cell_type": "code",
   "execution_count": 17,
   "id": "e24c9130",
   "metadata": {},
   "outputs": [],
   "source": [
    "le=LabelEncoder()\n",
    "df.stageid=le.fit_transform(df.stageid)"
   ]
  },
  {
   "cell_type": "code",
   "execution_count": 18,
   "id": "4cc6c0ec",
   "metadata": {},
   "outputs": [
    {
     "data": {
      "text/plain": [
       "0      2\n",
       "1      2\n",
       "2      2\n",
       "3      2\n",
       "4      2\n",
       "      ..\n",
       "475    1\n",
       "476    1\n",
       "477    1\n",
       "478    1\n",
       "479    1\n",
       "Name: stageid, Length: 480, dtype: int32"
      ]
     },
     "execution_count": 18,
     "metadata": {},
     "output_type": "execute_result"
    }
   ],
   "source": [
    "df.stageid                  #ordinal columns"
   ]
  },
  {
   "cell_type": "code",
   "execution_count": 29,
   "id": "9c50449b",
   "metadata": {},
   "outputs": [
    {
     "data": {
      "text/plain": [
       "1    248\n",
       "2    199\n",
       "0     33\n",
       "Name: stageid, dtype: int64"
      ]
     },
     "execution_count": 29,
     "metadata": {},
     "output_type": "execute_result"
    }
   ],
   "source": [
    "df['stageid'].value_counts()"
   ]
  },
  {
   "cell_type": "code",
   "execution_count": 21,
   "id": "069b8575",
   "metadata": {},
   "outputs": [],
   "source": [
    "df.gradeid=le.fit_transform(df.gradeid)"
   ]
  },
  {
   "cell_type": "code",
   "execution_count": 22,
   "id": "525764d9",
   "metadata": {},
   "outputs": [
    {
     "data": {
      "text/plain": [
       "0      1\n",
       "1      1\n",
       "2      1\n",
       "3      1\n",
       "4      1\n",
       "      ..\n",
       "475    5\n",
       "476    5\n",
       "477    5\n",
       "478    5\n",
       "479    5\n",
       "Name: gradeid, Length: 480, dtype: int32"
      ]
     },
     "execution_count": 22,
     "metadata": {},
     "output_type": "execute_result"
    }
   ],
   "source": [
    "df.gradeid"
   ]
  },
  {
   "cell_type": "code",
   "execution_count": null,
   "id": "87d8bcb7",
   "metadata": {},
   "outputs": [],
   "source": []
  },
  {
   "cell_type": "markdown",
   "id": "dfc3ccb1",
   "metadata": {},
   "source": [
    "# encoding"
   ]
  },
  {
   "cell_type": "code",
   "execution_count": 7,
   "id": "a981059a",
   "metadata": {},
   "outputs": [
    {
     "data": {
      "text/html": [
       "<div>\n",
       "<style scoped>\n",
       "    .dataframe tbody tr th:only-of-type {\n",
       "        vertical-align: middle;\n",
       "    }\n",
       "\n",
       "    .dataframe tbody tr th {\n",
       "        vertical-align: top;\n",
       "    }\n",
       "\n",
       "    .dataframe thead th {\n",
       "        text-align: right;\n",
       "    }\n",
       "</style>\n",
       "<table border=\"1\" class=\"dataframe\">\n",
       "  <thead>\n",
       "    <tr style=\"text-align: right;\">\n",
       "      <th></th>\n",
       "      <th>gender</th>\n",
       "      <th>nationality</th>\n",
       "      <th>placeofbirth</th>\n",
       "      <th>stageid</th>\n",
       "      <th>gradeid</th>\n",
       "      <th>sectionid</th>\n",
       "      <th>topic</th>\n",
       "      <th>semester</th>\n",
       "      <th>relation</th>\n",
       "      <th>parentansweringsurvey</th>\n",
       "      <th>parentschoolsatisfaction</th>\n",
       "      <th>studentabsencedays</th>\n",
       "      <th>class</th>\n",
       "    </tr>\n",
       "  </thead>\n",
       "  <tbody>\n",
       "    <tr>\n",
       "      <th>0</th>\n",
       "      <td>M</td>\n",
       "      <td>KW</td>\n",
       "      <td>KuwaIT</td>\n",
       "      <td>lowerlevel</td>\n",
       "      <td>G-04</td>\n",
       "      <td>A</td>\n",
       "      <td>IT</td>\n",
       "      <td>F</td>\n",
       "      <td>Father</td>\n",
       "      <td>Yes</td>\n",
       "      <td>Good</td>\n",
       "      <td>Under-7</td>\n",
       "      <td>M</td>\n",
       "    </tr>\n",
       "    <tr>\n",
       "      <th>1</th>\n",
       "      <td>M</td>\n",
       "      <td>KW</td>\n",
       "      <td>KuwaIT</td>\n",
       "      <td>lowerlevel</td>\n",
       "      <td>G-04</td>\n",
       "      <td>A</td>\n",
       "      <td>IT</td>\n",
       "      <td>F</td>\n",
       "      <td>Father</td>\n",
       "      <td>Yes</td>\n",
       "      <td>Good</td>\n",
       "      <td>Under-7</td>\n",
       "      <td>M</td>\n",
       "    </tr>\n",
       "    <tr>\n",
       "      <th>2</th>\n",
       "      <td>M</td>\n",
       "      <td>KW</td>\n",
       "      <td>KuwaIT</td>\n",
       "      <td>lowerlevel</td>\n",
       "      <td>G-04</td>\n",
       "      <td>A</td>\n",
       "      <td>IT</td>\n",
       "      <td>F</td>\n",
       "      <td>Father</td>\n",
       "      <td>No</td>\n",
       "      <td>Bad</td>\n",
       "      <td>Above-7</td>\n",
       "      <td>L</td>\n",
       "    </tr>\n",
       "    <tr>\n",
       "      <th>3</th>\n",
       "      <td>M</td>\n",
       "      <td>KW</td>\n",
       "      <td>KuwaIT</td>\n",
       "      <td>lowerlevel</td>\n",
       "      <td>G-04</td>\n",
       "      <td>A</td>\n",
       "      <td>IT</td>\n",
       "      <td>F</td>\n",
       "      <td>Father</td>\n",
       "      <td>No</td>\n",
       "      <td>Bad</td>\n",
       "      <td>Above-7</td>\n",
       "      <td>L</td>\n",
       "    </tr>\n",
       "    <tr>\n",
       "      <th>4</th>\n",
       "      <td>M</td>\n",
       "      <td>KW</td>\n",
       "      <td>KuwaIT</td>\n",
       "      <td>lowerlevel</td>\n",
       "      <td>G-04</td>\n",
       "      <td>A</td>\n",
       "      <td>IT</td>\n",
       "      <td>F</td>\n",
       "      <td>Father</td>\n",
       "      <td>No</td>\n",
       "      <td>Bad</td>\n",
       "      <td>Above-7</td>\n",
       "      <td>M</td>\n",
       "    </tr>\n",
       "    <tr>\n",
       "      <th>...</th>\n",
       "      <td>...</td>\n",
       "      <td>...</td>\n",
       "      <td>...</td>\n",
       "      <td>...</td>\n",
       "      <td>...</td>\n",
       "      <td>...</td>\n",
       "      <td>...</td>\n",
       "      <td>...</td>\n",
       "      <td>...</td>\n",
       "      <td>...</td>\n",
       "      <td>...</td>\n",
       "      <td>...</td>\n",
       "      <td>...</td>\n",
       "    </tr>\n",
       "    <tr>\n",
       "      <th>475</th>\n",
       "      <td>F</td>\n",
       "      <td>Jordan</td>\n",
       "      <td>Jordan</td>\n",
       "      <td>MiddleSchool</td>\n",
       "      <td>G-08</td>\n",
       "      <td>A</td>\n",
       "      <td>Chemistry</td>\n",
       "      <td>S</td>\n",
       "      <td>Father</td>\n",
       "      <td>No</td>\n",
       "      <td>Bad</td>\n",
       "      <td>Above-7</td>\n",
       "      <td>L</td>\n",
       "    </tr>\n",
       "    <tr>\n",
       "      <th>476</th>\n",
       "      <td>F</td>\n",
       "      <td>Jordan</td>\n",
       "      <td>Jordan</td>\n",
       "      <td>MiddleSchool</td>\n",
       "      <td>G-08</td>\n",
       "      <td>A</td>\n",
       "      <td>Geology</td>\n",
       "      <td>F</td>\n",
       "      <td>Father</td>\n",
       "      <td>No</td>\n",
       "      <td>Bad</td>\n",
       "      <td>Under-7</td>\n",
       "      <td>M</td>\n",
       "    </tr>\n",
       "    <tr>\n",
       "      <th>477</th>\n",
       "      <td>F</td>\n",
       "      <td>Jordan</td>\n",
       "      <td>Jordan</td>\n",
       "      <td>MiddleSchool</td>\n",
       "      <td>G-08</td>\n",
       "      <td>A</td>\n",
       "      <td>Geology</td>\n",
       "      <td>S</td>\n",
       "      <td>Father</td>\n",
       "      <td>No</td>\n",
       "      <td>Bad</td>\n",
       "      <td>Under-7</td>\n",
       "      <td>M</td>\n",
       "    </tr>\n",
       "    <tr>\n",
       "      <th>478</th>\n",
       "      <td>F</td>\n",
       "      <td>Jordan</td>\n",
       "      <td>Jordan</td>\n",
       "      <td>MiddleSchool</td>\n",
       "      <td>G-08</td>\n",
       "      <td>A</td>\n",
       "      <td>History</td>\n",
       "      <td>F</td>\n",
       "      <td>Father</td>\n",
       "      <td>No</td>\n",
       "      <td>Bad</td>\n",
       "      <td>Above-7</td>\n",
       "      <td>L</td>\n",
       "    </tr>\n",
       "    <tr>\n",
       "      <th>479</th>\n",
       "      <td>F</td>\n",
       "      <td>Jordan</td>\n",
       "      <td>Jordan</td>\n",
       "      <td>MiddleSchool</td>\n",
       "      <td>G-08</td>\n",
       "      <td>A</td>\n",
       "      <td>History</td>\n",
       "      <td>S</td>\n",
       "      <td>Father</td>\n",
       "      <td>No</td>\n",
       "      <td>Bad</td>\n",
       "      <td>Above-7</td>\n",
       "      <td>L</td>\n",
       "    </tr>\n",
       "  </tbody>\n",
       "</table>\n",
       "<p>480 rows × 13 columns</p>\n",
       "</div>"
      ],
      "text/plain": [
       "    gender nationality placeofbirth       stageid gradeid sectionid  \\\n",
       "0        M          KW       KuwaIT    lowerlevel    G-04         A   \n",
       "1        M          KW       KuwaIT    lowerlevel    G-04         A   \n",
       "2        M          KW       KuwaIT    lowerlevel    G-04         A   \n",
       "3        M          KW       KuwaIT    lowerlevel    G-04         A   \n",
       "4        M          KW       KuwaIT    lowerlevel    G-04         A   \n",
       "..     ...         ...          ...           ...     ...       ...   \n",
       "475      F      Jordan       Jordan  MiddleSchool    G-08         A   \n",
       "476      F      Jordan       Jordan  MiddleSchool    G-08         A   \n",
       "477      F      Jordan       Jordan  MiddleSchool    G-08         A   \n",
       "478      F      Jordan       Jordan  MiddleSchool    G-08         A   \n",
       "479      F      Jordan       Jordan  MiddleSchool    G-08         A   \n",
       "\n",
       "         topic semester relation parentansweringsurvey  \\\n",
       "0           IT        F   Father                   Yes   \n",
       "1           IT        F   Father                   Yes   \n",
       "2           IT        F   Father                    No   \n",
       "3           IT        F   Father                    No   \n",
       "4           IT        F   Father                    No   \n",
       "..         ...      ...      ...                   ...   \n",
       "475  Chemistry        S   Father                    No   \n",
       "476    Geology        F   Father                    No   \n",
       "477    Geology        S   Father                    No   \n",
       "478    History        F   Father                    No   \n",
       "479    History        S   Father                    No   \n",
       "\n",
       "    parentschoolsatisfaction studentabsencedays class  \n",
       "0                       Good            Under-7     M  \n",
       "1                       Good            Under-7     M  \n",
       "2                        Bad            Above-7     L  \n",
       "3                        Bad            Above-7     L  \n",
       "4                        Bad            Above-7     M  \n",
       "..                       ...                ...   ...  \n",
       "475                      Bad            Above-7     L  \n",
       "476                      Bad            Under-7     M  \n",
       "477                      Bad            Under-7     M  \n",
       "478                      Bad            Above-7     L  \n",
       "479                      Bad            Above-7     L  \n",
       "\n",
       "[480 rows x 13 columns]"
      ]
     },
     "execution_count": 7,
     "metadata": {},
     "output_type": "execute_result"
    }
   ],
   "source": [
    "df.select_dtypes(include='O') #returns only columns which have datatypes as objects"
   ]
  },
  {
   "cell_type": "code",
   "execution_count": 31,
   "id": "6ece5289",
   "metadata": {},
   "outputs": [],
   "source": [
    "x=df.iloc[:,:-1]\n",
    "y=df.iloc[:,-1]"
   ]
  },
  {
   "cell_type": "code",
   "execution_count": 42,
   "id": "22ecebd6",
   "metadata": {},
   "outputs": [],
   "source": [
    "x_encoded=pd.get_dummies(x,drop_first=True)  # dropfrist=true is given to reduce columns whether male or female"
   ]
  },
  {
   "cell_type": "code",
   "execution_count": 43,
   "id": "48575e02",
   "metadata": {},
   "outputs": [
    {
     "data": {
      "text/html": [
       "<div>\n",
       "<style scoped>\n",
       "    .dataframe tbody tr th:only-of-type {\n",
       "        vertical-align: middle;\n",
       "    }\n",
       "\n",
       "    .dataframe tbody tr th {\n",
       "        vertical-align: top;\n",
       "    }\n",
       "\n",
       "    .dataframe thead th {\n",
       "        text-align: right;\n",
       "    }\n",
       "</style>\n",
       "<table border=\"1\" class=\"dataframe\">\n",
       "  <thead>\n",
       "    <tr style=\"text-align: right;\">\n",
       "      <th></th>\n",
       "      <th>stageid</th>\n",
       "      <th>gradeid</th>\n",
       "      <th>raisedhands</th>\n",
       "      <th>visitedresources</th>\n",
       "      <th>announcementsview</th>\n",
       "      <th>discussion</th>\n",
       "      <th>gender_M</th>\n",
       "      <th>nationality_Iran</th>\n",
       "      <th>nationality_Iraq</th>\n",
       "      <th>nationality_Jordan</th>\n",
       "      <th>...</th>\n",
       "      <th>topic_IT</th>\n",
       "      <th>topic_Math</th>\n",
       "      <th>topic_Quran</th>\n",
       "      <th>topic_Science</th>\n",
       "      <th>topic_Spanish</th>\n",
       "      <th>semester_S</th>\n",
       "      <th>relation_Mum</th>\n",
       "      <th>parentansweringsurvey_Yes</th>\n",
       "      <th>parentschoolsatisfaction_Good</th>\n",
       "      <th>studentabsencedays_Under-7</th>\n",
       "    </tr>\n",
       "  </thead>\n",
       "  <tbody>\n",
       "    <tr>\n",
       "      <th>0</th>\n",
       "      <td>2</td>\n",
       "      <td>1</td>\n",
       "      <td>15</td>\n",
       "      <td>16</td>\n",
       "      <td>2</td>\n",
       "      <td>20</td>\n",
       "      <td>1</td>\n",
       "      <td>0</td>\n",
       "      <td>0</td>\n",
       "      <td>0</td>\n",
       "      <td>...</td>\n",
       "      <td>1</td>\n",
       "      <td>0</td>\n",
       "      <td>0</td>\n",
       "      <td>0</td>\n",
       "      <td>0</td>\n",
       "      <td>0</td>\n",
       "      <td>0</td>\n",
       "      <td>1</td>\n",
       "      <td>1</td>\n",
       "      <td>1</td>\n",
       "    </tr>\n",
       "    <tr>\n",
       "      <th>1</th>\n",
       "      <td>2</td>\n",
       "      <td>1</td>\n",
       "      <td>20</td>\n",
       "      <td>20</td>\n",
       "      <td>3</td>\n",
       "      <td>25</td>\n",
       "      <td>1</td>\n",
       "      <td>0</td>\n",
       "      <td>0</td>\n",
       "      <td>0</td>\n",
       "      <td>...</td>\n",
       "      <td>1</td>\n",
       "      <td>0</td>\n",
       "      <td>0</td>\n",
       "      <td>0</td>\n",
       "      <td>0</td>\n",
       "      <td>0</td>\n",
       "      <td>0</td>\n",
       "      <td>1</td>\n",
       "      <td>1</td>\n",
       "      <td>1</td>\n",
       "    </tr>\n",
       "    <tr>\n",
       "      <th>2</th>\n",
       "      <td>2</td>\n",
       "      <td>1</td>\n",
       "      <td>10</td>\n",
       "      <td>7</td>\n",
       "      <td>0</td>\n",
       "      <td>30</td>\n",
       "      <td>1</td>\n",
       "      <td>0</td>\n",
       "      <td>0</td>\n",
       "      <td>0</td>\n",
       "      <td>...</td>\n",
       "      <td>1</td>\n",
       "      <td>0</td>\n",
       "      <td>0</td>\n",
       "      <td>0</td>\n",
       "      <td>0</td>\n",
       "      <td>0</td>\n",
       "      <td>0</td>\n",
       "      <td>0</td>\n",
       "      <td>0</td>\n",
       "      <td>0</td>\n",
       "    </tr>\n",
       "    <tr>\n",
       "      <th>3</th>\n",
       "      <td>2</td>\n",
       "      <td>1</td>\n",
       "      <td>30</td>\n",
       "      <td>25</td>\n",
       "      <td>5</td>\n",
       "      <td>35</td>\n",
       "      <td>1</td>\n",
       "      <td>0</td>\n",
       "      <td>0</td>\n",
       "      <td>0</td>\n",
       "      <td>...</td>\n",
       "      <td>1</td>\n",
       "      <td>0</td>\n",
       "      <td>0</td>\n",
       "      <td>0</td>\n",
       "      <td>0</td>\n",
       "      <td>0</td>\n",
       "      <td>0</td>\n",
       "      <td>0</td>\n",
       "      <td>0</td>\n",
       "      <td>0</td>\n",
       "    </tr>\n",
       "    <tr>\n",
       "      <th>4</th>\n",
       "      <td>2</td>\n",
       "      <td>1</td>\n",
       "      <td>40</td>\n",
       "      <td>50</td>\n",
       "      <td>12</td>\n",
       "      <td>50</td>\n",
       "      <td>1</td>\n",
       "      <td>0</td>\n",
       "      <td>0</td>\n",
       "      <td>0</td>\n",
       "      <td>...</td>\n",
       "      <td>1</td>\n",
       "      <td>0</td>\n",
       "      <td>0</td>\n",
       "      <td>0</td>\n",
       "      <td>0</td>\n",
       "      <td>0</td>\n",
       "      <td>0</td>\n",
       "      <td>0</td>\n",
       "      <td>0</td>\n",
       "      <td>0</td>\n",
       "    </tr>\n",
       "    <tr>\n",
       "      <th>...</th>\n",
       "      <td>...</td>\n",
       "      <td>...</td>\n",
       "      <td>...</td>\n",
       "      <td>...</td>\n",
       "      <td>...</td>\n",
       "      <td>...</td>\n",
       "      <td>...</td>\n",
       "      <td>...</td>\n",
       "      <td>...</td>\n",
       "      <td>...</td>\n",
       "      <td>...</td>\n",
       "      <td>...</td>\n",
       "      <td>...</td>\n",
       "      <td>...</td>\n",
       "      <td>...</td>\n",
       "      <td>...</td>\n",
       "      <td>...</td>\n",
       "      <td>...</td>\n",
       "      <td>...</td>\n",
       "      <td>...</td>\n",
       "      <td>...</td>\n",
       "    </tr>\n",
       "    <tr>\n",
       "      <th>475</th>\n",
       "      <td>1</td>\n",
       "      <td>5</td>\n",
       "      <td>5</td>\n",
       "      <td>4</td>\n",
       "      <td>5</td>\n",
       "      <td>8</td>\n",
       "      <td>0</td>\n",
       "      <td>0</td>\n",
       "      <td>0</td>\n",
       "      <td>1</td>\n",
       "      <td>...</td>\n",
       "      <td>0</td>\n",
       "      <td>0</td>\n",
       "      <td>0</td>\n",
       "      <td>0</td>\n",
       "      <td>0</td>\n",
       "      <td>1</td>\n",
       "      <td>0</td>\n",
       "      <td>0</td>\n",
       "      <td>0</td>\n",
       "      <td>0</td>\n",
       "    </tr>\n",
       "    <tr>\n",
       "      <th>476</th>\n",
       "      <td>1</td>\n",
       "      <td>5</td>\n",
       "      <td>50</td>\n",
       "      <td>77</td>\n",
       "      <td>14</td>\n",
       "      <td>28</td>\n",
       "      <td>0</td>\n",
       "      <td>0</td>\n",
       "      <td>0</td>\n",
       "      <td>1</td>\n",
       "      <td>...</td>\n",
       "      <td>0</td>\n",
       "      <td>0</td>\n",
       "      <td>0</td>\n",
       "      <td>0</td>\n",
       "      <td>0</td>\n",
       "      <td>0</td>\n",
       "      <td>0</td>\n",
       "      <td>0</td>\n",
       "      <td>0</td>\n",
       "      <td>1</td>\n",
       "    </tr>\n",
       "    <tr>\n",
       "      <th>477</th>\n",
       "      <td>1</td>\n",
       "      <td>5</td>\n",
       "      <td>55</td>\n",
       "      <td>74</td>\n",
       "      <td>25</td>\n",
       "      <td>29</td>\n",
       "      <td>0</td>\n",
       "      <td>0</td>\n",
       "      <td>0</td>\n",
       "      <td>1</td>\n",
       "      <td>...</td>\n",
       "      <td>0</td>\n",
       "      <td>0</td>\n",
       "      <td>0</td>\n",
       "      <td>0</td>\n",
       "      <td>0</td>\n",
       "      <td>1</td>\n",
       "      <td>0</td>\n",
       "      <td>0</td>\n",
       "      <td>0</td>\n",
       "      <td>1</td>\n",
       "    </tr>\n",
       "    <tr>\n",
       "      <th>478</th>\n",
       "      <td>1</td>\n",
       "      <td>5</td>\n",
       "      <td>30</td>\n",
       "      <td>17</td>\n",
       "      <td>14</td>\n",
       "      <td>57</td>\n",
       "      <td>0</td>\n",
       "      <td>0</td>\n",
       "      <td>0</td>\n",
       "      <td>1</td>\n",
       "      <td>...</td>\n",
       "      <td>0</td>\n",
       "      <td>0</td>\n",
       "      <td>0</td>\n",
       "      <td>0</td>\n",
       "      <td>0</td>\n",
       "      <td>0</td>\n",
       "      <td>0</td>\n",
       "      <td>0</td>\n",
       "      <td>0</td>\n",
       "      <td>0</td>\n",
       "    </tr>\n",
       "    <tr>\n",
       "      <th>479</th>\n",
       "      <td>1</td>\n",
       "      <td>5</td>\n",
       "      <td>35</td>\n",
       "      <td>14</td>\n",
       "      <td>23</td>\n",
       "      <td>62</td>\n",
       "      <td>0</td>\n",
       "      <td>0</td>\n",
       "      <td>0</td>\n",
       "      <td>1</td>\n",
       "      <td>...</td>\n",
       "      <td>0</td>\n",
       "      <td>0</td>\n",
       "      <td>0</td>\n",
       "      <td>0</td>\n",
       "      <td>0</td>\n",
       "      <td>1</td>\n",
       "      <td>0</td>\n",
       "      <td>0</td>\n",
       "      <td>0</td>\n",
       "      <td>0</td>\n",
       "    </tr>\n",
       "  </tbody>\n",
       "</table>\n",
       "<p>480 rows × 51 columns</p>\n",
       "</div>"
      ],
      "text/plain": [
       "     stageid  gradeid  raisedhands  visitedresources  announcementsview  \\\n",
       "0          2        1           15                16                  2   \n",
       "1          2        1           20                20                  3   \n",
       "2          2        1           10                 7                  0   \n",
       "3          2        1           30                25                  5   \n",
       "4          2        1           40                50                 12   \n",
       "..       ...      ...          ...               ...                ...   \n",
       "475        1        5            5                 4                  5   \n",
       "476        1        5           50                77                 14   \n",
       "477        1        5           55                74                 25   \n",
       "478        1        5           30                17                 14   \n",
       "479        1        5           35                14                 23   \n",
       "\n",
       "     discussion  gender_M  nationality_Iran  nationality_Iraq  \\\n",
       "0            20         1                 0                 0   \n",
       "1            25         1                 0                 0   \n",
       "2            30         1                 0                 0   \n",
       "3            35         1                 0                 0   \n",
       "4            50         1                 0                 0   \n",
       "..          ...       ...               ...               ...   \n",
       "475           8         0                 0                 0   \n",
       "476          28         0                 0                 0   \n",
       "477          29         0                 0                 0   \n",
       "478          57         0                 0                 0   \n",
       "479          62         0                 0                 0   \n",
       "\n",
       "     nationality_Jordan  ...  topic_IT  topic_Math  topic_Quran  \\\n",
       "0                     0  ...         1           0            0   \n",
       "1                     0  ...         1           0            0   \n",
       "2                     0  ...         1           0            0   \n",
       "3                     0  ...         1           0            0   \n",
       "4                     0  ...         1           0            0   \n",
       "..                  ...  ...       ...         ...          ...   \n",
       "475                   1  ...         0           0            0   \n",
       "476                   1  ...         0           0            0   \n",
       "477                   1  ...         0           0            0   \n",
       "478                   1  ...         0           0            0   \n",
       "479                   1  ...         0           0            0   \n",
       "\n",
       "     topic_Science  topic_Spanish  semester_S  relation_Mum  \\\n",
       "0                0              0           0             0   \n",
       "1                0              0           0             0   \n",
       "2                0              0           0             0   \n",
       "3                0              0           0             0   \n",
       "4                0              0           0             0   \n",
       "..             ...            ...         ...           ...   \n",
       "475              0              0           1             0   \n",
       "476              0              0           0             0   \n",
       "477              0              0           1             0   \n",
       "478              0              0           0             0   \n",
       "479              0              0           1             0   \n",
       "\n",
       "     parentansweringsurvey_Yes  parentschoolsatisfaction_Good  \\\n",
       "0                            1                              1   \n",
       "1                            1                              1   \n",
       "2                            0                              0   \n",
       "3                            0                              0   \n",
       "4                            0                              0   \n",
       "..                         ...                            ...   \n",
       "475                          0                              0   \n",
       "476                          0                              0   \n",
       "477                          0                              0   \n",
       "478                          0                              0   \n",
       "479                          0                              0   \n",
       "\n",
       "     studentabsencedays_Under-7  \n",
       "0                             1  \n",
       "1                             1  \n",
       "2                             0  \n",
       "3                             0  \n",
       "4                             0  \n",
       "..                          ...  \n",
       "475                           0  \n",
       "476                           1  \n",
       "477                           1  \n",
       "478                           0  \n",
       "479                           0  \n",
       "\n",
       "[480 rows x 51 columns]"
      ]
     },
     "execution_count": 43,
     "metadata": {},
     "output_type": "execute_result"
    }
   ],
   "source": [
    "x_encoded"
   ]
  },
  {
   "cell_type": "code",
   "execution_count": 40,
   "id": "4df56ad8",
   "metadata": {},
   "outputs": [
    {
     "name": "stdout",
     "output_type": "stream",
     "text": [
      "<class 'pandas.core.frame.DataFrame'>\n",
      "RangeIndex: 480 entries, 0 to 479\n",
      "Data columns (total 61 columns):\n",
      " #   Column                         Non-Null Count  Dtype\n",
      "---  ------                         --------------  -----\n",
      " 0   stageid                        480 non-null    int32\n",
      " 1   gradeid                        480 non-null    int32\n",
      " 2   raisedhands                    480 non-null    int64\n",
      " 3   visitedresources               480 non-null    int64\n",
      " 4   announcementsview              480 non-null    int64\n",
      " 5   discussion                     480 non-null    int64\n",
      " 6   gender_F                       480 non-null    uint8\n",
      " 7   gender_M                       480 non-null    uint8\n",
      " 8   nationality_Egypt              480 non-null    uint8\n",
      " 9   nationality_Iran               480 non-null    uint8\n",
      " 10  nationality_Iraq               480 non-null    uint8\n",
      " 11  nationality_Jordan             480 non-null    uint8\n",
      " 12  nationality_KW                 480 non-null    uint8\n",
      " 13  nationality_Lybia              480 non-null    uint8\n",
      " 14  nationality_Morocco            480 non-null    uint8\n",
      " 15  nationality_Palestine          480 non-null    uint8\n",
      " 16  nationality_SaudiArabia        480 non-null    uint8\n",
      " 17  nationality_Syria              480 non-null    uint8\n",
      " 18  nationality_Tunis              480 non-null    uint8\n",
      " 19  nationality_USA                480 non-null    uint8\n",
      " 20  nationality_lebanon            480 non-null    uint8\n",
      " 21  nationality_venzuela           480 non-null    uint8\n",
      " 22  placeofbirth_Egypt             480 non-null    uint8\n",
      " 23  placeofbirth_Iran              480 non-null    uint8\n",
      " 24  placeofbirth_Iraq              480 non-null    uint8\n",
      " 25  placeofbirth_Jordan            480 non-null    uint8\n",
      " 26  placeofbirth_KuwaIT            480 non-null    uint8\n",
      " 27  placeofbirth_Lybia             480 non-null    uint8\n",
      " 28  placeofbirth_Morocco           480 non-null    uint8\n",
      " 29  placeofbirth_Palestine         480 non-null    uint8\n",
      " 30  placeofbirth_SaudiArabia       480 non-null    uint8\n",
      " 31  placeofbirth_Syria             480 non-null    uint8\n",
      " 32  placeofbirth_Tunis             480 non-null    uint8\n",
      " 33  placeofbirth_USA               480 non-null    uint8\n",
      " 34  placeofbirth_lebanon           480 non-null    uint8\n",
      " 35  placeofbirth_venzuela          480 non-null    uint8\n",
      " 36  sectionid_A                    480 non-null    uint8\n",
      " 37  sectionid_B                    480 non-null    uint8\n",
      " 38  sectionid_C                    480 non-null    uint8\n",
      " 39  topic_Arabic                   480 non-null    uint8\n",
      " 40  topic_Biology                  480 non-null    uint8\n",
      " 41  topic_Chemistry                480 non-null    uint8\n",
      " 42  topic_English                  480 non-null    uint8\n",
      " 43  topic_French                   480 non-null    uint8\n",
      " 44  topic_Geology                  480 non-null    uint8\n",
      " 45  topic_History                  480 non-null    uint8\n",
      " 46  topic_IT                       480 non-null    uint8\n",
      " 47  topic_Math                     480 non-null    uint8\n",
      " 48  topic_Quran                    480 non-null    uint8\n",
      " 49  topic_Science                  480 non-null    uint8\n",
      " 50  topic_Spanish                  480 non-null    uint8\n",
      " 51  semester_F                     480 non-null    uint8\n",
      " 52  semester_S                     480 non-null    uint8\n",
      " 53  relation_Father                480 non-null    uint8\n",
      " 54  relation_Mum                   480 non-null    uint8\n",
      " 55  parentansweringsurvey_No       480 non-null    uint8\n",
      " 56  parentansweringsurvey_Yes      480 non-null    uint8\n",
      " 57  parentschoolsatisfaction_Bad   480 non-null    uint8\n",
      " 58  parentschoolsatisfaction_Good  480 non-null    uint8\n",
      " 59  studentabsencedays_Above-7     480 non-null    uint8\n",
      " 60  studentabsencedays_Under-7     480 non-null    uint8\n",
      "dtypes: int32(2), int64(4), uint8(55)\n",
      "memory usage: 44.7 KB\n"
     ]
    }
   ],
   "source": [
    "x_encoded.info()"
   ]
  },
  {
   "cell_type": "code",
   "execution_count": 36,
   "id": "a8ae8d6c",
   "metadata": {},
   "outputs": [],
   "source": [
    "y=le.fit_transform(y)"
   ]
  },
  {
   "cell_type": "code",
   "execution_count": 37,
   "id": "472aaabe",
   "metadata": {},
   "outputs": [
    {
     "data": {
      "text/plain": [
       "array([2, 2, 1, 1, 2, 2, 1, 2, 2, 2, 0, 2, 1, 1, 0, 2, 2, 2, 2, 0, 2, 2,\n",
       "       2, 1, 1, 1, 2, 1, 2, 2, 0, 1, 1, 1, 1, 1, 1, 2, 1, 2, 1, 2, 1, 2,\n",
       "       2, 1, 1, 0, 0, 2, 1, 1, 2, 0, 1, 1, 1, 1, 2, 2, 1, 2, 0, 2, 1, 1,\n",
       "       2, 0, 0, 2, 1, 2, 1, 2, 1, 2, 2, 2, 1, 0, 1, 1, 1, 2, 0, 1, 0, 1,\n",
       "       1, 1, 1, 0, 0, 0, 1, 0, 0, 2, 2, 2, 2, 0, 1, 1, 2, 1, 2, 0, 2, 2,\n",
       "       0, 2, 1, 1, 1, 1, 2, 0, 2, 2, 2, 1, 2, 2, 1, 1, 2, 1, 1, 1, 1, 2,\n",
       "       1, 1, 0, 0, 0, 2, 0, 2, 1, 1, 2, 0, 1, 2, 0, 2, 2, 0, 0, 2, 0, 1,\n",
       "       2, 0, 2, 2, 1, 2, 0, 2, 0, 2, 2, 0, 2, 0, 0, 2, 0, 2, 1, 1, 2, 1,\n",
       "       0, 2, 0, 2, 0, 1, 0, 2, 1, 0, 2, 2, 0, 2, 1, 1, 2, 2, 2, 2, 0, 0,\n",
       "       1, 2, 0, 0, 2, 2, 1, 0, 2, 2, 2, 2, 0, 2, 0, 1, 1, 1, 2, 2, 0, 2,\n",
       "       2, 2, 2, 0, 0, 2, 1, 1, 0, 1, 2, 1, 2, 2, 2, 1, 1, 2, 2, 0, 0, 2,\n",
       "       1, 2, 0, 2, 0, 2, 1, 2, 0, 1, 2, 1, 0, 0, 0, 2, 2, 1, 1, 2, 2, 2,\n",
       "       2, 0, 2, 2, 2, 2, 0, 2, 2, 0, 0, 0, 0, 0, 2, 2, 0, 0, 0, 0, 2, 2,\n",
       "       0, 0, 2, 2, 1, 1, 0, 0, 2, 2, 0, 0, 2, 2, 1, 1, 2, 2, 2, 2, 0, 0,\n",
       "       2, 2, 2, 2, 0, 0, 0, 0, 0, 0, 0, 0, 2, 2, 1, 1, 2, 2, 1, 1, 2, 2,\n",
       "       1, 1, 2, 2, 1, 1, 2, 2, 2, 2, 2, 2, 2, 2, 0, 0, 0, 0, 1, 1, 1, 1,\n",
       "       2, 2, 0, 0, 2, 2, 0, 0, 2, 2, 0, 0, 0, 0, 2, 2, 0, 0, 2, 2, 1, 1,\n",
       "       1, 1, 2, 2, 1, 1, 1, 1, 0, 0, 0, 0, 2, 2, 1, 1, 2, 2, 0, 0, 0, 0,\n",
       "       2, 2, 0, 0, 2, 2, 0, 0, 0, 0, 1, 1, 2, 2, 0, 0, 2, 2, 1, 1, 0, 0,\n",
       "       0, 0, 0, 0, 2, 2, 0, 0, 2, 2, 1, 1, 0, 0, 2, 2, 2, 2, 2, 2, 2, 2,\n",
       "       2, 2, 2, 2, 1, 1, 2, 2, 0, 0, 0, 0, 2, 2, 2, 2, 0, 0, 0, 0, 2, 2,\n",
       "       2, 2, 0, 0, 0, 0, 1, 1, 2, 2, 2, 2, 1, 1, 2, 2, 1, 1])"
      ]
     },
     "execution_count": 37,
     "metadata": {},
     "output_type": "execute_result"
    }
   ],
   "source": [
    "y"
   ]
  },
  {
   "cell_type": "code",
   "execution_count": 51,
   "id": "3f28b355",
   "metadata": {},
   "outputs": [],
   "source": [
    "from sklearn.model_selection import train_test_split\n",
    "x_train, x_test, y_train, y_test = train_test_split(x_encoded, y, test_size=0.3, random_state=1)"
   ]
  },
  {
   "cell_type": "code",
   "execution_count": 50,
   "id": "538e7650",
   "metadata": {},
   "outputs": [],
   "source": [
    "# import statsmodels.api as sm\n",
    " log_reg = sm.Logit(y_train, x_train).fit()                              # cannot use sm\n"
   ]
  },
  {
   "cell_type": "code",
   "execution_count": 56,
   "id": "4b884623",
   "metadata": {},
   "outputs": [
    {
     "data": {
      "text/plain": [
       "LogisticRegression(max_iter=5000)"
      ]
     },
     "execution_count": 56,
     "metadata": {},
     "output_type": "execute_result"
    }
   ],
   "source": [
    "from sklearn.linear_model import LogisticRegression\n",
    "model = LogisticRegression(max_iter=5000)\n",
    "model.fit(x_train,y_train)"
   ]
  },
  {
   "cell_type": "code",
   "execution_count": 62,
   "id": "261bfc53",
   "metadata": {},
   "outputs": [
    {
     "data": {
      "text/plain": [
       "0.7013888888888888"
      ]
     },
     "execution_count": 62,
     "metadata": {},
     "output_type": "execute_result"
    }
   ],
   "source": [
    "model.score(x_test,y_test)"
   ]
  },
  {
   "cell_type": "code",
   "execution_count": 58,
   "id": "ef7a2eac",
   "metadata": {},
   "outputs": [],
   "source": [
    "from sklearn.metrics import classification_report"
   ]
  },
  {
   "cell_type": "code",
   "execution_count": 59,
   "id": "f964a3cf",
   "metadata": {},
   "outputs": [
    {
     "name": "stdout",
     "output_type": "stream",
     "text": [
      "              precision    recall  f1-score   support\n",
      "\n",
      "           0       0.86      0.84      0.85        87\n",
      "           1       0.90      0.90      0.90        94\n",
      "           2       0.85      0.86      0.86       155\n",
      "\n",
      "    accuracy                           0.87       336\n",
      "   macro avg       0.87      0.87      0.87       336\n",
      "weighted avg       0.87      0.87      0.87       336\n",
      "\n"
     ]
    }
   ],
   "source": [
    "pred_train=model.predict(x_train)\n",
    "print(classification_report(y_train,pred_train))"
   ]
  },
  {
   "cell_type": "code",
   "execution_count": 63,
   "id": "76c3f329",
   "metadata": {},
   "outputs": [
    {
     "name": "stdout",
     "output_type": "stream",
     "text": [
      "              precision    recall  f1-score   support\n",
      "\n",
      "           0       0.77      0.67      0.72        55\n",
      "           1       0.79      0.79      0.79        33\n",
      "           2       0.60      0.68      0.64        56\n",
      "\n",
      "    accuracy                           0.70       144\n",
      "   macro avg       0.72      0.71      0.71       144\n",
      "weighted avg       0.71      0.70      0.70       144\n",
      "\n"
     ]
    }
   ],
   "source": [
    "pred_test=model.predict(x_test)\n",
    "print(classification_report(y_test,pred_test))"
   ]
  },
  {
   "cell_type": "code",
   "execution_count": 61,
   "id": "dd664ed7",
   "metadata": {},
   "outputs": [],
   "source": [
    "from sklearn.preprocessing import minmax_scale\n",
    "from "
   ]
  },
  {
   "cell_type": "code",
   "execution_count": null,
   "id": "abb81511",
   "metadata": {},
   "outputs": [],
   "source": []
  },
  {
   "cell_type": "code",
   "execution_count": null,
   "id": "6bd96078",
   "metadata": {},
   "outputs": [],
   "source": []
  },
  {
   "cell_type": "markdown",
   "id": "69a03024",
   "metadata": {},
   "source": [
    "# sgd method"
   ]
  },
  {
   "cell_type": "code",
   "execution_count": null,
   "id": "783e9d31",
   "metadata": {},
   "outputs": [],
   "source": [
    "from sklearn.linear_model import SGDClassifier\n",
    "def model_sgd(x,y):\n",
    "    x_train, x_test, y_train, y_test = train_test_split(x_encoded, y, test_size=0.3, random_state=1)\n",
    "    model_sgd = SGDClassifier\n",
    "    model_sgd.fit(x_train,y_train)\n",
    "    pred_train=model_sgd.predict(x_train)\n",
    "    pred_test=model_sgd.predict(x_test)\n",
    "    print(classification_report(y_train,pred_train))\n",
    "    print(classification_report(y_test,pred_test))\n"
   ]
  },
  {
   "cell_type": "code",
   "execution_count": null,
   "id": "73d363b6",
   "metadata": {},
   "outputs": [],
   "source": []
  },
  {
   "cell_type": "code",
   "execution_count": 65,
   "id": "2a1c2681",
   "metadata": {},
   "outputs": [],
   "source": [
    "from sklearn.model_selection import train_test_split\n",
    "from sklearn.linear_model import LogisticRegression\n",
    "from sklearn.metrics import classification_report,confusion_matrix\n",
    "\n",
    "x=none\n",
    "y=none\n",
    "\n",
    "def model_glm(x,y):\n",
    "    x_train, x_test, y_train, y_test = train_test_split(x_encoded, y, test_size=0.3, random_state=1)\n",
    "    model_glm = LogisticRegression()\n",
    "    model_glm.fit(x_train,y_train)\n",
    "    pred_train=model_glm.predict(x_train)\n",
    "    pred_test=model_glm.predict(x_test)\n",
    "    print(classification_report(y_train,pred_train))\n",
    "    print(classification_report(y_test,pred_test))"
   ]
  },
  {
   "cell_type": "code",
   "execution_count": null,
   "id": "14825599",
   "metadata": {
    "collapsed": true
   },
   "outputs": [],
   "source": [
    "model_glm(x,y)"
   ]
  },
  {
   "cell_type": "code",
   "execution_count": null,
   "id": "87111ef3",
   "metadata": {},
   "outputs": [],
   "source": [
    "from sklearn.linear_model import descisionTreeClassifier\n",
    "def model_dt(x,y):\n",
    "    x_train, x_test, y_train, y_test = train_test_split(x_encoded, y, test_size=0.3, random_state=1)\n",
    "    model_dt = descisionTreeClassifier()\n",
    "    model_dt.fit(x_train,y_train)\n",
    "    pred_train=model_dt.predict(x_train)\n",
    "    pred_test=model_dt.predict(x_test)\n",
    "    print(classification_report(y_train,pred_train))\n",
    "    print(classification_report(y_test,pred_test))"
   ]
  },
  {
   "cell_type": "code",
   "execution_count": null,
   "id": "30f493fe",
   "metadata": {},
   "outputs": [],
   "source": [
    "model_dt(x,y)"
   ]
  },
  {
   "cell_type": "code",
   "execution_count": null,
   "id": "8fd998ed",
   "metadata": {},
   "outputs": [],
   "source": []
  },
  {
   "cell_type": "code",
   "execution_count": null,
   "id": "e249f8c6",
   "metadata": {},
   "outputs": [],
   "source": []
  },
  {
   "cell_type": "code",
   "execution_count": null,
   "id": "40a8ff2b",
   "metadata": {},
   "outputs": [],
   "source": []
  },
  {
   "cell_type": "code",
   "execution_count": null,
   "id": "930f8258",
   "metadata": {},
   "outputs": [],
   "source": []
  },
  {
   "cell_type": "code",
   "execution_count": null,
   "id": "1d293088",
   "metadata": {},
   "outputs": [],
   "source": []
  },
  {
   "cell_type": "code",
   "execution_count": null,
   "id": "7d3e8a4e",
   "metadata": {},
   "outputs": [],
   "source": []
  },
  {
   "cell_type": "markdown",
   "id": "d3af2b8f",
   "metadata": {},
   "source": [
    "# finding null values"
   ]
  },
  {
   "cell_type": "code",
   "execution_count": 59,
   "id": "335ab143",
   "metadata": {},
   "outputs": [
    {
     "data": {
      "text/plain": [
       "0"
      ]
     },
     "execution_count": 59,
     "metadata": {},
     "output_type": "execute_result"
    }
   ],
   "source": [
    "df.isnull().values.any().sum()"
   ]
  },
  {
   "cell_type": "markdown",
   "id": "190cdd48",
   "metadata": {},
   "source": [
    "# outliers"
   ]
  },
  {
   "cell_type": "code",
   "execution_count": 60,
   "id": "b089239d",
   "metadata": {},
   "outputs": [
    {
     "data": {
      "text/html": [
       "<div>\n",
       "<style scoped>\n",
       "    .dataframe tbody tr th:only-of-type {\n",
       "        vertical-align: middle;\n",
       "    }\n",
       "\n",
       "    .dataframe tbody tr th {\n",
       "        vertical-align: top;\n",
       "    }\n",
       "\n",
       "    .dataframe thead th {\n",
       "        text-align: right;\n",
       "    }\n",
       "</style>\n",
       "<table border=\"1\" class=\"dataframe\">\n",
       "  <thead>\n",
       "    <tr style=\"text-align: right;\">\n",
       "      <th></th>\n",
       "      <th>gender</th>\n",
       "      <th>stageid</th>\n",
       "      <th>semester</th>\n",
       "      <th>relation</th>\n",
       "      <th>raisedhands</th>\n",
       "      <th>visitedresources</th>\n",
       "      <th>announcementsview</th>\n",
       "      <th>discussion</th>\n",
       "      <th>parentansweringsurvey</th>\n",
       "      <th>parentschoolsatisfaction</th>\n",
       "      <th>studentabsencedays</th>\n",
       "      <th>class</th>\n",
       "    </tr>\n",
       "  </thead>\n",
       "  <tbody>\n",
       "    <tr>\n",
       "      <th>count</th>\n",
       "      <td>480.000000</td>\n",
       "      <td>480.000000</td>\n",
       "      <td>480.000000</td>\n",
       "      <td>480.000000</td>\n",
       "      <td>480.000000</td>\n",
       "      <td>480.000000</td>\n",
       "      <td>480.000000</td>\n",
       "      <td>480.000000</td>\n",
       "      <td>480.000000</td>\n",
       "      <td>480.000000</td>\n",
       "      <td>480.000000</td>\n",
       "      <td>480.000000</td>\n",
       "    </tr>\n",
       "    <tr>\n",
       "      <th>mean</th>\n",
       "      <td>0.364583</td>\n",
       "      <td>0.654167</td>\n",
       "      <td>0.510417</td>\n",
       "      <td>0.410417</td>\n",
       "      <td>46.775000</td>\n",
       "      <td>54.797917</td>\n",
       "      <td>37.918750</td>\n",
       "      <td>43.283333</td>\n",
       "      <td>0.562500</td>\n",
       "      <td>0.608333</td>\n",
       "      <td>0.602083</td>\n",
       "      <td>1.031250</td>\n",
       "    </tr>\n",
       "    <tr>\n",
       "      <th>std</th>\n",
       "      <td>0.481815</td>\n",
       "      <td>0.603732</td>\n",
       "      <td>0.500413</td>\n",
       "      <td>0.492423</td>\n",
       "      <td>30.779223</td>\n",
       "      <td>33.080007</td>\n",
       "      <td>26.611244</td>\n",
       "      <td>27.637735</td>\n",
       "      <td>0.496596</td>\n",
       "      <td>0.488632</td>\n",
       "      <td>0.489979</td>\n",
       "      <td>0.748738</td>\n",
       "    </tr>\n",
       "    <tr>\n",
       "      <th>min</th>\n",
       "      <td>0.000000</td>\n",
       "      <td>0.000000</td>\n",
       "      <td>0.000000</td>\n",
       "      <td>0.000000</td>\n",
       "      <td>0.000000</td>\n",
       "      <td>0.000000</td>\n",
       "      <td>0.000000</td>\n",
       "      <td>1.000000</td>\n",
       "      <td>0.000000</td>\n",
       "      <td>0.000000</td>\n",
       "      <td>0.000000</td>\n",
       "      <td>0.000000</td>\n",
       "    </tr>\n",
       "    <tr>\n",
       "      <th>25%</th>\n",
       "      <td>0.000000</td>\n",
       "      <td>0.000000</td>\n",
       "      <td>0.000000</td>\n",
       "      <td>0.000000</td>\n",
       "      <td>15.750000</td>\n",
       "      <td>20.000000</td>\n",
       "      <td>14.000000</td>\n",
       "      <td>20.000000</td>\n",
       "      <td>0.000000</td>\n",
       "      <td>0.000000</td>\n",
       "      <td>0.000000</td>\n",
       "      <td>0.000000</td>\n",
       "    </tr>\n",
       "    <tr>\n",
       "      <th>50%</th>\n",
       "      <td>0.000000</td>\n",
       "      <td>1.000000</td>\n",
       "      <td>1.000000</td>\n",
       "      <td>0.000000</td>\n",
       "      <td>50.000000</td>\n",
       "      <td>65.000000</td>\n",
       "      <td>33.000000</td>\n",
       "      <td>39.000000</td>\n",
       "      <td>1.000000</td>\n",
       "      <td>1.000000</td>\n",
       "      <td>1.000000</td>\n",
       "      <td>1.000000</td>\n",
       "    </tr>\n",
       "    <tr>\n",
       "      <th>75%</th>\n",
       "      <td>1.000000</td>\n",
       "      <td>1.000000</td>\n",
       "      <td>1.000000</td>\n",
       "      <td>1.000000</td>\n",
       "      <td>75.000000</td>\n",
       "      <td>84.000000</td>\n",
       "      <td>58.000000</td>\n",
       "      <td>70.000000</td>\n",
       "      <td>1.000000</td>\n",
       "      <td>1.000000</td>\n",
       "      <td>1.000000</td>\n",
       "      <td>2.000000</td>\n",
       "    </tr>\n",
       "    <tr>\n",
       "      <th>max</th>\n",
       "      <td>1.000000</td>\n",
       "      <td>2.000000</td>\n",
       "      <td>1.000000</td>\n",
       "      <td>1.000000</td>\n",
       "      <td>100.000000</td>\n",
       "      <td>99.000000</td>\n",
       "      <td>98.000000</td>\n",
       "      <td>99.000000</td>\n",
       "      <td>1.000000</td>\n",
       "      <td>1.000000</td>\n",
       "      <td>1.000000</td>\n",
       "      <td>2.000000</td>\n",
       "    </tr>\n",
       "  </tbody>\n",
       "</table>\n",
       "</div>"
      ],
      "text/plain": [
       "           gender     stageid    semester    relation  raisedhands  \\\n",
       "count  480.000000  480.000000  480.000000  480.000000   480.000000   \n",
       "mean     0.364583    0.654167    0.510417    0.410417    46.775000   \n",
       "std      0.481815    0.603732    0.500413    0.492423    30.779223   \n",
       "min      0.000000    0.000000    0.000000    0.000000     0.000000   \n",
       "25%      0.000000    0.000000    0.000000    0.000000    15.750000   \n",
       "50%      0.000000    1.000000    1.000000    0.000000    50.000000   \n",
       "75%      1.000000    1.000000    1.000000    1.000000    75.000000   \n",
       "max      1.000000    2.000000    1.000000    1.000000   100.000000   \n",
       "\n",
       "       visitedresources  announcementsview  discussion  parentansweringsurvey  \\\n",
       "count        480.000000         480.000000  480.000000             480.000000   \n",
       "mean          54.797917          37.918750   43.283333               0.562500   \n",
       "std           33.080007          26.611244   27.637735               0.496596   \n",
       "min            0.000000           0.000000    1.000000               0.000000   \n",
       "25%           20.000000          14.000000   20.000000               0.000000   \n",
       "50%           65.000000          33.000000   39.000000               1.000000   \n",
       "75%           84.000000          58.000000   70.000000               1.000000   \n",
       "max           99.000000          98.000000   99.000000               1.000000   \n",
       "\n",
       "       parentschoolsatisfaction  studentabsencedays       class  \n",
       "count                480.000000          480.000000  480.000000  \n",
       "mean                   0.608333            0.602083    1.031250  \n",
       "std                    0.488632            0.489979    0.748738  \n",
       "min                    0.000000            0.000000    0.000000  \n",
       "25%                    0.000000            0.000000    0.000000  \n",
       "50%                    1.000000            1.000000    1.000000  \n",
       "75%                    1.000000            1.000000    2.000000  \n",
       "max                    1.000000            1.000000    2.000000  "
      ]
     },
     "execution_count": 60,
     "metadata": {},
     "output_type": "execute_result"
    }
   ],
   "source": [
    "df.describe()"
   ]
  },
  {
   "cell_type": "code",
   "execution_count": 61,
   "id": "6aade46e",
   "metadata": {},
   "outputs": [
    {
     "name": "stderr",
     "output_type": "stream",
     "text": [
      "C:\\Users\\Ashok\\anaconda3\\lib\\site-packages\\seaborn\\_decorators.py:36: FutureWarning: Pass the following variable as a keyword arg: x. From version 0.12, the only valid positional argument will be `data`, and passing other arguments without an explicit keyword will result in an error or misinterpretation.\n",
      "  warnings.warn(\n"
     ]
    },
    {
     "data": {
      "text/plain": [
       "<AxesSubplot:xlabel='raisedhands'>"
      ]
     },
     "execution_count": 61,
     "metadata": {},
     "output_type": "execute_result"
    },
    {
     "data": {
      "image/png": "[encoded data removed]",
      "text/plain": [
       "<Figure size 432x288 with 1 Axes>"
      ]
     },
     "metadata": {
      "needs_background": "light"
     },
     "output_type": "display_data"
    }
   ],
   "source": [
    "import seaborn as sns\n",
    "sns.boxplot(df[\"raisedhands\"])"
   ]
  },
  {
   "cell_type": "code",
   "execution_count": 62,
   "id": "eca56eae",
   "metadata": {},
   "outputs": [
    {
     "name": "stderr",
     "output_type": "stream",
     "text": [
      "C:\\Users\\Ashok\\anaconda3\\lib\\site-packages\\seaborn\\_decorators.py:36: FutureWarning: Pass the following variable as a keyword arg: x. From version 0.12, the only valid positional argument will be `data`, and passing other arguments without an explicit keyword will result in an error or misinterpretation.\n",
      "  warnings.warn(\n"
     ]
    },
    {
     "data": {
      "text/plain": [
       "<AxesSubplot:xlabel='visitedresources'>"
      ]
     },
     "execution_count": 62,
     "metadata": {},
     "output_type": "execute_result"
    },
    {
     "data": {
      "image/png": "[encoded data removed]",
      "text/plain": [
       "<Figure size 432x288 with 1 Axes>"
      ]
     },
     "metadata": {
      "needs_background": "light"
     },
     "output_type": "display_data"
    }
   ],
   "source": [
    "sns.boxplot(df['visitedresources'])"
   ]
  },
  {
   "cell_type": "code",
   "execution_count": 63,
   "id": "035f2fa5",
   "metadata": {},
   "outputs": [
    {
     "name": "stderr",
     "output_type": "stream",
     "text": [
      "C:\\Users\\Ashok\\anaconda3\\lib\\site-packages\\seaborn\\_decorators.py:36: FutureWarning: Pass the following variable as a keyword arg: x. From version 0.12, the only valid positional argument will be `data`, and passing other arguments without an explicit keyword will result in an error or misinterpretation.\n",
      "  warnings.warn(\n"
     ]
    },
    {
     "data": {
      "text/plain": [
       "<AxesSubplot:xlabel='announcementsview'>"
      ]
     },
     "execution_count": 63,
     "metadata": {},
     "output_type": "execute_result"
    },
    {
     "data": {
      "image/png": "[encoded data removed]",
      "text/plain": [
       "<Figure size 432x288 with 1 Axes>"
      ]
     },
     "metadata": {
      "needs_background": "light"
     },
     "output_type": "display_data"
    }
   ],
   "source": [
    "sns.boxplot(df['announcementsview'])"
   ]
  },
  {
   "cell_type": "code",
   "execution_count": 64,
   "id": "f1ec0cef",
   "metadata": {},
   "outputs": [
    {
     "name": "stderr",
     "output_type": "stream",
     "text": [
      "C:\\Users\\Ashok\\anaconda3\\lib\\site-packages\\seaborn\\_decorators.py:36: FutureWarning: Pass the following variable as a keyword arg: x. From version 0.12, the only valid positional argument will be `data`, and passing other arguments without an explicit keyword will result in an error or misinterpretation.\n",
      "  warnings.warn(\n"
     ]
    },
    {
     "data": {
      "text/plain": [
       "<AxesSubplot:xlabel='discussion'>"
      ]
     },
     "execution_count": 64,
     "metadata": {},
     "output_type": "execute_result"
    },
    {
     "data": {
      "image/png": "[encoded data removed]",
      "text/plain": [
       "<Figure size 432x288 with 1 Axes>"
      ]
     },
     "metadata": {
      "needs_background": "light"
     },
     "output_type": "display_data"
    }
   ],
   "source": [
    "sns.boxplot(df['discussion'])"
   ]
  },
  {
   "cell_type": "markdown",
   "id": "4d1b4d4d",
   "metadata": {},
   "source": [
    "# mean values"
   ]
  },
  {
   "cell_type": "code",
   "execution_count": 66,
   "id": "330890dd",
   "metadata": {},
   "outputs": [
    {
     "data": {
      "text/html": [
       "<div>\n",
       "<style scoped>\n",
       "    .dataframe tbody tr th:only-of-type {\n",
       "        vertical-align: middle;\n",
       "    }\n",
       "\n",
       "    .dataframe tbody tr th {\n",
       "        vertical-align: top;\n",
       "    }\n",
       "\n",
       "    .dataframe thead th {\n",
       "        text-align: right;\n",
       "    }\n",
       "</style>\n",
       "<table border=\"1\" class=\"dataframe\">\n",
       "  <thead>\n",
       "    <tr style=\"text-align: right;\">\n",
       "      <th></th>\n",
       "      <th>gender</th>\n",
       "      <th>stageid</th>\n",
       "      <th>semester</th>\n",
       "      <th>relation</th>\n",
       "      <th>raisedhands</th>\n",
       "      <th>visitedresources</th>\n",
       "      <th>announcementsview</th>\n",
       "      <th>discussion</th>\n",
       "      <th>parentansweringsurvey</th>\n",
       "      <th>studentabsencedays</th>\n",
       "      <th>class</th>\n",
       "    </tr>\n",
       "    <tr>\n",
       "      <th>parentschoolsatisfaction</th>\n",
       "      <th></th>\n",
       "      <th></th>\n",
       "      <th></th>\n",
       "      <th></th>\n",
       "      <th></th>\n",
       "      <th></th>\n",
       "      <th></th>\n",
       "      <th></th>\n",
       "      <th></th>\n",
       "      <th></th>\n",
       "      <th></th>\n",
       "    </tr>\n",
       "  </thead>\n",
       "  <tbody>\n",
       "    <tr>\n",
       "      <th>0</th>\n",
       "      <td>0.308511</td>\n",
       "      <td>0.664894</td>\n",
       "      <td>0.494681</td>\n",
       "      <td>0.234043</td>\n",
       "      <td>35.393617</td>\n",
       "      <td>39.813830</td>\n",
       "      <td>28.021277</td>\n",
       "      <td>41.180851</td>\n",
       "      <td>0.228723</td>\n",
       "      <td>0.462766</td>\n",
       "      <td>0.680851</td>\n",
       "    </tr>\n",
       "    <tr>\n",
       "      <th>1</th>\n",
       "      <td>0.400685</td>\n",
       "      <td>0.647260</td>\n",
       "      <td>0.520548</td>\n",
       "      <td>0.523973</td>\n",
       "      <td>54.102740</td>\n",
       "      <td>64.445205</td>\n",
       "      <td>44.291096</td>\n",
       "      <td>44.636986</td>\n",
       "      <td>0.777397</td>\n",
       "      <td>0.691781</td>\n",
       "      <td>1.256849</td>\n",
       "    </tr>\n",
       "  </tbody>\n",
       "</table>\n",
       "</div>"
      ],
      "text/plain": [
       "                            gender   stageid  semester  relation  raisedhands  \\\n",
       "parentschoolsatisfaction                                                        \n",
       "0                         0.308511  0.664894  0.494681  0.234043    35.393617   \n",
       "1                         0.400685  0.647260  0.520548  0.523973    54.102740   \n",
       "\n",
       "                          visitedresources  announcementsview  discussion  \\\n",
       "parentschoolsatisfaction                                                    \n",
       "0                                39.813830          28.021277   41.180851   \n",
       "1                                64.445205          44.291096   44.636986   \n",
       "\n",
       "                          parentansweringsurvey  studentabsencedays     class  \n",
       "parentschoolsatisfaction                                                       \n",
       "0                                      0.228723            0.462766  0.680851  \n",
       "1                                      0.777397            0.691781  1.256849  "
      ]
     },
     "execution_count": 66,
     "metadata": {},
     "output_type": "execute_result"
    }
   ],
   "source": [
    "df.groupby('parentschoolsatisfaction').mean()"
   ]
  },
  {
   "cell_type": "code",
   "execution_count": 68,
   "id": "ff7365f1",
   "metadata": {},
   "outputs": [
    {
     "data": {
      "text/html": [
       "<div>\n",
       "<style scoped>\n",
       "    .dataframe tbody tr th:only-of-type {\n",
       "        vertical-align: middle;\n",
       "    }\n",
       "\n",
       "    .dataframe tbody tr th {\n",
       "        vertical-align: top;\n",
       "    }\n",
       "\n",
       "    .dataframe thead th {\n",
       "        text-align: right;\n",
       "    }\n",
       "</style>\n",
       "<table border=\"1\" class=\"dataframe\">\n",
       "  <thead>\n",
       "    <tr style=\"text-align: right;\">\n",
       "      <th></th>\n",
       "      <th>gender</th>\n",
       "      <th>stageid</th>\n",
       "      <th>semester</th>\n",
       "      <th>relation</th>\n",
       "      <th>raisedhands</th>\n",
       "      <th>visitedresources</th>\n",
       "      <th>announcementsview</th>\n",
       "      <th>discussion</th>\n",
       "      <th>parentansweringsurvey</th>\n",
       "      <th>parentschoolsatisfaction</th>\n",
       "      <th>studentabsencedays</th>\n",
       "    </tr>\n",
       "    <tr>\n",
       "      <th>class</th>\n",
       "      <th></th>\n",
       "      <th></th>\n",
       "      <th></th>\n",
       "      <th></th>\n",
       "      <th></th>\n",
       "      <th></th>\n",
       "      <th></th>\n",
       "      <th></th>\n",
       "      <th></th>\n",
       "      <th></th>\n",
       "      <th></th>\n",
       "    </tr>\n",
       "  </thead>\n",
       "  <tbody>\n",
       "    <tr>\n",
       "      <th>0</th>\n",
       "      <td>0.188976</td>\n",
       "      <td>0.551181</td>\n",
       "      <td>0.606299</td>\n",
       "      <td>0.181102</td>\n",
       "      <td>16.889764</td>\n",
       "      <td>18.322835</td>\n",
       "      <td>15.574803</td>\n",
       "      <td>30.834646</td>\n",
       "      <td>0.220472</td>\n",
       "      <td>0.338583</td>\n",
       "      <td>0.086614</td>\n",
       "    </tr>\n",
       "    <tr>\n",
       "      <th>1</th>\n",
       "      <td>0.360190</td>\n",
       "      <td>0.691943</td>\n",
       "      <td>0.502370</td>\n",
       "      <td>0.350711</td>\n",
       "      <td>48.938389</td>\n",
       "      <td>60.635071</td>\n",
       "      <td>40.962085</td>\n",
       "      <td>43.791469</td>\n",
       "      <td>0.606635</td>\n",
       "      <td>0.620853</td>\n",
       "      <td>0.663507</td>\n",
       "    </tr>\n",
       "    <tr>\n",
       "      <th>2</th>\n",
       "      <td>0.528169</td>\n",
       "      <td>0.690141</td>\n",
       "      <td>0.436620</td>\n",
       "      <td>0.704225</td>\n",
       "      <td>70.288732</td>\n",
       "      <td>78.746479</td>\n",
       "      <td>53.380282</td>\n",
       "      <td>53.661972</td>\n",
       "      <td>0.802817</td>\n",
       "      <td>0.830986</td>\n",
       "      <td>0.971831</td>\n",
       "    </tr>\n",
       "  </tbody>\n",
       "</table>\n",
       "</div>"
      ],
      "text/plain": [
       "         gender   stageid  semester  relation  raisedhands  visitedresources  \\\n",
       "class                                                                          \n",
       "0      0.188976  0.551181  0.606299  0.181102    16.889764         18.322835   \n",
       "1      0.360190  0.691943  0.502370  0.350711    48.938389         60.635071   \n",
       "2      0.528169  0.690141  0.436620  0.704225    70.288732         78.746479   \n",
       "\n",
       "       announcementsview  discussion  parentansweringsurvey  \\\n",
       "class                                                         \n",
       "0              15.574803   30.834646               0.220472   \n",
       "1              40.962085   43.791469               0.606635   \n",
       "2              53.380282   53.661972               0.802817   \n",
       "\n",
       "       parentschoolsatisfaction  studentabsencedays  \n",
       "class                                                \n",
       "0                      0.338583            0.086614  \n",
       "1                      0.620853            0.663507  \n",
       "2                      0.830986            0.971831  "
      ]
     },
     "execution_count": 68,
     "metadata": {},
     "output_type": "execute_result"
    }
   ],
   "source": [
    "df.groupby('class').mean()"
   ]
  },
  {
   "cell_type": "code",
   "execution_count": 69,
   "id": "f53a4136",
   "metadata": {},
   "outputs": [
    {
     "data": {
      "text/html": [
       "<div>\n",
       "<style scoped>\n",
       "    .dataframe tbody tr th:only-of-type {\n",
       "        vertical-align: middle;\n",
       "    }\n",
       "\n",
       "    .dataframe tbody tr th {\n",
       "        vertical-align: top;\n",
       "    }\n",
       "\n",
       "    .dataframe thead th {\n",
       "        text-align: right;\n",
       "    }\n",
       "</style>\n",
       "<table border=\"1\" class=\"dataframe\">\n",
       "  <thead>\n",
       "    <tr style=\"text-align: right;\">\n",
       "      <th></th>\n",
       "      <th>gender</th>\n",
       "      <th>stageid</th>\n",
       "      <th>semester</th>\n",
       "      <th>relation</th>\n",
       "      <th>raisedhands</th>\n",
       "      <th>visitedresources</th>\n",
       "      <th>announcementsview</th>\n",
       "      <th>discussion</th>\n",
       "      <th>parentschoolsatisfaction</th>\n",
       "      <th>studentabsencedays</th>\n",
       "      <th>class</th>\n",
       "    </tr>\n",
       "    <tr>\n",
       "      <th>parentansweringsurvey</th>\n",
       "      <th></th>\n",
       "      <th></th>\n",
       "      <th></th>\n",
       "      <th></th>\n",
       "      <th></th>\n",
       "      <th></th>\n",
       "      <th></th>\n",
       "      <th></th>\n",
       "      <th></th>\n",
       "      <th></th>\n",
       "      <th></th>\n",
       "    </tr>\n",
       "  </thead>\n",
       "  <tbody>\n",
       "    <tr>\n",
       "      <th>0</th>\n",
       "      <td>0.352381</td>\n",
       "      <td>0.576190</td>\n",
       "      <td>0.52381</td>\n",
       "      <td>0.319048</td>\n",
       "      <td>35.738095</td>\n",
       "      <td>40.466667</td>\n",
       "      <td>25.971429</td>\n",
       "      <td>36.014286</td>\n",
       "      <td>0.309524</td>\n",
       "      <td>0.457143</td>\n",
       "      <td>0.661905</td>\n",
       "    </tr>\n",
       "    <tr>\n",
       "      <th>1</th>\n",
       "      <td>0.374074</td>\n",
       "      <td>0.714815</td>\n",
       "      <td>0.50000</td>\n",
       "      <td>0.481481</td>\n",
       "      <td>55.359259</td>\n",
       "      <td>65.944444</td>\n",
       "      <td>47.211111</td>\n",
       "      <td>48.937037</td>\n",
       "      <td>0.840741</td>\n",
       "      <td>0.714815</td>\n",
       "      <td>1.318519</td>\n",
       "    </tr>\n",
       "  </tbody>\n",
       "</table>\n",
       "</div>"
      ],
      "text/plain": [
       "                         gender   stageid  semester  relation  raisedhands  \\\n",
       "parentansweringsurvey                                                        \n",
       "0                      0.352381  0.576190   0.52381  0.319048    35.738095   \n",
       "1                      0.374074  0.714815   0.50000  0.481481    55.359259   \n",
       "\n",
       "                       visitedresources  announcementsview  discussion  \\\n",
       "parentansweringsurvey                                                    \n",
       "0                             40.466667          25.971429   36.014286   \n",
       "1                             65.944444          47.211111   48.937037   \n",
       "\n",
       "                       parentschoolsatisfaction  studentabsencedays     class  \n",
       "parentansweringsurvey                                                          \n",
       "0                                      0.309524            0.457143  0.661905  \n",
       "1                                      0.840741            0.714815  1.318519  "
      ]
     },
     "execution_count": 69,
     "metadata": {},
     "output_type": "execute_result"
    }
   ],
   "source": [
    "df.groupby('parentansweringsurvey').mean()"
   ]
  },
  {
   "cell_type": "code",
   "execution_count": 70,
   "id": "1644188d",
   "metadata": {},
   "outputs": [
    {
     "data": {
      "text/html": [
       "<div>\n",
       "<style scoped>\n",
       "    .dataframe tbody tr th:only-of-type {\n",
       "        vertical-align: middle;\n",
       "    }\n",
       "\n",
       "    .dataframe tbody tr th {\n",
       "        vertical-align: top;\n",
       "    }\n",
       "\n",
       "    .dataframe thead th {\n",
       "        text-align: right;\n",
       "    }\n",
       "</style>\n",
       "<table border=\"1\" class=\"dataframe\">\n",
       "  <thead>\n",
       "    <tr style=\"text-align: right;\">\n",
       "      <th></th>\n",
       "      <th>gender</th>\n",
       "      <th>stageid</th>\n",
       "      <th>semester</th>\n",
       "      <th>relation</th>\n",
       "      <th>raisedhands</th>\n",
       "      <th>visitedresources</th>\n",
       "      <th>announcementsview</th>\n",
       "      <th>discussion</th>\n",
       "      <th>parentansweringsurvey</th>\n",
       "      <th>parentschoolsatisfaction</th>\n",
       "      <th>class</th>\n",
       "    </tr>\n",
       "    <tr>\n",
       "      <th>studentabsencedays</th>\n",
       "      <th></th>\n",
       "      <th></th>\n",
       "      <th></th>\n",
       "      <th></th>\n",
       "      <th></th>\n",
       "      <th></th>\n",
       "      <th></th>\n",
       "      <th></th>\n",
       "      <th></th>\n",
       "      <th></th>\n",
       "      <th></th>\n",
       "    </tr>\n",
       "  </thead>\n",
       "  <tbody>\n",
       "    <tr>\n",
       "      <th>0</th>\n",
       "      <td>0.240838</td>\n",
       "      <td>0.570681</td>\n",
       "      <td>0.554974</td>\n",
       "      <td>0.277487</td>\n",
       "      <td>29.230366</td>\n",
       "      <td>34.513089</td>\n",
       "      <td>27.712042</td>\n",
       "      <td>35.853403</td>\n",
       "      <td>0.403141</td>\n",
       "      <td>0.471204</td>\n",
       "      <td>0.413613</td>\n",
       "    </tr>\n",
       "    <tr>\n",
       "      <th>1</th>\n",
       "      <td>0.446367</td>\n",
       "      <td>0.709343</td>\n",
       "      <td>0.480969</td>\n",
       "      <td>0.498270</td>\n",
       "      <td>58.370242</td>\n",
       "      <td>68.204152</td>\n",
       "      <td>44.664360</td>\n",
       "      <td>48.193772</td>\n",
       "      <td>0.667820</td>\n",
       "      <td>0.698962</td>\n",
       "      <td>1.439446</td>\n",
       "    </tr>\n",
       "  </tbody>\n",
       "</table>\n",
       "</div>"
      ],
      "text/plain": [
       "                      gender   stageid  semester  relation  raisedhands  \\\n",
       "studentabsencedays                                                        \n",
       "0                   0.240838  0.570681  0.554974  0.277487    29.230366   \n",
       "1                   0.446367  0.709343  0.480969  0.498270    58.370242   \n",
       "\n",
       "                    visitedresources  announcementsview  discussion  \\\n",
       "studentabsencedays                                                    \n",
       "0                          34.513089          27.712042   35.853403   \n",
       "1                          68.204152          44.664360   48.193772   \n",
       "\n",
       "                    parentansweringsurvey  parentschoolsatisfaction     class  \n",
       "studentabsencedays                                                             \n",
       "0                                0.403141                  0.471204  0.413613  \n",
       "1                                0.667820                  0.698962  1.439446  "
      ]
     },
     "execution_count": 70,
     "metadata": {},
     "output_type": "execute_result"
    }
   ],
   "source": [
    "df.groupby('studentabsencedays').mean()"
   ]
  },
  {
   "cell_type": "code",
   "execution_count": 71,
   "id": "8a0c7118",
   "metadata": {},
   "outputs": [
    {
     "data": {
      "text/html": [
       "<div>\n",
       "<style scoped>\n",
       "    .dataframe tbody tr th:only-of-type {\n",
       "        vertical-align: middle;\n",
       "    }\n",
       "\n",
       "    .dataframe tbody tr th {\n",
       "        vertical-align: top;\n",
       "    }\n",
       "\n",
       "    .dataframe thead th {\n",
       "        text-align: right;\n",
       "    }\n",
       "</style>\n",
       "<table border=\"1\" class=\"dataframe\">\n",
       "  <thead>\n",
       "    <tr style=\"text-align: right;\">\n",
       "      <th></th>\n",
       "      <th>gender</th>\n",
       "      <th>stageid</th>\n",
       "      <th>semester</th>\n",
       "      <th>relation</th>\n",
       "      <th>raisedhands</th>\n",
       "      <th>visitedresources</th>\n",
       "      <th>announcementsview</th>\n",
       "      <th>discussion</th>\n",
       "      <th>parentansweringsurvey</th>\n",
       "      <th>parentschoolsatisfaction</th>\n",
       "      <th>studentabsencedays</th>\n",
       "      <th>class</th>\n",
       "    </tr>\n",
       "    <tr>\n",
       "      <th>nationality</th>\n",
       "      <th></th>\n",
       "      <th></th>\n",
       "      <th></th>\n",
       "      <th></th>\n",
       "      <th></th>\n",
       "      <th></th>\n",
       "      <th></th>\n",
       "      <th></th>\n",
       "      <th></th>\n",
       "      <th></th>\n",
       "      <th></th>\n",
       "      <th></th>\n",
       "    </tr>\n",
       "  </thead>\n",
       "  <tbody>\n",
       "    <tr>\n",
       "      <th>Egypt</th>\n",
       "      <td>0.222222</td>\n",
       "      <td>0.555556</td>\n",
       "      <td>0.222222</td>\n",
       "      <td>0.666667</td>\n",
       "      <td>41.222222</td>\n",
       "      <td>56.000000</td>\n",
       "      <td>44.000000</td>\n",
       "      <td>45.333333</td>\n",
       "      <td>0.444444</td>\n",
       "      <td>0.777778</td>\n",
       "      <td>0.444444</td>\n",
       "      <td>0.888889</td>\n",
       "    </tr>\n",
       "    <tr>\n",
       "      <th>Iran</th>\n",
       "      <td>0.166667</td>\n",
       "      <td>0.666667</td>\n",
       "      <td>0.333333</td>\n",
       "      <td>0.666667</td>\n",
       "      <td>20.833333</td>\n",
       "      <td>31.000000</td>\n",
       "      <td>25.666667</td>\n",
       "      <td>42.500000</td>\n",
       "      <td>0.500000</td>\n",
       "      <td>0.500000</td>\n",
       "      <td>0.333333</td>\n",
       "      <td>0.666667</td>\n",
       "    </tr>\n",
       "    <tr>\n",
       "      <th>Iraq</th>\n",
       "      <td>0.272727</td>\n",
       "      <td>0.545455</td>\n",
       "      <td>0.500000</td>\n",
       "      <td>0.363636</td>\n",
       "      <td>73.772727</td>\n",
       "      <td>83.863636</td>\n",
       "      <td>56.636364</td>\n",
       "      <td>50.272727</td>\n",
       "      <td>0.818182</td>\n",
       "      <td>1.000000</td>\n",
       "      <td>0.727273</td>\n",
       "      <td>1.636364</td>\n",
       "    </tr>\n",
       "    <tr>\n",
       "      <th>Jordan</th>\n",
       "      <td>0.459302</td>\n",
       "      <td>0.558140</td>\n",
       "      <td>0.482558</td>\n",
       "      <td>0.540698</td>\n",
       "      <td>48.860465</td>\n",
       "      <td>63.255814</td>\n",
       "      <td>42.406977</td>\n",
       "      <td>43.034884</td>\n",
       "      <td>0.534884</td>\n",
       "      <td>0.616279</td>\n",
       "      <td>0.575581</td>\n",
       "      <td>1.093023</td>\n",
       "    </tr>\n",
       "    <tr>\n",
       "      <th>KW</th>\n",
       "      <td>0.301676</td>\n",
       "      <td>0.703911</td>\n",
       "      <td>0.625698</td>\n",
       "      <td>0.223464</td>\n",
       "      <td>36.469274</td>\n",
       "      <td>40.558659</td>\n",
       "      <td>26.832402</td>\n",
       "      <td>43.966480</td>\n",
       "      <td>0.530726</td>\n",
       "      <td>0.497207</td>\n",
       "      <td>0.553073</td>\n",
       "      <td>0.821229</td>\n",
       "    </tr>\n",
       "    <tr>\n",
       "      <th>Lybia</th>\n",
       "      <td>0.333333</td>\n",
       "      <td>0.333333</td>\n",
       "      <td>0.500000</td>\n",
       "      <td>1.000000</td>\n",
       "      <td>13.166667</td>\n",
       "      <td>6.333333</td>\n",
       "      <td>8.833333</td>\n",
       "      <td>4.000000</td>\n",
       "      <td>0.000000</td>\n",
       "      <td>1.000000</td>\n",
       "      <td>0.000000</td>\n",
       "      <td>0.000000</td>\n",
       "    </tr>\n",
       "    <tr>\n",
       "      <th>Morocco</th>\n",
       "      <td>0.250000</td>\n",
       "      <td>0.750000</td>\n",
       "      <td>0.000000</td>\n",
       "      <td>0.750000</td>\n",
       "      <td>58.250000</td>\n",
       "      <td>57.500000</td>\n",
       "      <td>62.250000</td>\n",
       "      <td>48.750000</td>\n",
       "      <td>0.250000</td>\n",
       "      <td>0.250000</td>\n",
       "      <td>0.750000</td>\n",
       "      <td>1.000000</td>\n",
       "    </tr>\n",
       "    <tr>\n",
       "      <th>Palestine</th>\n",
       "      <td>0.285714</td>\n",
       "      <td>0.571429</td>\n",
       "      <td>0.500000</td>\n",
       "      <td>0.500000</td>\n",
       "      <td>81.535714</td>\n",
       "      <td>76.107143</td>\n",
       "      <td>59.678571</td>\n",
       "      <td>52.964286</td>\n",
       "      <td>0.714286</td>\n",
       "      <td>1.000000</td>\n",
       "      <td>0.928571</td>\n",
       "      <td>1.428571</td>\n",
       "    </tr>\n",
       "    <tr>\n",
       "      <th>SaudiArabia</th>\n",
       "      <td>0.363636</td>\n",
       "      <td>1.272727</td>\n",
       "      <td>0.272727</td>\n",
       "      <td>0.090909</td>\n",
       "      <td>55.636364</td>\n",
       "      <td>57.090909</td>\n",
       "      <td>50.272727</td>\n",
       "      <td>54.545455</td>\n",
       "      <td>0.727273</td>\n",
       "      <td>0.363636</td>\n",
       "      <td>0.636364</td>\n",
       "      <td>1.454545</td>\n",
       "    </tr>\n",
       "    <tr>\n",
       "      <th>Syria</th>\n",
       "      <td>0.285714</td>\n",
       "      <td>0.571429</td>\n",
       "      <td>0.428571</td>\n",
       "      <td>0.428571</td>\n",
       "      <td>39.285714</td>\n",
       "      <td>53.142857</td>\n",
       "      <td>38.142857</td>\n",
       "      <td>44.428571</td>\n",
       "      <td>0.714286</td>\n",
       "      <td>0.714286</td>\n",
       "      <td>0.571429</td>\n",
       "      <td>1.000000</td>\n",
       "    </tr>\n",
       "    <tr>\n",
       "      <th>Tunis</th>\n",
       "      <td>0.083333</td>\n",
       "      <td>1.000000</td>\n",
       "      <td>0.083333</td>\n",
       "      <td>0.333333</td>\n",
       "      <td>44.333333</td>\n",
       "      <td>62.750000</td>\n",
       "      <td>41.250000</td>\n",
       "      <td>22.833333</td>\n",
       "      <td>0.583333</td>\n",
       "      <td>0.416667</td>\n",
       "      <td>0.666667</td>\n",
       "      <td>0.916667</td>\n",
       "    </tr>\n",
       "    <tr>\n",
       "      <th>USA</th>\n",
       "      <td>0.666667</td>\n",
       "      <td>1.000000</td>\n",
       "      <td>0.833333</td>\n",
       "      <td>0.500000</td>\n",
       "      <td>41.833333</td>\n",
       "      <td>52.000000</td>\n",
       "      <td>34.500000</td>\n",
       "      <td>33.666667</td>\n",
       "      <td>0.833333</td>\n",
       "      <td>0.833333</td>\n",
       "      <td>0.833333</td>\n",
       "      <td>1.333333</td>\n",
       "    </tr>\n",
       "    <tr>\n",
       "      <th>lebanon</th>\n",
       "      <td>0.647059</td>\n",
       "      <td>0.705882</td>\n",
       "      <td>0.294118</td>\n",
       "      <td>0.647059</td>\n",
       "      <td>62.117647</td>\n",
       "      <td>63.176471</td>\n",
       "      <td>43.705882</td>\n",
       "      <td>33.294118</td>\n",
       "      <td>0.647059</td>\n",
       "      <td>0.588235</td>\n",
       "      <td>0.882353</td>\n",
       "      <td>1.411765</td>\n",
       "    </tr>\n",
       "    <tr>\n",
       "      <th>venzuela</th>\n",
       "      <td>0.000000</td>\n",
       "      <td>2.000000</td>\n",
       "      <td>1.000000</td>\n",
       "      <td>1.000000</td>\n",
       "      <td>80.000000</td>\n",
       "      <td>90.000000</td>\n",
       "      <td>70.000000</td>\n",
       "      <td>80.000000</td>\n",
       "      <td>1.000000</td>\n",
       "      <td>1.000000</td>\n",
       "      <td>1.000000</td>\n",
       "      <td>2.000000</td>\n",
       "    </tr>\n",
       "  </tbody>\n",
       "</table>\n",
       "</div>"
      ],
      "text/plain": [
       "               gender   stageid  semester  relation  raisedhands  \\\n",
       "nationality                                                        \n",
       "Egypt        0.222222  0.555556  0.222222  0.666667    41.222222   \n",
       "Iran         0.166667  0.666667  0.333333  0.666667    20.833333   \n",
       "Iraq         0.272727  0.545455  0.500000  0.363636    73.772727   \n",
       "Jordan       0.459302  0.558140  0.482558  0.540698    48.860465   \n",
       "KW           0.301676  0.703911  0.625698  0.223464    36.469274   \n",
       "Lybia        0.333333  0.333333  0.500000  1.000000    13.166667   \n",
       "Morocco      0.250000  0.750000  0.000000  0.750000    58.250000   \n",
       "Palestine    0.285714  0.571429  0.500000  0.500000    81.535714   \n",
       "SaudiArabia  0.363636  1.272727  0.272727  0.090909    55.636364   \n",
       "Syria        0.285714  0.571429  0.428571  0.428571    39.285714   \n",
       "Tunis        0.083333  1.000000  0.083333  0.333333    44.333333   \n",
       "USA          0.666667  1.000000  0.833333  0.500000    41.833333   \n",
       "lebanon      0.647059  0.705882  0.294118  0.647059    62.117647   \n",
       "venzuela     0.000000  2.000000  1.000000  1.000000    80.000000   \n",
       "\n",
       "             visitedresources  announcementsview  discussion  \\\n",
       "nationality                                                    \n",
       "Egypt               56.000000          44.000000   45.333333   \n",
       "Iran                31.000000          25.666667   42.500000   \n",
       "Iraq                83.863636          56.636364   50.272727   \n",
       "Jordan              63.255814          42.406977   43.034884   \n",
       "KW                  40.558659          26.832402   43.966480   \n",
       "Lybia                6.333333           8.833333    4.000000   \n",
       "Morocco             57.500000          62.250000   48.750000   \n",
       "Palestine           76.107143          59.678571   52.964286   \n",
       "SaudiArabia         57.090909          50.272727   54.545455   \n",
       "Syria               53.142857          38.142857   44.428571   \n",
       "Tunis               62.750000          41.250000   22.833333   \n",
       "USA                 52.000000          34.500000   33.666667   \n",
       "lebanon             63.176471          43.705882   33.294118   \n",
       "venzuela            90.000000          70.000000   80.000000   \n",
       "\n",
       "             parentansweringsurvey  parentschoolsatisfaction  \\\n",
       "nationality                                                    \n",
       "Egypt                     0.444444                  0.777778   \n",
       "Iran                      0.500000                  0.500000   \n",
       "Iraq                      0.818182                  1.000000   \n",
       "Jordan                    0.534884                  0.616279   \n",
       "KW                        0.530726                  0.497207   \n",
       "Lybia                     0.000000                  1.000000   \n",
       "Morocco                   0.250000                  0.250000   \n",
       "Palestine                 0.714286                  1.000000   \n",
       "SaudiArabia               0.727273                  0.363636   \n",
       "Syria                     0.714286                  0.714286   \n",
       "Tunis                     0.583333                  0.416667   \n",
       "USA                       0.833333                  0.833333   \n",
       "lebanon                   0.647059                  0.588235   \n",
       "venzuela                  1.000000                  1.000000   \n",
       "\n",
       "             studentabsencedays     class  \n",
       "nationality                                \n",
       "Egypt                  0.444444  0.888889  \n",
       "Iran                   0.333333  0.666667  \n",
       "Iraq                   0.727273  1.636364  \n",
       "Jordan                 0.575581  1.093023  \n",
       "KW                     0.553073  0.821229  \n",
       "Lybia                  0.000000  0.000000  \n",
       "Morocco                0.750000  1.000000  \n",
       "Palestine              0.928571  1.428571  \n",
       "SaudiArabia            0.636364  1.454545  \n",
       "Syria                  0.571429  1.000000  \n",
       "Tunis                  0.666667  0.916667  \n",
       "USA                    0.833333  1.333333  \n",
       "lebanon                0.882353  1.411765  \n",
       "venzuela               1.000000  2.000000  "
      ]
     },
     "execution_count": 71,
     "metadata": {},
     "output_type": "execute_result"
    }
   ],
   "source": [
    "df.groupby('nationality').mean()"
   ]
  },
  {
   "cell_type": "code",
   "execution_count": null,
   "id": "c1f1d990",
   "metadata": {},
   "outputs": [],
   "source": []
  },
  {
   "cell_type": "markdown",
   "id": "beae55cc",
   "metadata": {},
   "source": [
    "# 1)Visualize just the categorical features individually to see what options are included and how each option fares when it comes to count(how many times it appears) and see what can be deduce from that?"
   ]
  },
  {
   "cell_type": "code",
   "execution_count": 88,
   "id": "f3b8b6a6",
   "metadata": {},
   "outputs": [
    {
     "data": {
      "text/plain": [
       "<AxesSubplot:xlabel='parentschoolsatisfaction', ylabel='count'>"
      ]
     },
     "execution_count": 88,
     "metadata": {},
     "output_type": "execute_result"
    },
    {
     "data": {
      "image/png": "[encoded data removed]",
      "text/plain": [
       "<Figure size 1080x216 with 4 Axes>"
      ]
     },
     "metadata": {
      "needs_background": "light"
     },
     "output_type": "display_data"
    }
   ],
   "source": [
    "f,(ax1,ax2,ax3,ax4)=plt.subplots(1,4,figsize=[15,3])\n",
    "sns.countplot(data=df,x=\"parentansweringsurvey\",ax=ax1)\n",
    "sns.countplot(data=df,x=\"stageid\",ax=ax2)\n",
    "sns.countplot(data=df,x=\"topic\",ax=ax3)\n",
    "sns.countplot(data=df,x=\"parentschoolsatisfaction\",ax=ax4)"
   ]
  },
  {
   "cell_type": "code",
   "execution_count": 85,
   "id": "56aedcc0",
   "metadata": {},
   "outputs": [
    {
     "name": "stderr",
     "output_type": "stream",
     "text": [
      "C:\\Users\\Ashok\\anaconda3\\lib\\site-packages\\seaborn\\_decorators.py:36: FutureWarning: Pass the following variable as a keyword arg: x. From version 0.12, the only valid positional argument will be `data`, and passing other arguments without an explicit keyword will result in an error or misinterpretation.\n",
      "  warnings.warn(\n"
     ]
    },
    {
     "data": {
      "text/plain": [
       "<AxesSubplot:xlabel='gender', ylabel='count'>"
      ]
     },
     "execution_count": 85,
     "metadata": {},
     "output_type": "execute_result"
    },
    {
     "data": {
      "image/png": "[encoded data removed]",
      "text/plain": [
       "<Figure size 432x288 with 1 Axes>"
      ]
     },
     "metadata": {
      "needs_background": "light"
     },
     "output_type": "display_data"
    }
   ],
   "source": [
    "sns.countplot(df['gender'])"
   ]
  },
  {
   "cell_type": "code",
   "execution_count": 86,
   "id": "8588fdf5",
   "metadata": {},
   "outputs": [
    {
     "name": "stderr",
     "output_type": "stream",
     "text": [
      "C:\\Users\\Ashok\\anaconda3\\lib\\site-packages\\seaborn\\_decorators.py:36: FutureWarning: Pass the following variable as a keyword arg: x. From version 0.12, the only valid positional argument will be `data`, and passing other arguments without an explicit keyword will result in an error or misinterpretation.\n",
      "  warnings.warn(\n"
     ]
    },
    {
     "data": {
      "text/plain": [
       "<AxesSubplot:xlabel='nationality', ylabel='count'>"
      ]
     },
     "execution_count": 86,
     "metadata": {},
     "output_type": "execute_result"
    },
    {
     "data": {
      "image/png": "[encoded data removed]",
      "text/plain": [
       "<Figure size 432x288 with 1 Axes>"
      ]
     },
     "metadata": {
      "needs_background": "light"
     },
     "output_type": "display_data"
    }
   ],
   "source": [
    "sns.countplot(df['nationality'])"
   ]
  },
  {
   "cell_type": "code",
   "execution_count": 87,
   "id": "26529c98",
   "metadata": {},
   "outputs": [
    {
     "name": "stderr",
     "output_type": "stream",
     "text": [
      "C:\\Users\\Ashok\\anaconda3\\lib\\site-packages\\seaborn\\_decorators.py:36: FutureWarning: Pass the following variable as a keyword arg: x. From version 0.12, the only valid positional argument will be `data`, and passing other arguments without an explicit keyword will result in an error or misinterpretation.\n",
      "  warnings.warn(\n"
     ]
    },
    {
     "data": {
      "text/plain": [
       "<AxesSubplot:xlabel='relation', ylabel='count'>"
      ]
     },
     "execution_count": 87,
     "metadata": {},
     "output_type": "execute_result"
    },
    {
     "data": {
      "image/png": "[encoded data removed]",
      "text/plain": [
       "<Figure size 432x288 with 1 Axes>"
      ]
     },
     "metadata": {
      "needs_background": "light"
     },
     "output_type": "display_data"
    }
   ],
   "source": [
    "sns.countplot(df['relation'])"
   ]
  },
  {
   "cell_type": "code",
   "execution_count": 90,
   "id": "24969341",
   "metadata": {},
   "outputs": [
    {
     "name": "stderr",
     "output_type": "stream",
     "text": [
      "C:\\Users\\Ashok\\anaconda3\\lib\\site-packages\\seaborn\\_decorators.py:36: FutureWarning: Pass the following variable as a keyword arg: x. From version 0.12, the only valid positional argument will be `data`, and passing other arguments without an explicit keyword will result in an error or misinterpretation.\n",
      "  warnings.warn(\n"
     ]
    },
    {
     "data": {
      "text/plain": [
       "<AxesSubplot:xlabel='class', ylabel='count'>"
      ]
     },
     "execution_count": 90,
     "metadata": {},
     "output_type": "execute_result"
    },
    {
     "data": {
      "image/png": "[encoded data removed]",
      "text/plain": [
       "<Figure size 432x288 with 1 Axes>"
      ]
     },
     "metadata": {
      "needs_background": "light"
     },
     "output_type": "display_data"
    }
   ],
   "source": [
    "sns.countplot(df['class'])"
   ]
  },
  {
   "cell_type": "markdown",
   "id": "0779051d",
   "metadata": {},
   "source": [
    "# 2. Look at some categorical features in relation to each other, to see what insights could be possibly read?"
   ]
  },
  {
   "cell_type": "code",
   "execution_count": 101,
   "id": "139adcab",
   "metadata": {},
   "outputs": [
    {
     "data": {
      "text/plain": [
       "<AxesSubplot:xlabel='class', ylabel='count'>"
      ]
     },
     "execution_count": 101,
     "metadata": {},
     "output_type": "execute_result"
    },
    {
     "data": {
      "image/png": "[encoded data removed]",
      "text/plain": [
       "<Figure size 1440x360 with 4 Axes>"
      ]
     },
     "metadata": {
      "needs_background": "light"
     },
     "output_type": "display_data"
    }
   ],
   "source": [
    "fig, (ax1,ax2,ax3,ax4)  = plt.subplots(1,4,figsize=(20,5))\n",
    "sns.countplot(x='class', hue='gender', data=data, ax=ax1)\n",
    "sns.countplot(x='class', hue='relation', data=data, ax=ax2)\n",
    "sns.countplot(x='class', hue='studentabsencedays', data=data, ax=ax3)\n",
    "sns.countplot(x='class', hue='parentansweringsurvey', data=data, ax=ax4)"
   ]
  },
  {
   "cell_type": "code",
   "execution_count": 103,
   "id": "2c3d29a9",
   "metadata": {},
   "outputs": [
    {
     "data": {
      "text/plain": [
       "<AxesSubplot:xlabel='semester', ylabel='count'>"
      ]
     },
     "execution_count": 103,
     "metadata": {},
     "output_type": "execute_result"
    },
    {
     "data": {
      "image/png": "[encoded data removed]",
      "text/plain": [
       "<Figure size 1440x360 with 2 Axes>"
      ]
     },
     "metadata": {
      "needs_background": "light"
     },
     "output_type": "display_data"
    }
   ],
   "source": [
    "fig, (ax1,ax2)  = plt.subplots(1,2,figsize=(20,5))\n",
    "sns.countplot(x='gender', hue='nationality', data=data, ax=ax1)\n",
    "sns.countplot(x='semester', hue='gender', data=data, ax=ax2)"
   ]
  },
  {
   "cell_type": "code",
   "execution_count": null,
   "id": "890ede94",
   "metadata": {},
   "outputs": [],
   "source": []
  },
  {
   "cell_type": "markdown",
   "id": "cab72da8",
   "metadata": {},
   "source": [
    "# 3. Visualize categorical variables with numerical variables and give conclusions?"
   ]
  },
  {
   "cell_type": "code",
   "execution_count": 115,
   "id": "f006cca0",
   "metadata": {},
   "outputs": [
    {
     "data": {
      "text/plain": [
       "<AxesSubplot:xlabel='class', ylabel='announcementsview'>"
      ]
     },
     "execution_count": 115,
     "metadata": {},
     "output_type": "execute_result"
    },
    {
     "data": {
      "image/png": "[encoded data removed]",
      "text/plain": [
       "<Figure size 1080x360 with 4 Axes>"
      ]
     },
     "metadata": {
      "needs_background": "light"
     },
     "output_type": "display_data"
    }
   ],
   "source": [
    "fig, (ax1,ax2,ax3,ax4)  = plt.subplots(1,4,figsize=(15,5))\n",
    "sns.barplot(x='class', y='raisedhands', data=data, ax=ax1)\n",
    "sns.barplot(x='class', y='semester', data=data, ax=ax2)\n",
    "sns.barplot(x='class',y='visitedresources', data=data, ax=ax3)\n",
    "sns.barplot(x='class',y='announcementsview', data=data, ax=ax4)"
   ]
  },
  {
   "cell_type": "markdown",
   "id": "82c16029",
   "metadata": {},
   "source": [
    "# 4. From the above result, what are the factors that leads to get low grades of the students?"
   ]
  },
  {
   "cell_type": "code",
   "execution_count": 152,
   "id": "ba18a57c",
   "metadata": {},
   "outputs": [],
   "source": [
    "df['numeric_class'] = [1 if df.loc[i,'class'] == '0' else 2 if df.loc[i,'class'] == '1' else 3 for i in range(len(data))]"
   ]
  },
  {
   "cell_type": "code",
   "execution_count": 127,
   "id": "3a1b9096",
   "metadata": {},
   "outputs": [
    {
     "name": "stdout",
     "output_type": "stream",
     "text": [
      "Jordan average: 3.0\n"
     ]
    },
    {
     "data": {
      "text/plain": [
       "(array([ 0,  1,  2,  3,  4,  5,  6,  7,  8,  9, 10, 11, 12, 13]),\n",
       " [Text(0, 0, 'KW'),\n",
       "  Text(1, 0, 'lebanon'),\n",
       "  Text(2, 0, 'Egypt'),\n",
       "  Text(3, 0, 'SaudiArabia'),\n",
       "  Text(4, 0, 'USA'),\n",
       "  Text(5, 0, 'Jordan'),\n",
       "  Text(6, 0, 'venzuela'),\n",
       "  Text(7, 0, 'Iran'),\n",
       "  Text(8, 0, 'Tunis'),\n",
       "  Text(9, 0, 'Morocco'),\n",
       "  Text(10, 0, 'Syria'),\n",
       "  Text(11, 0, 'Palestine'),\n",
       "  Text(12, 0, 'Iraq'),\n",
       "  Text(13, 0, 'Lybia')])"
      ]
     },
     "execution_count": 127,
     "metadata": {},
     "output_type": "execute_result"
    },
    {
     "data": {
      "image/png": "[encoded data removed]",
      "text/plain": [
       "<Figure size 432x288 with 1 Axes>"
      ]
     },
     "metadata": {
      "needs_background": "light"
     },
     "output_type": "display_data"
    }
   ],
   "source": [
    "nation = df.nationality.unique()\n",
    "nation_grades_ave = [sum(df[df.nationality == i].numeric_class)/float(len(data[df.nationality == i])) for i in nation]\n",
    "ax = sns.barplot(x=nation, y=nation_grades_ave)\n",
    "jordan_ave = sum(df[df.nationality == 'Jordan'].numeric_class)/float(len(df[df.nationality == 'Jordan']))\n",
    "print('Jordan average: '+str(jordan_ave))\n",
    "plt.xticks(rotation=90)"
   ]
  },
  {
   "cell_type": "code",
   "execution_count": 153,
   "id": "4bc9dc25",
   "metadata": {},
   "outputs": [
    {
     "data": {
      "text/plain": [
       "Text(0.5, 1.0, 'Relation with father or mother affects success of students')"
      ]
     },
     "execution_count": 153,
     "metadata": {},
     "output_type": "execute_result"
    },
    {
     "data": {
      "image/png": "[encoded data removed]",
      "text/plain": [
       "<Figure size 432x288 with 1 Axes>"
      ]
     },
     "metadata": {
      "needs_background": "light"
     },
     "output_type": "display_data"
    }
   ],
   "source": [
    "relation = df.relation.unique()\n",
    "relation_grade_ave = [sum(df[df.relation == i].numeric_class)/float(len(df[df.relation == i])) for i in relation]\n",
    "ax = sns.barplot(x=relation, y=relation_grade_ave)\n",
    "plt.title('Relation with father or mother affects success of students')"
   ]
  },
  {
   "cell_type": "markdown",
   "id": "36f1e7fd",
   "metadata": {},
   "source": [
    "# 5. Build classification model and present it's classification report ?"
   ]
  },
  {
   "cell_type": "markdown",
   "id": "60dc146d",
   "metadata": {},
   "source": [
    "# SPLITTING DATA"
   ]
  },
  {
   "cell_type": "code",
   "execution_count": 177,
   "id": "d255bd55",
   "metadata": {},
   "outputs": [],
   "source": [
    "x=df.iloc[:,:-1]\n",
    "y=df['class']"
   ]
  },
  {
   "cell_type": "code",
   "execution_count": 178,
   "id": "7edd0ac4",
   "metadata": {},
   "outputs": [],
   "source": [
    "df_dummies=pd.get_dummies(x,drop_first=True)"
   ]
  },
  {
   "cell_type": "code",
   "execution_count": 179,
   "id": "73eba0bc",
   "metadata": {},
   "outputs": [
    {
     "data": {
      "text/html": [
       "<div>\n",
       "<style scoped>\n",
       "    .dataframe tbody tr th:only-of-type {\n",
       "        vertical-align: middle;\n",
       "    }\n",
       "\n",
       "    .dataframe tbody tr th {\n",
       "        vertical-align: top;\n",
       "    }\n",
       "\n",
       "    .dataframe thead th {\n",
       "        text-align: right;\n",
       "    }\n",
       "</style>\n",
       "<table border=\"1\" class=\"dataframe\">\n",
       "  <thead>\n",
       "    <tr style=\"text-align: right;\">\n",
       "      <th></th>\n",
       "      <th>raisedhands</th>\n",
       "      <th>visitedresources</th>\n",
       "      <th>announcementsview</th>\n",
       "      <th>discussion</th>\n",
       "      <th>gender_M</th>\n",
       "      <th>nationality_Iran</th>\n",
       "      <th>nationality_Iraq</th>\n",
       "      <th>nationality_Jordan</th>\n",
       "      <th>nationality_KW</th>\n",
       "      <th>nationality_Lybia</th>\n",
       "      <th>...</th>\n",
       "      <th>topic_IT</th>\n",
       "      <th>topic_Math</th>\n",
       "      <th>topic_Quran</th>\n",
       "      <th>topic_Science</th>\n",
       "      <th>topic_Spanish</th>\n",
       "      <th>semester_S</th>\n",
       "      <th>relation_Mum</th>\n",
       "      <th>parentansweringsurvey_Yes</th>\n",
       "      <th>parentschoolsatisfaction_Good</th>\n",
       "      <th>studentabsencedays_Under-7</th>\n",
       "    </tr>\n",
       "  </thead>\n",
       "  <tbody>\n",
       "    <tr>\n",
       "      <th>0</th>\n",
       "      <td>15</td>\n",
       "      <td>16</td>\n",
       "      <td>2</td>\n",
       "      <td>20</td>\n",
       "      <td>1</td>\n",
       "      <td>0</td>\n",
       "      <td>0</td>\n",
       "      <td>0</td>\n",
       "      <td>1</td>\n",
       "      <td>0</td>\n",
       "      <td>...</td>\n",
       "      <td>1</td>\n",
       "      <td>0</td>\n",
       "      <td>0</td>\n",
       "      <td>0</td>\n",
       "      <td>0</td>\n",
       "      <td>0</td>\n",
       "      <td>0</td>\n",
       "      <td>1</td>\n",
       "      <td>1</td>\n",
       "      <td>1</td>\n",
       "    </tr>\n",
       "    <tr>\n",
       "      <th>1</th>\n",
       "      <td>20</td>\n",
       "      <td>20</td>\n",
       "      <td>3</td>\n",
       "      <td>25</td>\n",
       "      <td>1</td>\n",
       "      <td>0</td>\n",
       "      <td>0</td>\n",
       "      <td>0</td>\n",
       "      <td>1</td>\n",
       "      <td>0</td>\n",
       "      <td>...</td>\n",
       "      <td>1</td>\n",
       "      <td>0</td>\n",
       "      <td>0</td>\n",
       "      <td>0</td>\n",
       "      <td>0</td>\n",
       "      <td>0</td>\n",
       "      <td>0</td>\n",
       "      <td>1</td>\n",
       "      <td>1</td>\n",
       "      <td>1</td>\n",
       "    </tr>\n",
       "    <tr>\n",
       "      <th>2</th>\n",
       "      <td>10</td>\n",
       "      <td>7</td>\n",
       "      <td>0</td>\n",
       "      <td>30</td>\n",
       "      <td>1</td>\n",
       "      <td>0</td>\n",
       "      <td>0</td>\n",
       "      <td>0</td>\n",
       "      <td>1</td>\n",
       "      <td>0</td>\n",
       "      <td>...</td>\n",
       "      <td>1</td>\n",
       "      <td>0</td>\n",
       "      <td>0</td>\n",
       "      <td>0</td>\n",
       "      <td>0</td>\n",
       "      <td>0</td>\n",
       "      <td>0</td>\n",
       "      <td>0</td>\n",
       "      <td>0</td>\n",
       "      <td>0</td>\n",
       "    </tr>\n",
       "    <tr>\n",
       "      <th>3</th>\n",
       "      <td>30</td>\n",
       "      <td>25</td>\n",
       "      <td>5</td>\n",
       "      <td>35</td>\n",
       "      <td>1</td>\n",
       "      <td>0</td>\n",
       "      <td>0</td>\n",
       "      <td>0</td>\n",
       "      <td>1</td>\n",
       "      <td>0</td>\n",
       "      <td>...</td>\n",
       "      <td>1</td>\n",
       "      <td>0</td>\n",
       "      <td>0</td>\n",
       "      <td>0</td>\n",
       "      <td>0</td>\n",
       "      <td>0</td>\n",
       "      <td>0</td>\n",
       "      <td>0</td>\n",
       "      <td>0</td>\n",
       "      <td>0</td>\n",
       "    </tr>\n",
       "    <tr>\n",
       "      <th>4</th>\n",
       "      <td>40</td>\n",
       "      <td>50</td>\n",
       "      <td>12</td>\n",
       "      <td>50</td>\n",
       "      <td>1</td>\n",
       "      <td>0</td>\n",
       "      <td>0</td>\n",
       "      <td>0</td>\n",
       "      <td>1</td>\n",
       "      <td>0</td>\n",
       "      <td>...</td>\n",
       "      <td>1</td>\n",
       "      <td>0</td>\n",
       "      <td>0</td>\n",
       "      <td>0</td>\n",
       "      <td>0</td>\n",
       "      <td>0</td>\n",
       "      <td>0</td>\n",
       "      <td>0</td>\n",
       "      <td>0</td>\n",
       "      <td>0</td>\n",
       "    </tr>\n",
       "    <tr>\n",
       "      <th>...</th>\n",
       "      <td>...</td>\n",
       "      <td>...</td>\n",
       "      <td>...</td>\n",
       "      <td>...</td>\n",
       "      <td>...</td>\n",
       "      <td>...</td>\n",
       "      <td>...</td>\n",
       "      <td>...</td>\n",
       "      <td>...</td>\n",
       "      <td>...</td>\n",
       "      <td>...</td>\n",
       "      <td>...</td>\n",
       "      <td>...</td>\n",
       "      <td>...</td>\n",
       "      <td>...</td>\n",
       "      <td>...</td>\n",
       "      <td>...</td>\n",
       "      <td>...</td>\n",
       "      <td>...</td>\n",
       "      <td>...</td>\n",
       "      <td>...</td>\n",
       "    </tr>\n",
       "    <tr>\n",
       "      <th>475</th>\n",
       "      <td>5</td>\n",
       "      <td>4</td>\n",
       "      <td>5</td>\n",
       "      <td>8</td>\n",
       "      <td>0</td>\n",
       "      <td>0</td>\n",
       "      <td>0</td>\n",
       "      <td>1</td>\n",
       "      <td>0</td>\n",
       "      <td>0</td>\n",
       "      <td>...</td>\n",
       "      <td>0</td>\n",
       "      <td>0</td>\n",
       "      <td>0</td>\n",
       "      <td>0</td>\n",
       "      <td>0</td>\n",
       "      <td>1</td>\n",
       "      <td>0</td>\n",
       "      <td>0</td>\n",
       "      <td>0</td>\n",
       "      <td>0</td>\n",
       "    </tr>\n",
       "    <tr>\n",
       "      <th>476</th>\n",
       "      <td>50</td>\n",
       "      <td>77</td>\n",
       "      <td>14</td>\n",
       "      <td>28</td>\n",
       "      <td>0</td>\n",
       "      <td>0</td>\n",
       "      <td>0</td>\n",
       "      <td>1</td>\n",
       "      <td>0</td>\n",
       "      <td>0</td>\n",
       "      <td>...</td>\n",
       "      <td>0</td>\n",
       "      <td>0</td>\n",
       "      <td>0</td>\n",
       "      <td>0</td>\n",
       "      <td>0</td>\n",
       "      <td>0</td>\n",
       "      <td>0</td>\n",
       "      <td>0</td>\n",
       "      <td>0</td>\n",
       "      <td>1</td>\n",
       "    </tr>\n",
       "    <tr>\n",
       "      <th>477</th>\n",
       "      <td>55</td>\n",
       "      <td>74</td>\n",
       "      <td>25</td>\n",
       "      <td>29</td>\n",
       "      <td>0</td>\n",
       "      <td>0</td>\n",
       "      <td>0</td>\n",
       "      <td>1</td>\n",
       "      <td>0</td>\n",
       "      <td>0</td>\n",
       "      <td>...</td>\n",
       "      <td>0</td>\n",
       "      <td>0</td>\n",
       "      <td>0</td>\n",
       "      <td>0</td>\n",
       "      <td>0</td>\n",
       "      <td>1</td>\n",
       "      <td>0</td>\n",
       "      <td>0</td>\n",
       "      <td>0</td>\n",
       "      <td>1</td>\n",
       "    </tr>\n",
       "    <tr>\n",
       "      <th>478</th>\n",
       "      <td>30</td>\n",
       "      <td>17</td>\n",
       "      <td>14</td>\n",
       "      <td>57</td>\n",
       "      <td>0</td>\n",
       "      <td>0</td>\n",
       "      <td>0</td>\n",
       "      <td>1</td>\n",
       "      <td>0</td>\n",
       "      <td>0</td>\n",
       "      <td>...</td>\n",
       "      <td>0</td>\n",
       "      <td>0</td>\n",
       "      <td>0</td>\n",
       "      <td>0</td>\n",
       "      <td>0</td>\n",
       "      <td>0</td>\n",
       "      <td>0</td>\n",
       "      <td>0</td>\n",
       "      <td>0</td>\n",
       "      <td>0</td>\n",
       "    </tr>\n",
       "    <tr>\n",
       "      <th>479</th>\n",
       "      <td>35</td>\n",
       "      <td>14</td>\n",
       "      <td>23</td>\n",
       "      <td>62</td>\n",
       "      <td>0</td>\n",
       "      <td>0</td>\n",
       "      <td>0</td>\n",
       "      <td>1</td>\n",
       "      <td>0</td>\n",
       "      <td>0</td>\n",
       "      <td>...</td>\n",
       "      <td>0</td>\n",
       "      <td>0</td>\n",
       "      <td>0</td>\n",
       "      <td>0</td>\n",
       "      <td>0</td>\n",
       "      <td>1</td>\n",
       "      <td>0</td>\n",
       "      <td>0</td>\n",
       "      <td>0</td>\n",
       "      <td>0</td>\n",
       "    </tr>\n",
       "  </tbody>\n",
       "</table>\n",
       "<p>480 rows × 60 columns</p>\n",
       "</div>"
      ],
      "text/plain": [
       "     raisedhands  visitedresources  announcementsview  discussion  gender_M  \\\n",
       "0             15                16                  2          20         1   \n",
       "1             20                20                  3          25         1   \n",
       "2             10                 7                  0          30         1   \n",
       "3             30                25                  5          35         1   \n",
       "4             40                50                 12          50         1   \n",
       "..           ...               ...                ...         ...       ...   \n",
       "475            5                 4                  5           8         0   \n",
       "476           50                77                 14          28         0   \n",
       "477           55                74                 25          29         0   \n",
       "478           30                17                 14          57         0   \n",
       "479           35                14                 23          62         0   \n",
       "\n",
       "     nationality_Iran  nationality_Iraq  nationality_Jordan  nationality_KW  \\\n",
       "0                   0                 0                   0               1   \n",
       "1                   0                 0                   0               1   \n",
       "2                   0                 0                   0               1   \n",
       "3                   0                 0                   0               1   \n",
       "4                   0                 0                   0               1   \n",
       "..                ...               ...                 ...             ...   \n",
       "475                 0                 0                   1               0   \n",
       "476                 0                 0                   1               0   \n",
       "477                 0                 0                   1               0   \n",
       "478                 0                 0                   1               0   \n",
       "479                 0                 0                   1               0   \n",
       "\n",
       "     nationality_Lybia  ...  topic_IT  topic_Math  topic_Quran  topic_Science  \\\n",
       "0                    0  ...         1           0            0              0   \n",
       "1                    0  ...         1           0            0              0   \n",
       "2                    0  ...         1           0            0              0   \n",
       "3                    0  ...         1           0            0              0   \n",
       "4                    0  ...         1           0            0              0   \n",
       "..                 ...  ...       ...         ...          ...            ...   \n",
       "475                  0  ...         0           0            0              0   \n",
       "476                  0  ...         0           0            0              0   \n",
       "477                  0  ...         0           0            0              0   \n",
       "478                  0  ...         0           0            0              0   \n",
       "479                  0  ...         0           0            0              0   \n",
       "\n",
       "     topic_Spanish  semester_S  relation_Mum  parentansweringsurvey_Yes  \\\n",
       "0                0           0             0                          1   \n",
       "1                0           0             0                          1   \n",
       "2                0           0             0                          0   \n",
       "3                0           0             0                          0   \n",
       "4                0           0             0                          0   \n",
       "..             ...         ...           ...                        ...   \n",
       "475              0           1             0                          0   \n",
       "476              0           0             0                          0   \n",
       "477              0           1             0                          0   \n",
       "478              0           0             0                          0   \n",
       "479              0           1             0                          0   \n",
       "\n",
       "     parentschoolsatisfaction_Good  studentabsencedays_Under-7  \n",
       "0                                1                           1  \n",
       "1                                1                           1  \n",
       "2                                0                           0  \n",
       "3                                0                           0  \n",
       "4                                0                           0  \n",
       "..                             ...                         ...  \n",
       "475                              0                           0  \n",
       "476                              0                           1  \n",
       "477                              0                           1  \n",
       "478                              0                           0  \n",
       "479                              0                           0  \n",
       "\n",
       "[480 rows x 60 columns]"
      ]
     },
     "execution_count": 179,
     "metadata": {},
     "output_type": "execute_result"
    }
   ],
   "source": [
    "df_dummies"
   ]
  },
  {
   "cell_type": "code",
   "execution_count": 180,
   "id": "203e3d10",
   "metadata": {},
   "outputs": [
    {
     "name": "stdout",
     "output_type": "stream",
     "text": [
      "<class 'pandas.core.frame.DataFrame'>\n",
      "RangeIndex: 480 entries, 0 to 479\n",
      "Data columns (total 60 columns):\n",
      " #   Column                         Non-Null Count  Dtype\n",
      "---  ------                         --------------  -----\n",
      " 0   raisedhands                    480 non-null    int64\n",
      " 1   visitedresources               480 non-null    int64\n",
      " 2   announcementsview              480 non-null    int64\n",
      " 3   discussion                     480 non-null    int64\n",
      " 4   gender_M                       480 non-null    uint8\n",
      " 5   nationality_Iran               480 non-null    uint8\n",
      " 6   nationality_Iraq               480 non-null    uint8\n",
      " 7   nationality_Jordan             480 non-null    uint8\n",
      " 8   nationality_KW                 480 non-null    uint8\n",
      " 9   nationality_Lybia              480 non-null    uint8\n",
      " 10  nationality_Morocco            480 non-null    uint8\n",
      " 11  nationality_Palestine          480 non-null    uint8\n",
      " 12  nationality_SaudiArabia        480 non-null    uint8\n",
      " 13  nationality_Syria              480 non-null    uint8\n",
      " 14  nationality_Tunis              480 non-null    uint8\n",
      " 15  nationality_USA                480 non-null    uint8\n",
      " 16  nationality_lebanon            480 non-null    uint8\n",
      " 17  nationality_venzuela           480 non-null    uint8\n",
      " 18  placeofbirth_Iran              480 non-null    uint8\n",
      " 19  placeofbirth_Iraq              480 non-null    uint8\n",
      " 20  placeofbirth_Jordan            480 non-null    uint8\n",
      " 21  placeofbirth_KuwaIT            480 non-null    uint8\n",
      " 22  placeofbirth_Lybia             480 non-null    uint8\n",
      " 23  placeofbirth_Morocco           480 non-null    uint8\n",
      " 24  placeofbirth_Palestine         480 non-null    uint8\n",
      " 25  placeofbirth_SaudiArabia       480 non-null    uint8\n",
      " 26  placeofbirth_Syria             480 non-null    uint8\n",
      " 27  placeofbirth_Tunis             480 non-null    uint8\n",
      " 28  placeofbirth_USA               480 non-null    uint8\n",
      " 29  placeofbirth_lebanon           480 non-null    uint8\n",
      " 30  placeofbirth_venzuela          480 non-null    uint8\n",
      " 31  stageid_MiddleSchool           480 non-null    uint8\n",
      " 32  stageid_lowerlevel             480 non-null    uint8\n",
      " 33  gradeid_G-04                   480 non-null    uint8\n",
      " 34  gradeid_G-05                   480 non-null    uint8\n",
      " 35  gradeid_G-06                   480 non-null    uint8\n",
      " 36  gradeid_G-07                   480 non-null    uint8\n",
      " 37  gradeid_G-08                   480 non-null    uint8\n",
      " 38  gradeid_G-09                   480 non-null    uint8\n",
      " 39  gradeid_G-10                   480 non-null    uint8\n",
      " 40  gradeid_G-11                   480 non-null    uint8\n",
      " 41  gradeid_G-12                   480 non-null    uint8\n",
      " 42  sectionid_B                    480 non-null    uint8\n",
      " 43  sectionid_C                    480 non-null    uint8\n",
      " 44  topic_Biology                  480 non-null    uint8\n",
      " 45  topic_Chemistry                480 non-null    uint8\n",
      " 46  topic_English                  480 non-null    uint8\n",
      " 47  topic_French                   480 non-null    uint8\n",
      " 48  topic_Geology                  480 non-null    uint8\n",
      " 49  topic_History                  480 non-null    uint8\n",
      " 50  topic_IT                       480 non-null    uint8\n",
      " 51  topic_Math                     480 non-null    uint8\n",
      " 52  topic_Quran                    480 non-null    uint8\n",
      " 53  topic_Science                  480 non-null    uint8\n",
      " 54  topic_Spanish                  480 non-null    uint8\n",
      " 55  semester_S                     480 non-null    uint8\n",
      " 56  relation_Mum                   480 non-null    uint8\n",
      " 57  parentansweringsurvey_Yes      480 non-null    uint8\n",
      " 58  parentschoolsatisfaction_Good  480 non-null    uint8\n",
      " 59  studentabsencedays_Under-7     480 non-null    uint8\n",
      "dtypes: int64(4), uint8(56)\n",
      "memory usage: 41.4 KB\n"
     ]
    }
   ],
   "source": [
    "df_dummies.info()"
   ]
  },
  {
   "cell_type": "code",
   "execution_count": 181,
   "id": "4627148c",
   "metadata": {
    "scrolled": true
   },
   "outputs": [],
   "source": [
    "df['class']=df['class'].replace({'H':'2','M':'1','L':'0'})"
   ]
  },
  {
   "cell_type": "code",
   "execution_count": 184,
   "id": "a24c2934",
   "metadata": {},
   "outputs": [],
   "source": [
    "data1 = data.drop('class',axis = 1)\n",
    "data_with_dummies = pd.get_dummies(data1, drop_first=True)"
   ]
  },
  {
   "cell_type": "code",
   "execution_count": 185,
   "id": "feccbe16",
   "metadata": {},
   "outputs": [],
   "source": [
    "Features = data_with_dummies.drop(['numeric_class'],axis = 1)\n",
    "Target = data_with_dummies['numeric_class']\n"
   ]
  },
  {
   "cell_type": "code",
   "execution_count": 186,
   "id": "363a7fbc",
   "metadata": {},
   "outputs": [
    {
     "data": {
      "text/plain": [
       "StandardScaler()"
      ]
     },
     "execution_count": 186,
     "metadata": {},
     "output_type": "execute_result"
    }
   ],
   "source": [
    "from sklearn.preprocessing import StandardScaler\n",
    "\n",
    "scaler = StandardScaler()\n",
    "scaler.fit(Features)"
   ]
  },
  {
   "cell_type": "code",
   "execution_count": 193,
   "id": "493d6578",
   "metadata": {},
   "outputs": [],
   "source": [
    "x = scaler.fit_transform(Features)"
   ]
  },
  {
   "cell_type": "code",
   "execution_count": 194,
   "id": "7a20b08f",
   "metadata": {},
   "outputs": [],
   "source": [
    "x_train, x_test, y_train, y_test = train_test_split(x,y, test_size= 0.33,random_state=12)"
   ]
  },
  {
   "cell_type": "code",
   "execution_count": 195,
   "id": "89339a45",
   "metadata": {},
   "outputs": [
    {
     "data": {
      "text/plain": [
       "LogisticRegression()"
      ]
     },
     "execution_count": 195,
     "metadata": {},
     "output_type": "execute_result"
    }
   ],
   "source": [
    "Logit_Model = LogisticRegression()\n",
    "Logit_Model.fit(x_train,y_train)"
   ]
  },
  {
   "cell_type": "code",
   "execution_count": 198,
   "id": "5d7ad1ab",
   "metadata": {},
   "outputs": [],
   "source": [
    "from sklearn.linear_model import LogisticRegression\n",
    "from sklearn.metrics import classification_report, accuracy_score\n",
    "Prediction = Logit_Model.predict(x_test)\n",
    "Score = accuracy_score(y_test,Prediction)\n",
    "Report = classification_report(y_test,Prediction)"
   ]
  },
  {
   "cell_type": "code",
   "execution_count": 199,
   "id": "fc2709e2",
   "metadata": {},
   "outputs": [
    {
     "data": {
      "text/plain": [
       "array(['0', '1', '2', '2', '1', '2', '1', '0', '1', '0', '2', '1', '0',\n",
       "       '1', '1', '1', '1', '1', '1', '2', '2', '2', '1', '1', '1', '0',\n",
       "       '2', '1', '0', '0', '0', '2', '2', '2', '1', '0', '2', '2', '1',\n",
       "       '1', '1', '2', '1', '1', '1', '2', '1', '1', '1', '1', '1', '2',\n",
       "       '1', '1', '0', '1', '2', '2', '2', '0', '2', '2', '2', '1', '1',\n",
       "       '2', '2', '2', '2', '1', '2', '1', '1', '1', '1', '2', '1', '1',\n",
       "       '1', '2', '1', '2', '1', '1', '2', '2', '1', '0', '0', '2', '1',\n",
       "       '0', '1', '2', '2', '1', '0', '2', '2', '0', '2', '2', '1', '0',\n",
       "       '1', '0', '2', '2', '2', '0', '2', '1', '1', '2', '2', '1', '1',\n",
       "       '0', '1', '1', '0', '1', '1', '0', '1', '1', '1', '1', '1', '0',\n",
       "       '1', '2', '1', '1', '2', '1', '1', '1', '0', '1', '1', '0', '1',\n",
       "       '1', '1', '1', '2', '1', '2', '2', '1', '0', '2', '2', '1', '1',\n",
       "       '0', '1', '2'], dtype=object)"
      ]
     },
     "execution_count": 199,
     "metadata": {},
     "output_type": "execute_result"
    }
   ],
   "source": [
    "Prediction"
   ]
  },
  {
   "cell_type": "code",
   "execution_count": 200,
   "id": "898415d3",
   "metadata": {},
   "outputs": [
    {
     "data": {
      "text/plain": [
       "0.7421383647798742"
      ]
     },
     "execution_count": 200,
     "metadata": {},
     "output_type": "execute_result"
    }
   ],
   "source": [
    "Score"
   ]
  },
  {
   "cell_type": "code",
   "execution_count": 201,
   "id": "43bba280",
   "metadata": {},
   "outputs": [
    {
     "name": "stdout",
     "output_type": "stream",
     "text": [
      "              precision    recall  f1-score   support\n",
      "\n",
      "           0       0.85      0.64      0.73        36\n",
      "           1       0.66      0.79      0.72        66\n",
      "           2       0.81      0.75      0.78        57\n",
      "\n",
      "    accuracy                           0.74       159\n",
      "   macro avg       0.77      0.73      0.74       159\n",
      "weighted avg       0.76      0.74      0.74       159\n",
      "\n"
     ]
    }
   ],
   "source": [
    "print(Report)"
   ]
  },
  {
   "cell_type": "markdown",
   "id": "ea276e85",
   "metadata": {},
   "source": [
    "# multicolinearity test"
   ]
  },
  {
   "cell_type": "code",
   "execution_count": 202,
   "id": "7a67a053",
   "metadata": {},
   "outputs": [],
   "source": [
    "from statsmodels.stats.outliers_influence import variance_inflation_factor as vif\n",
    "def multicolinearity_check(x):\n",
    "    vif_data = pd.DataFrame()\n",
    "    vif_data['feature'] = x.columns\n",
    "    vif_data['VIF'] = [vif(x.values,i) for i in range(len(x.columns))]\n",
    "    return vif_data"
   ]
  },
  {
   "cell_type": "code",
   "execution_count": 207,
   "id": "c79e45ef",
   "metadata": {},
   "outputs": [
    {
     "data": {
      "text/html": [
       "<div>\n",
       "<style scoped>\n",
       "    .dataframe tbody tr th:only-of-type {\n",
       "        vertical-align: middle;\n",
       "    }\n",
       "\n",
       "    .dataframe tbody tr th {\n",
       "        vertical-align: top;\n",
       "    }\n",
       "\n",
       "    .dataframe thead th {\n",
       "        text-align: right;\n",
       "    }\n",
       "</style>\n",
       "<table border=\"1\" class=\"dataframe\">\n",
       "  <thead>\n",
       "    <tr style=\"text-align: right;\">\n",
       "      <th></th>\n",
       "      <th>feature</th>\n",
       "      <th>VIF</th>\n",
       "    </tr>\n",
       "  </thead>\n",
       "  <tbody>\n",
       "    <tr>\n",
       "      <th>0</th>\n",
       "      <td>raisedhands</td>\n",
       "      <td>7.624493</td>\n",
       "    </tr>\n",
       "    <tr>\n",
       "      <th>1</th>\n",
       "      <td>visitedresources</td>\n",
       "      <td>6.893179</td>\n",
       "    </tr>\n",
       "    <tr>\n",
       "      <th>2</th>\n",
       "      <td>announcementsview</td>\n",
       "      <td>6.075343</td>\n",
       "    </tr>\n",
       "    <tr>\n",
       "      <th>3</th>\n",
       "      <td>discussion</td>\n",
       "      <td>3.365527</td>\n",
       "    </tr>\n",
       "  </tbody>\n",
       "</table>\n",
       "</div>"
      ],
      "text/plain": [
       "             feature       VIF\n",
       "0        raisedhands  7.624493\n",
       "1   visitedresources  6.893179\n",
       "2  announcementsview  6.075343\n",
       "3         discussion  3.365527"
      ]
     },
     "execution_count": 207,
     "metadata": {},
     "output_type": "execute_result"
    }
   ],
   "source": [
    "multicolinearity_check(num)"
   ]
  },
  {
   "cell_type": "code",
   "execution_count": null,
   "id": "b164b96b",
   "metadata": {},
   "outputs": [],
   "source": []
  },
  {
   "cell_type": "code",
   "execution_count": null,
   "id": "65fadf17",
   "metadata": {},
   "outputs": [],
   "source": []
  },
  {
   "cell_type": "code",
   "execution_count": null,
   "id": "7689a36f",
   "metadata": {},
   "outputs": [],
   "source": []
  },
  {
   "cell_type": "code",
   "execution_count": null,
   "id": "f460466b",
   "metadata": {},
   "outputs": [],
   "source": []
  },
  {
   "cell_type": "code",
   "execution_count": null,
   "id": "0235248e",
   "metadata": {},
   "outputs": [],
   "source": []
  },
  {
   "cell_type": "code",
   "execution_count": null,
   "id": "260e1fcb",
   "metadata": {},
   "outputs": [],
   "source": []
  },
  {
   "cell_type": "code",
   "execution_count": null,
   "id": "c7a18ffb",
   "metadata": {},
   "outputs": [],
   "source": []
  }
 ],
 "metadata": {
  "kernelspec": {
   "display_name": "Python 3 (ipykernel)",
   "language": "python",
   "name": "python3"
  },
  "language_info": {
   "codemirror_mode": {
    "name": "ipython",
    "version": 3
   },
   "file_extension": ".py",
   "mimetype": "text/x-python",
   "name": "python",
   "nbconvert_exporter": "python",
   "pygments_lexer": "ipython3",
   "version": "3.9.12"
  }
 },
 "nbformat": 4,
 "nbformat_minor": 5
}
