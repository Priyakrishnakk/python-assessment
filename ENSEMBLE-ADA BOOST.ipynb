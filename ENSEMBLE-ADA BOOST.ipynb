{
 "cells": [
  {
   "cell_type": "code",
   "execution_count": 1,
   "id": "f57b6c61",
   "metadata": {},
   "outputs": [],
   "source": [
    "import pandas as pd\n",
    "import numpy as np"
   ]
  },
  {
   "cell_type": "code",
   "execution_count": 122,
   "id": "dab4e69c",
   "metadata": {},
   "outputs": [],
   "source": [
    "df=pd.read_excel('adaboost.xlsx')"
   ]
  },
  {
   "cell_type": "code",
   "execution_count": 123,
   "id": "25251d3a",
   "metadata": {},
   "outputs": [
    {
     "data": {
      "text/html": [
       "<div>\n",
       "<style scoped>\n",
       "    .dataframe tbody tr th:only-of-type {\n",
       "        vertical-align: middle;\n",
       "    }\n",
       "\n",
       "    .dataframe tbody tr th {\n",
       "        vertical-align: top;\n",
       "    }\n",
       "\n",
       "    .dataframe thead th {\n",
       "        text-align: right;\n",
       "    }\n",
       "</style>\n",
       "<table border=\"1\" class=\"dataframe\">\n",
       "  <thead>\n",
       "    <tr style=\"text-align: right;\">\n",
       "      <th></th>\n",
       "      <th>gender</th>\n",
       "      <th>age</th>\n",
       "      <th>income</th>\n",
       "      <th>illness</th>\n",
       "      <th>sample initial weight</th>\n",
       "    </tr>\n",
       "  </thead>\n",
       "  <tbody>\n",
       "    <tr>\n",
       "      <th>0</th>\n",
       "      <td>m</td>\n",
       "      <td>41</td>\n",
       "      <td>40000</td>\n",
       "      <td>y</td>\n",
       "      <td>0.2</td>\n",
       "    </tr>\n",
       "    <tr>\n",
       "      <th>1</th>\n",
       "      <td>m</td>\n",
       "      <td>54</td>\n",
       "      <td>30000</td>\n",
       "      <td>n</td>\n",
       "      <td>0.2</td>\n",
       "    </tr>\n",
       "    <tr>\n",
       "      <th>2</th>\n",
       "      <td>f</td>\n",
       "      <td>42</td>\n",
       "      <td>25000</td>\n",
       "      <td>n</td>\n",
       "      <td>0.2</td>\n",
       "    </tr>\n",
       "    <tr>\n",
       "      <th>3</th>\n",
       "      <td>f</td>\n",
       "      <td>40</td>\n",
       "      <td>60000</td>\n",
       "      <td>y</td>\n",
       "      <td>0.2</td>\n",
       "    </tr>\n",
       "    <tr>\n",
       "      <th>4</th>\n",
       "      <td>m</td>\n",
       "      <td>46</td>\n",
       "      <td>50000</td>\n",
       "      <td>y</td>\n",
       "      <td>0.2</td>\n",
       "    </tr>\n",
       "  </tbody>\n",
       "</table>\n",
       "</div>"
      ],
      "text/plain": [
       "  gender  age  income illness  sample initial weight\n",
       "0      m   41   40000       y                    0.2\n",
       "1      m   54   30000       n                    0.2\n",
       "2      f   42   25000       n                    0.2\n",
       "3      f   40   60000       y                    0.2\n",
       "4      m   46   50000       y                    0.2"
      ]
     },
     "execution_count": 123,
     "metadata": {},
     "output_type": "execute_result"
    }
   ],
   "source": [
    "df"
   ]
  },
  {
   "cell_type": "code",
   "execution_count": 124,
   "id": "f0b7e16b",
   "metadata": {},
   "outputs": [
    {
     "data": {
      "text/plain": [
       "3    15\n",
       "4     3\n",
       "2     1\n",
       "1     1\n",
       "dtype: int64"
      ]
     },
     "execution_count": 124,
     "metadata": {},
     "output_type": "execute_result"
    }
   ],
   "source": [
    "df.sample(20,weights=(0.084,0.084,0.084,0.65,0.084),replace=True).index.value_counts()"
   ]
  },
  {
   "cell_type": "code",
   "execution_count": 125,
   "id": "2f32680f",
   "metadata": {},
   "outputs": [],
   "source": [
    "from sklearn.preprocessing import LabelEncoder"
   ]
  },
  {
   "cell_type": "code",
   "execution_count": 126,
   "id": "3a41d324",
   "metadata": {},
   "outputs": [],
   "source": [
    "le=LabelEncoder()"
   ]
  },
  {
   "cell_type": "code",
   "execution_count": 127,
   "id": "68f8c308",
   "metadata": {},
   "outputs": [
    {
     "data": {
      "text/plain": [
       "0    1\n",
       "1    0\n",
       "2    0\n",
       "3    1\n",
       "4    1\n",
       "Name: illness, dtype: int32"
      ]
     },
     "execution_count": 127,
     "metadata": {},
     "output_type": "execute_result"
    }
   ],
   "source": [
    "df.illness=le.fit_transform(df.illness)\n",
    "df.illness"
   ]
  },
  {
   "cell_type": "code",
   "execution_count": 128,
   "id": "f71c2b10",
   "metadata": {},
   "outputs": [
    {
     "data": {
      "text/plain": [
       "0    1\n",
       "1    1\n",
       "2    0\n",
       "3    0\n",
       "4    1\n",
       "Name: gender, dtype: int32"
      ]
     },
     "execution_count": 128,
     "metadata": {},
     "output_type": "execute_result"
    }
   ],
   "source": [
    "df.gender=le.fit_transform(df.gender)\n",
    "df.gender"
   ]
  },
  {
   "cell_type": "code",
   "execution_count": 129,
   "id": "cb47a644",
   "metadata": {},
   "outputs": [],
   "source": [
    "x=df.iloc[:,:-2]\n",
    "y=df.iloc[:,-2]"
   ]
  },
  {
   "cell_type": "code",
   "execution_count": 130,
   "id": "d1f7fa02",
   "metadata": {},
   "outputs": [
    {
     "data": {
      "text/html": [
       "<div>\n",
       "<style scoped>\n",
       "    .dataframe tbody tr th:only-of-type {\n",
       "        vertical-align: middle;\n",
       "    }\n",
       "\n",
       "    .dataframe tbody tr th {\n",
       "        vertical-align: top;\n",
       "    }\n",
       "\n",
       "    .dataframe thead th {\n",
       "        text-align: right;\n",
       "    }\n",
       "</style>\n",
       "<table border=\"1\" class=\"dataframe\">\n",
       "  <thead>\n",
       "    <tr style=\"text-align: right;\">\n",
       "      <th></th>\n",
       "      <th>gender</th>\n",
       "      <th>age</th>\n",
       "      <th>income</th>\n",
       "    </tr>\n",
       "  </thead>\n",
       "  <tbody>\n",
       "    <tr>\n",
       "      <th>0</th>\n",
       "      <td>1</td>\n",
       "      <td>41</td>\n",
       "      <td>40000</td>\n",
       "    </tr>\n",
       "    <tr>\n",
       "      <th>1</th>\n",
       "      <td>1</td>\n",
       "      <td>54</td>\n",
       "      <td>30000</td>\n",
       "    </tr>\n",
       "    <tr>\n",
       "      <th>2</th>\n",
       "      <td>0</td>\n",
       "      <td>42</td>\n",
       "      <td>25000</td>\n",
       "    </tr>\n",
       "    <tr>\n",
       "      <th>3</th>\n",
       "      <td>0</td>\n",
       "      <td>40</td>\n",
       "      <td>60000</td>\n",
       "    </tr>\n",
       "    <tr>\n",
       "      <th>4</th>\n",
       "      <td>1</td>\n",
       "      <td>46</td>\n",
       "      <td>50000</td>\n",
       "    </tr>\n",
       "  </tbody>\n",
       "</table>\n",
       "</div>"
      ],
      "text/plain": [
       "   gender  age  income\n",
       "0       1   41   40000\n",
       "1       1   54   30000\n",
       "2       0   42   25000\n",
       "3       0   40   60000\n",
       "4       1   46   50000"
      ]
     },
     "execution_count": 130,
     "metadata": {},
     "output_type": "execute_result"
    }
   ],
   "source": [
    "x\n"
   ]
  },
  {
   "cell_type": "code",
   "execution_count": null,
   "id": "e8d64cbf",
   "metadata": {},
   "outputs": [],
   "source": []
  },
  {
   "cell_type": "code",
   "execution_count": 131,
   "id": "eb345fa7",
   "metadata": {},
   "outputs": [],
   "source": [
    "x_encoded=pd.get_dummies(x,drop_first=True)"
   ]
  },
  {
   "cell_type": "code",
   "execution_count": 119,
   "id": "277ad543",
   "metadata": {},
   "outputs": [],
   "source": [
    "y_encoded=pd.get_dummies(y,drop_first=True)"
   ]
  },
  {
   "cell_type": "code",
   "execution_count": 120,
   "id": "dc656745",
   "metadata": {},
   "outputs": [
    {
     "name": "stdout",
     "output_type": "stream",
     "text": [
      "<class 'pandas.core.frame.DataFrame'>\n",
      "RangeIndex: 5 entries, 0 to 4\n",
      "Data columns (total 3 columns):\n",
      " #   Column  Non-Null Count  Dtype\n",
      "---  ------  --------------  -----\n",
      " 0   gender  5 non-null      int32\n",
      " 1   age     5 non-null      int64\n",
      " 2   income  5 non-null      int64\n",
      "dtypes: int32(1), int64(2)\n",
      "memory usage: 228.0 bytes\n"
     ]
    }
   ],
   "source": [
    "x_encoded.info()"
   ]
  },
  {
   "cell_type": "code",
   "execution_count": null,
   "id": "19225076",
   "metadata": {},
   "outputs": [],
   "source": []
  },
  {
   "cell_type": "code",
   "execution_count": 132,
   "id": "108c261f",
   "metadata": {},
   "outputs": [],
   "source": [
    "from sklearn.tree import DecisionTreeClassifier,plot_tree"
   ]
  },
  {
   "cell_type": "code",
   "execution_count": 137,
   "id": "418b7a59",
   "metadata": {},
   "outputs": [],
   "source": [
    "model=DecisionTreeClassifier(criterion='gini').fit(x_encoded,y_encoded)"
   ]
  },
  {
   "cell_type": "code",
   "execution_count": 138,
   "id": "a45d390b",
   "metadata": {},
   "outputs": [
    {
     "data": {
      "text/plain": [
       "[Text(0.5, 0.75, 'X[2] <= 35000.0\\ngini = 0.48\\nsamples = 5\\nvalue = [2, 3]'),\n",
       " Text(0.25, 0.25, 'gini = 0.0\\nsamples = 2\\nvalue = [2, 0]'),\n",
       " Text(0.75, 0.25, 'gini = 0.0\\nsamples = 3\\nvalue = [0, 3]')]"
      ]
     },
     "execution_count": 138,
     "metadata": {},
     "output_type": "execute_result"
    },
    {
     "data": {
      "image/png": "[encoded data removed]",
      "text/plain": [
       "<Figure size 432x288 with 1 Axes>"
      ]
     },
     "metadata": {
      "needs_background": "light"
     },
     "output_type": "display_data"
    }
   ],
   "source": [
    "plot_tree(model)"
   ]
  },
  {
   "cell_type": "code",
   "execution_count": 139,
   "id": "cc5e08a0",
   "metadata": {},
   "outputs": [],
   "source": [
    "y_pred=model.predict(x)"
   ]
  },
  {
   "cell_type": "code",
   "execution_count": 140,
   "id": "87086595",
   "metadata": {},
   "outputs": [],
   "source": [
    "from sklearn.metrics import confusion_matrix"
   ]
  },
  {
   "cell_type": "code",
   "execution_count": 142,
   "id": "8031a99e",
   "metadata": {},
   "outputs": [
    {
     "data": {
      "text/plain": [
       "array([[2, 0],\n",
       "       [0, 3]], dtype=int64)"
      ]
     },
     "execution_count": 142,
     "metadata": {},
     "output_type": "execute_result"
    }
   ],
   "source": [
    "confusion_matrix(y_encoded,y_pred)"
   ]
  },
  {
   "cell_type": "code",
   "execution_count": null,
   "id": "01eae7a5",
   "metadata": {},
   "outputs": [],
   "source": []
  },
  {
   "cell_type": "code",
   "execution_count": 143,
   "id": "e69b103d",
   "metadata": {},
   "outputs": [],
   "source": [
    "total_errors=0"
   ]
  },
  {
   "cell_type": "code",
   "execution_count": 144,
   "id": "a0cc78d6",
   "metadata": {},
   "outputs": [
    {
     "data": {
      "text/plain": [
       "1.0986122886681098"
      ]
     },
     "execution_count": 144,
     "metadata": {},
     "output_type": "execute_result"
    }
   ],
   "source": [
    "np.log(3)"
   ]
  },
  {
   "cell_type": "code",
   "execution_count": 146,
   "id": "34abf22e",
   "metadata": {},
   "outputs": [],
   "source": [
    "def amount_of_say(tatol_errors):\n",
    "    amt=(0.5)*(np.log(2)*((1-total_errors)/total_errors))\n",
    "    return amt"
   ]
  },
  {
   "cell_type": "code",
   "execution_count": 147,
   "id": "4d921cfc",
   "metadata": {},
   "outputs": [
    {
     "ename": "ZeroDivisionError",
     "evalue": "division by zero",
     "output_type": "error",
     "traceback": [
      "\u001b[1;31m---------------------------------------------------------------------------\u001b[0m",
      "\u001b[1;31mZeroDivisionError\u001b[0m                         Traceback (most recent call last)",
      "Input \u001b[1;32mIn [147]\u001b[0m, in \u001b[0;36m<cell line: 1>\u001b[1;34m()\u001b[0m\n\u001b[1;32m----> 1\u001b[0m \u001b[43mamount_of_say\u001b[49m\u001b[43m(\u001b[49m\u001b[38;5;241;43m0.2\u001b[39;49m\u001b[43m)\u001b[49m\n",
      "Input \u001b[1;32mIn [146]\u001b[0m, in \u001b[0;36mamount_of_say\u001b[1;34m(tatol_errors)\u001b[0m\n\u001b[0;32m      1\u001b[0m \u001b[38;5;28;01mdef\u001b[39;00m \u001b[38;5;21mamount_of_say\u001b[39m(tatol_errors):\n\u001b[1;32m----> 2\u001b[0m     amt\u001b[38;5;241m=\u001b[39m(\u001b[38;5;241m0.5\u001b[39m)\u001b[38;5;241m*\u001b[39m(np\u001b[38;5;241m.\u001b[39mlog(\u001b[38;5;241m2\u001b[39m)\u001b[38;5;241m*\u001b[39m(\u001b[43m(\u001b[49m\u001b[38;5;241;43m1\u001b[39;49m\u001b[38;5;241;43m-\u001b[39;49m\u001b[43mtotal_errors\u001b[49m\u001b[43m)\u001b[49m\u001b[38;5;241;43m/\u001b[39;49m\u001b[43mtotal_errors\u001b[49m))\n\u001b[0;32m      3\u001b[0m     \u001b[38;5;28;01mreturn\u001b[39;00m amt\n",
      "\u001b[1;31mZeroDivisionError\u001b[0m: division by zero"
     ]
    }
   ],
   "source": [
    "amount_of_say(0.2)"
   ]
  },
  {
   "cell_type": "code",
   "execution_count": 148,
   "id": "9a963e09",
   "metadata": {},
   "outputs": [
    {
     "data": {
      "text/plain": [
       "0.2"
      ]
     },
     "execution_count": 148,
     "metadata": {},
     "output_type": "execute_result"
    }
   ],
   "source": [
    "old_weight=1/len(df)\n",
    "old_weight"
   ]
  },
  {
   "cell_type": "code",
   "execution_count": 149,
   "id": "d09d69e5",
   "metadata": {},
   "outputs": [],
   "source": [
    "x=1.386"
   ]
  },
  {
   "cell_type": "code",
   "execution_count": 150,
   "id": "b22dfa9a",
   "metadata": {},
   "outputs": [],
   "source": [
    "def new_weight(y,x):\n",
    "    n_w=y*(2.7)**x\n",
    "    return n_w"
   ]
  },
  {
   "cell_type": "code",
   "execution_count": 151,
   "id": "3d150461",
   "metadata": {},
   "outputs": [
    {
     "data": {
      "text/plain": [
       "0.792319186544622"
      ]
     },
     "execution_count": 151,
     "metadata": {},
     "output_type": "execute_result"
    }
   ],
   "source": [
    "new_weight(0.2,1.386)"
   ]
  },
  {
   "cell_type": "code",
   "execution_count": null,
   "id": "482348c7",
   "metadata": {},
   "outputs": [],
   "source": []
  },
  {
   "cell_type": "code",
   "execution_count": null,
   "id": "825ebcad",
   "metadata": {},
   "outputs": [],
   "source": []
  },
  {
   "cell_type": "code",
   "execution_count": null,
   "id": "9592a3e1",
   "metadata": {},
   "outputs": [],
   "source": []
  },
  {
   "cell_type": "markdown",
   "id": "bc3f2fa5",
   "metadata": {},
   "source": [
    "# adaboosting"
   ]
  },
  {
   "cell_type": "code",
   "execution_count": 152,
   "id": "8d508d1e",
   "metadata": {},
   "outputs": [],
   "source": [
    "from sklearn.ensemble import AdaBoostClassifier"
   ]
  },
  {
   "cell_type": "code",
   "execution_count": 153,
   "id": "f135bb62",
   "metadata": {},
   "outputs": [],
   "source": [
    "ad=AdaBoostClassifier(n_estimators=10)"
   ]
  },
  {
   "cell_type": "code",
   "execution_count": 155,
   "id": "1c1af5f2",
   "metadata": {},
   "outputs": [
    {
     "name": "stderr",
     "output_type": "stream",
     "text": [
      "C:\\Users\\Ashok\\anaconda3\\lib\\site-packages\\sklearn\\utils\\validation.py:993: DataConversionWarning: A column-vector y was passed when a 1d array was expected. Please change the shape of y to (n_samples, ), for example using ravel().\n",
      "  y = column_or_1d(y, warn=True)\n"
     ]
    }
   ],
   "source": [
    "ada_model=ad.fit(x_encoded,y_encoded)"
   ]
  },
  {
   "cell_type": "code",
   "execution_count": 156,
   "id": "f8455303",
   "metadata": {},
   "outputs": [
    {
     "data": {
      "text/plain": [
       "[DecisionTreeClassifier(max_depth=1, random_state=1732360707)]"
      ]
     },
     "execution_count": 156,
     "metadata": {},
     "output_type": "execute_result"
    }
   ],
   "source": [
    "ad.estimators_"
   ]
  },
  {
   "cell_type": "code",
   "execution_count": 157,
   "id": "f9cb07e1",
   "metadata": {},
   "outputs": [
    {
     "data": {
      "text/plain": [
       "[Text(0.5, 0.75, 'X[2] <= 35000.0\\ngini = 0.48\\nsamples = 5\\nvalue = [0.4, 0.6]'),\n",
       " Text(0.25, 0.25, 'gini = 0.0\\nsamples = 2\\nvalue = [0.4, 0.0]'),\n",
       " Text(0.75, 0.25, 'gini = -0.0\\nsamples = 3\\nvalue = [0.0, 0.6]')]"
      ]
     },
     "execution_count": 157,
     "metadata": {},
     "output_type": "execute_result"
    },
    {
     "data": {
      "image/png": "[encoded data removed]",
      "text/plain": [
       "<Figure size 432x288 with 1 Axes>"
      ]
     },
     "metadata": {
      "needs_background": "light"
     },
     "output_type": "display_data"
    }
   ],
   "source": [
    "plot_tree(ad.estimators_[0])"
   ]
  },
  {
   "cell_type": "code",
   "execution_count": 158,
   "id": "415cfd05",
   "metadata": {},
   "outputs": [
    {
     "data": {
      "text/plain": [
       "DecisionTreeClassifier(max_depth=1, random_state=1732360707)"
      ]
     },
     "execution_count": 158,
     "metadata": {},
     "output_type": "execute_result"
    }
   ],
   "source": [
    "ad.estimators_[0]"
   ]
  },
  {
   "cell_type": "code",
   "execution_count": null,
   "id": "8104bf35",
   "metadata": {},
   "outputs": [],
   "source": []
  }
 ],
 "metadata": {
  "kernelspec": {
   "display_name": "Python 3 (ipykernel)",
   "language": "python",
   "name": "python3"
  },
  "language_info": {
   "codemirror_mode": {
    "name": "ipython",
    "version": 3
   },
   "file_extension": ".py",
   "mimetype": "text/x-python",
   "name": "python",
   "nbconvert_exporter": "python",
   "pygments_lexer": "ipython3",
   "version": "3.9.12"
  }
 },
 "nbformat": 4,
 "nbformat_minor": 5
}
