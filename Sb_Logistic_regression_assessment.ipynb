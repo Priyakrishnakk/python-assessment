{
 "cells": [
  {
   "cell_type": "code",
   "execution_count": 17,
   "id": "496c4ea3",
   "metadata": {},
   "outputs": [],
   "source": [
    "import pandas as pd\n",
    "import easygui\n",
    "import seaborn as sns\n",
    "import matplotlib.pyplot as plt"
   ]
  },
  {
   "cell_type": "code",
   "execution_count": 3,
   "id": "8853a908",
   "metadata": {},
   "outputs": [],
   "source": [
    "path = easygui.fileopenbox()"
   ]
  },
  {
   "cell_type": "code",
   "execution_count": 4,
   "id": "728c0fdd",
   "metadata": {},
   "outputs": [],
   "source": [
    "df = pd.read_csv(path)"
   ]
  },
  {
   "cell_type": "code",
   "execution_count": 5,
   "id": "3d8ae166",
   "metadata": {},
   "outputs": [
    {
     "data": {
      "text/html": [
       "<div>\n",
       "<style scoped>\n",
       "    .dataframe tbody tr th:only-of-type {\n",
       "        vertical-align: middle;\n",
       "    }\n",
       "\n",
       "    .dataframe tbody tr th {\n",
       "        vertical-align: top;\n",
       "    }\n",
       "\n",
       "    .dataframe thead th {\n",
       "        text-align: right;\n",
       "    }\n",
       "</style>\n",
       "<table border=\"1\" class=\"dataframe\">\n",
       "  <thead>\n",
       "    <tr style=\"text-align: right;\">\n",
       "      <th></th>\n",
       "      <th>gender</th>\n",
       "      <th>NationalITy</th>\n",
       "      <th>PlaceofBirth</th>\n",
       "      <th>StageID</th>\n",
       "      <th>GradeID</th>\n",
       "      <th>SectionID</th>\n",
       "      <th>Topic</th>\n",
       "      <th>Semester</th>\n",
       "      <th>Relation</th>\n",
       "      <th>raisedhands</th>\n",
       "      <th>VisITedResources</th>\n",
       "      <th>AnnouncementsView</th>\n",
       "      <th>Discussion</th>\n",
       "      <th>ParentAnsweringSurvey</th>\n",
       "      <th>ParentschoolSatisfaction</th>\n",
       "      <th>StudentAbsenceDays</th>\n",
       "      <th>Class</th>\n",
       "    </tr>\n",
       "  </thead>\n",
       "  <tbody>\n",
       "    <tr>\n",
       "      <th>0</th>\n",
       "      <td>M</td>\n",
       "      <td>KW</td>\n",
       "      <td>KuwaIT</td>\n",
       "      <td>lowerlevel</td>\n",
       "      <td>G-04</td>\n",
       "      <td>A</td>\n",
       "      <td>IT</td>\n",
       "      <td>F</td>\n",
       "      <td>Father</td>\n",
       "      <td>15</td>\n",
       "      <td>16</td>\n",
       "      <td>2</td>\n",
       "      <td>20</td>\n",
       "      <td>Yes</td>\n",
       "      <td>Good</td>\n",
       "      <td>Under-7</td>\n",
       "      <td>M</td>\n",
       "    </tr>\n",
       "    <tr>\n",
       "      <th>1</th>\n",
       "      <td>M</td>\n",
       "      <td>KW</td>\n",
       "      <td>KuwaIT</td>\n",
       "      <td>lowerlevel</td>\n",
       "      <td>G-04</td>\n",
       "      <td>A</td>\n",
       "      <td>IT</td>\n",
       "      <td>F</td>\n",
       "      <td>Father</td>\n",
       "      <td>20</td>\n",
       "      <td>20</td>\n",
       "      <td>3</td>\n",
       "      <td>25</td>\n",
       "      <td>Yes</td>\n",
       "      <td>Good</td>\n",
       "      <td>Under-7</td>\n",
       "      <td>M</td>\n",
       "    </tr>\n",
       "    <tr>\n",
       "      <th>2</th>\n",
       "      <td>M</td>\n",
       "      <td>KW</td>\n",
       "      <td>KuwaIT</td>\n",
       "      <td>lowerlevel</td>\n",
       "      <td>G-04</td>\n",
       "      <td>A</td>\n",
       "      <td>IT</td>\n",
       "      <td>F</td>\n",
       "      <td>Father</td>\n",
       "      <td>10</td>\n",
       "      <td>7</td>\n",
       "      <td>0</td>\n",
       "      <td>30</td>\n",
       "      <td>No</td>\n",
       "      <td>Bad</td>\n",
       "      <td>Above-7</td>\n",
       "      <td>L</td>\n",
       "    </tr>\n",
       "    <tr>\n",
       "      <th>3</th>\n",
       "      <td>M</td>\n",
       "      <td>KW</td>\n",
       "      <td>KuwaIT</td>\n",
       "      <td>lowerlevel</td>\n",
       "      <td>G-04</td>\n",
       "      <td>A</td>\n",
       "      <td>IT</td>\n",
       "      <td>F</td>\n",
       "      <td>Father</td>\n",
       "      <td>30</td>\n",
       "      <td>25</td>\n",
       "      <td>5</td>\n",
       "      <td>35</td>\n",
       "      <td>No</td>\n",
       "      <td>Bad</td>\n",
       "      <td>Above-7</td>\n",
       "      <td>L</td>\n",
       "    </tr>\n",
       "    <tr>\n",
       "      <th>4</th>\n",
       "      <td>M</td>\n",
       "      <td>KW</td>\n",
       "      <td>KuwaIT</td>\n",
       "      <td>lowerlevel</td>\n",
       "      <td>G-04</td>\n",
       "      <td>A</td>\n",
       "      <td>IT</td>\n",
       "      <td>F</td>\n",
       "      <td>Father</td>\n",
       "      <td>40</td>\n",
       "      <td>50</td>\n",
       "      <td>12</td>\n",
       "      <td>50</td>\n",
       "      <td>No</td>\n",
       "      <td>Bad</td>\n",
       "      <td>Above-7</td>\n",
       "      <td>M</td>\n",
       "    </tr>\n",
       "    <tr>\n",
       "      <th>...</th>\n",
       "      <td>...</td>\n",
       "      <td>...</td>\n",
       "      <td>...</td>\n",
       "      <td>...</td>\n",
       "      <td>...</td>\n",
       "      <td>...</td>\n",
       "      <td>...</td>\n",
       "      <td>...</td>\n",
       "      <td>...</td>\n",
       "      <td>...</td>\n",
       "      <td>...</td>\n",
       "      <td>...</td>\n",
       "      <td>...</td>\n",
       "      <td>...</td>\n",
       "      <td>...</td>\n",
       "      <td>...</td>\n",
       "      <td>...</td>\n",
       "    </tr>\n",
       "    <tr>\n",
       "      <th>475</th>\n",
       "      <td>F</td>\n",
       "      <td>Jordan</td>\n",
       "      <td>Jordan</td>\n",
       "      <td>MiddleSchool</td>\n",
       "      <td>G-08</td>\n",
       "      <td>A</td>\n",
       "      <td>Chemistry</td>\n",
       "      <td>S</td>\n",
       "      <td>Father</td>\n",
       "      <td>5</td>\n",
       "      <td>4</td>\n",
       "      <td>5</td>\n",
       "      <td>8</td>\n",
       "      <td>No</td>\n",
       "      <td>Bad</td>\n",
       "      <td>Above-7</td>\n",
       "      <td>L</td>\n",
       "    </tr>\n",
       "    <tr>\n",
       "      <th>476</th>\n",
       "      <td>F</td>\n",
       "      <td>Jordan</td>\n",
       "      <td>Jordan</td>\n",
       "      <td>MiddleSchool</td>\n",
       "      <td>G-08</td>\n",
       "      <td>A</td>\n",
       "      <td>Geology</td>\n",
       "      <td>F</td>\n",
       "      <td>Father</td>\n",
       "      <td>50</td>\n",
       "      <td>77</td>\n",
       "      <td>14</td>\n",
       "      <td>28</td>\n",
       "      <td>No</td>\n",
       "      <td>Bad</td>\n",
       "      <td>Under-7</td>\n",
       "      <td>M</td>\n",
       "    </tr>\n",
       "    <tr>\n",
       "      <th>477</th>\n",
       "      <td>F</td>\n",
       "      <td>Jordan</td>\n",
       "      <td>Jordan</td>\n",
       "      <td>MiddleSchool</td>\n",
       "      <td>G-08</td>\n",
       "      <td>A</td>\n",
       "      <td>Geology</td>\n",
       "      <td>S</td>\n",
       "      <td>Father</td>\n",
       "      <td>55</td>\n",
       "      <td>74</td>\n",
       "      <td>25</td>\n",
       "      <td>29</td>\n",
       "      <td>No</td>\n",
       "      <td>Bad</td>\n",
       "      <td>Under-7</td>\n",
       "      <td>M</td>\n",
       "    </tr>\n",
       "    <tr>\n",
       "      <th>478</th>\n",
       "      <td>F</td>\n",
       "      <td>Jordan</td>\n",
       "      <td>Jordan</td>\n",
       "      <td>MiddleSchool</td>\n",
       "      <td>G-08</td>\n",
       "      <td>A</td>\n",
       "      <td>History</td>\n",
       "      <td>F</td>\n",
       "      <td>Father</td>\n",
       "      <td>30</td>\n",
       "      <td>17</td>\n",
       "      <td>14</td>\n",
       "      <td>57</td>\n",
       "      <td>No</td>\n",
       "      <td>Bad</td>\n",
       "      <td>Above-7</td>\n",
       "      <td>L</td>\n",
       "    </tr>\n",
       "    <tr>\n",
       "      <th>479</th>\n",
       "      <td>F</td>\n",
       "      <td>Jordan</td>\n",
       "      <td>Jordan</td>\n",
       "      <td>MiddleSchool</td>\n",
       "      <td>G-08</td>\n",
       "      <td>A</td>\n",
       "      <td>History</td>\n",
       "      <td>S</td>\n",
       "      <td>Father</td>\n",
       "      <td>35</td>\n",
       "      <td>14</td>\n",
       "      <td>23</td>\n",
       "      <td>62</td>\n",
       "      <td>No</td>\n",
       "      <td>Bad</td>\n",
       "      <td>Above-7</td>\n",
       "      <td>L</td>\n",
       "    </tr>\n",
       "  </tbody>\n",
       "</table>\n",
       "<p>480 rows × 17 columns</p>\n",
       "</div>"
      ],
      "text/plain": [
       "    gender NationalITy PlaceofBirth       StageID GradeID SectionID  \\\n",
       "0        M          KW       KuwaIT    lowerlevel    G-04         A   \n",
       "1        M          KW       KuwaIT    lowerlevel    G-04         A   \n",
       "2        M          KW       KuwaIT    lowerlevel    G-04         A   \n",
       "3        M          KW       KuwaIT    lowerlevel    G-04         A   \n",
       "4        M          KW       KuwaIT    lowerlevel    G-04         A   \n",
       "..     ...         ...          ...           ...     ...       ...   \n",
       "475      F      Jordan       Jordan  MiddleSchool    G-08         A   \n",
       "476      F      Jordan       Jordan  MiddleSchool    G-08         A   \n",
       "477      F      Jordan       Jordan  MiddleSchool    G-08         A   \n",
       "478      F      Jordan       Jordan  MiddleSchool    G-08         A   \n",
       "479      F      Jordan       Jordan  MiddleSchool    G-08         A   \n",
       "\n",
       "         Topic Semester Relation  raisedhands  VisITedResources  \\\n",
       "0           IT        F   Father           15                16   \n",
       "1           IT        F   Father           20                20   \n",
       "2           IT        F   Father           10                 7   \n",
       "3           IT        F   Father           30                25   \n",
       "4           IT        F   Father           40                50   \n",
       "..         ...      ...      ...          ...               ...   \n",
       "475  Chemistry        S   Father            5                 4   \n",
       "476    Geology        F   Father           50                77   \n",
       "477    Geology        S   Father           55                74   \n",
       "478    History        F   Father           30                17   \n",
       "479    History        S   Father           35                14   \n",
       "\n",
       "     AnnouncementsView  Discussion ParentAnsweringSurvey  \\\n",
       "0                    2          20                   Yes   \n",
       "1                    3          25                   Yes   \n",
       "2                    0          30                    No   \n",
       "3                    5          35                    No   \n",
       "4                   12          50                    No   \n",
       "..                 ...         ...                   ...   \n",
       "475                  5           8                    No   \n",
       "476                 14          28                    No   \n",
       "477                 25          29                    No   \n",
       "478                 14          57                    No   \n",
       "479                 23          62                    No   \n",
       "\n",
       "    ParentschoolSatisfaction StudentAbsenceDays Class  \n",
       "0                       Good            Under-7     M  \n",
       "1                       Good            Under-7     M  \n",
       "2                        Bad            Above-7     L  \n",
       "3                        Bad            Above-7     L  \n",
       "4                        Bad            Above-7     M  \n",
       "..                       ...                ...   ...  \n",
       "475                      Bad            Above-7     L  \n",
       "476                      Bad            Under-7     M  \n",
       "477                      Bad            Under-7     M  \n",
       "478                      Bad            Above-7     L  \n",
       "479                      Bad            Above-7     L  \n",
       "\n",
       "[480 rows x 17 columns]"
      ]
     },
     "execution_count": 5,
     "metadata": {},
     "output_type": "execute_result"
    }
   ],
   "source": [
    "df"
   ]
  },
  {
   "cell_type": "code",
   "execution_count": 6,
   "id": "edfbd77f",
   "metadata": {},
   "outputs": [
    {
     "data": {
      "text/plain": [
       "(480, 17)"
      ]
     },
     "execution_count": 6,
     "metadata": {},
     "output_type": "execute_result"
    }
   ],
   "source": [
    "df.shape"
   ]
  },
  {
   "cell_type": "code",
   "execution_count": 7,
   "id": "e87ab1d8",
   "metadata": {},
   "outputs": [
    {
     "name": "stdout",
     "output_type": "stream",
     "text": [
      "<class 'pandas.core.frame.DataFrame'>\n",
      "RangeIndex: 480 entries, 0 to 479\n",
      "Data columns (total 17 columns):\n",
      " #   Column                    Non-Null Count  Dtype \n",
      "---  ------                    --------------  ----- \n",
      " 0   gender                    480 non-null    object\n",
      " 1   NationalITy               480 non-null    object\n",
      " 2   PlaceofBirth              480 non-null    object\n",
      " 3   StageID                   480 non-null    object\n",
      " 4   GradeID                   480 non-null    object\n",
      " 5   SectionID                 480 non-null    object\n",
      " 6   Topic                     480 non-null    object\n",
      " 7   Semester                  480 non-null    object\n",
      " 8   Relation                  480 non-null    object\n",
      " 9   raisedhands               480 non-null    int64 \n",
      " 10  VisITedResources          480 non-null    int64 \n",
      " 11  AnnouncementsView         480 non-null    int64 \n",
      " 12  Discussion                480 non-null    int64 \n",
      " 13  ParentAnsweringSurvey     480 non-null    object\n",
      " 14  ParentschoolSatisfaction  480 non-null    object\n",
      " 15  StudentAbsenceDays        480 non-null    object\n",
      " 16  Class                     480 non-null    object\n",
      "dtypes: int64(4), object(13)\n",
      "memory usage: 63.9+ KB\n"
     ]
    }
   ],
   "source": [
    "df.info()"
   ]
  },
  {
   "cell_type": "code",
   "execution_count": 8,
   "id": "d7f914ff",
   "metadata": {},
   "outputs": [
    {
     "data": {
      "text/html": [
       "<div>\n",
       "<style scoped>\n",
       "    .dataframe tbody tr th:only-of-type {\n",
       "        vertical-align: middle;\n",
       "    }\n",
       "\n",
       "    .dataframe tbody tr th {\n",
       "        vertical-align: top;\n",
       "    }\n",
       "\n",
       "    .dataframe thead th {\n",
       "        text-align: right;\n",
       "    }\n",
       "</style>\n",
       "<table border=\"1\" class=\"dataframe\">\n",
       "  <thead>\n",
       "    <tr style=\"text-align: right;\">\n",
       "      <th></th>\n",
       "      <th>raisedhands</th>\n",
       "      <th>VisITedResources</th>\n",
       "      <th>AnnouncementsView</th>\n",
       "      <th>Discussion</th>\n",
       "    </tr>\n",
       "  </thead>\n",
       "  <tbody>\n",
       "    <tr>\n",
       "      <th>count</th>\n",
       "      <td>480.000000</td>\n",
       "      <td>480.000000</td>\n",
       "      <td>480.000000</td>\n",
       "      <td>480.000000</td>\n",
       "    </tr>\n",
       "    <tr>\n",
       "      <th>mean</th>\n",
       "      <td>46.775000</td>\n",
       "      <td>54.797917</td>\n",
       "      <td>37.918750</td>\n",
       "      <td>43.283333</td>\n",
       "    </tr>\n",
       "    <tr>\n",
       "      <th>std</th>\n",
       "      <td>30.779223</td>\n",
       "      <td>33.080007</td>\n",
       "      <td>26.611244</td>\n",
       "      <td>27.637735</td>\n",
       "    </tr>\n",
       "    <tr>\n",
       "      <th>min</th>\n",
       "      <td>0.000000</td>\n",
       "      <td>0.000000</td>\n",
       "      <td>0.000000</td>\n",
       "      <td>1.000000</td>\n",
       "    </tr>\n",
       "    <tr>\n",
       "      <th>25%</th>\n",
       "      <td>15.750000</td>\n",
       "      <td>20.000000</td>\n",
       "      <td>14.000000</td>\n",
       "      <td>20.000000</td>\n",
       "    </tr>\n",
       "    <tr>\n",
       "      <th>50%</th>\n",
       "      <td>50.000000</td>\n",
       "      <td>65.000000</td>\n",
       "      <td>33.000000</td>\n",
       "      <td>39.000000</td>\n",
       "    </tr>\n",
       "    <tr>\n",
       "      <th>75%</th>\n",
       "      <td>75.000000</td>\n",
       "      <td>84.000000</td>\n",
       "      <td>58.000000</td>\n",
       "      <td>70.000000</td>\n",
       "    </tr>\n",
       "    <tr>\n",
       "      <th>max</th>\n",
       "      <td>100.000000</td>\n",
       "      <td>99.000000</td>\n",
       "      <td>98.000000</td>\n",
       "      <td>99.000000</td>\n",
       "    </tr>\n",
       "  </tbody>\n",
       "</table>\n",
       "</div>"
      ],
      "text/plain": [
       "       raisedhands  VisITedResources  AnnouncementsView  Discussion\n",
       "count   480.000000        480.000000         480.000000  480.000000\n",
       "mean     46.775000         54.797917          37.918750   43.283333\n",
       "std      30.779223         33.080007          26.611244   27.637735\n",
       "min       0.000000          0.000000           0.000000    1.000000\n",
       "25%      15.750000         20.000000          14.000000   20.000000\n",
       "50%      50.000000         65.000000          33.000000   39.000000\n",
       "75%      75.000000         84.000000          58.000000   70.000000\n",
       "max     100.000000         99.000000          98.000000   99.000000"
      ]
     },
     "execution_count": 8,
     "metadata": {},
     "output_type": "execute_result"
    }
   ],
   "source": [
    "df.describe()"
   ]
  },
  {
   "cell_type": "code",
   "execution_count": 11,
   "id": "e646356a",
   "metadata": {},
   "outputs": [],
   "source": [
    "num = df.select_dtypes(include='int64')"
   ]
  },
  {
   "cell_type": "code",
   "execution_count": 12,
   "id": "067f83c1",
   "metadata": {},
   "outputs": [
    {
     "data": {
      "text/html": [
       "<div>\n",
       "<style scoped>\n",
       "    .dataframe tbody tr th:only-of-type {\n",
       "        vertical-align: middle;\n",
       "    }\n",
       "\n",
       "    .dataframe tbody tr th {\n",
       "        vertical-align: top;\n",
       "    }\n",
       "\n",
       "    .dataframe thead th {\n",
       "        text-align: right;\n",
       "    }\n",
       "</style>\n",
       "<table border=\"1\" class=\"dataframe\">\n",
       "  <thead>\n",
       "    <tr style=\"text-align: right;\">\n",
       "      <th></th>\n",
       "      <th>raisedhands</th>\n",
       "      <th>VisITedResources</th>\n",
       "      <th>AnnouncementsView</th>\n",
       "      <th>Discussion</th>\n",
       "    </tr>\n",
       "  </thead>\n",
       "  <tbody>\n",
       "    <tr>\n",
       "      <th>0</th>\n",
       "      <td>15</td>\n",
       "      <td>16</td>\n",
       "      <td>2</td>\n",
       "      <td>20</td>\n",
       "    </tr>\n",
       "    <tr>\n",
       "      <th>1</th>\n",
       "      <td>20</td>\n",
       "      <td>20</td>\n",
       "      <td>3</td>\n",
       "      <td>25</td>\n",
       "    </tr>\n",
       "    <tr>\n",
       "      <th>2</th>\n",
       "      <td>10</td>\n",
       "      <td>7</td>\n",
       "      <td>0</td>\n",
       "      <td>30</td>\n",
       "    </tr>\n",
       "    <tr>\n",
       "      <th>3</th>\n",
       "      <td>30</td>\n",
       "      <td>25</td>\n",
       "      <td>5</td>\n",
       "      <td>35</td>\n",
       "    </tr>\n",
       "    <tr>\n",
       "      <th>4</th>\n",
       "      <td>40</td>\n",
       "      <td>50</td>\n",
       "      <td>12</td>\n",
       "      <td>50</td>\n",
       "    </tr>\n",
       "    <tr>\n",
       "      <th>...</th>\n",
       "      <td>...</td>\n",
       "      <td>...</td>\n",
       "      <td>...</td>\n",
       "      <td>...</td>\n",
       "    </tr>\n",
       "    <tr>\n",
       "      <th>475</th>\n",
       "      <td>5</td>\n",
       "      <td>4</td>\n",
       "      <td>5</td>\n",
       "      <td>8</td>\n",
       "    </tr>\n",
       "    <tr>\n",
       "      <th>476</th>\n",
       "      <td>50</td>\n",
       "      <td>77</td>\n",
       "      <td>14</td>\n",
       "      <td>28</td>\n",
       "    </tr>\n",
       "    <tr>\n",
       "      <th>477</th>\n",
       "      <td>55</td>\n",
       "      <td>74</td>\n",
       "      <td>25</td>\n",
       "      <td>29</td>\n",
       "    </tr>\n",
       "    <tr>\n",
       "      <th>478</th>\n",
       "      <td>30</td>\n",
       "      <td>17</td>\n",
       "      <td>14</td>\n",
       "      <td>57</td>\n",
       "    </tr>\n",
       "    <tr>\n",
       "      <th>479</th>\n",
       "      <td>35</td>\n",
       "      <td>14</td>\n",
       "      <td>23</td>\n",
       "      <td>62</td>\n",
       "    </tr>\n",
       "  </tbody>\n",
       "</table>\n",
       "<p>480 rows × 4 columns</p>\n",
       "</div>"
      ],
      "text/plain": [
       "     raisedhands  VisITedResources  AnnouncementsView  Discussion\n",
       "0             15                16                  2          20\n",
       "1             20                20                  3          25\n",
       "2             10                 7                  0          30\n",
       "3             30                25                  5          35\n",
       "4             40                50                 12          50\n",
       "..           ...               ...                ...         ...\n",
       "475            5                 4                  5           8\n",
       "476           50                77                 14          28\n",
       "477           55                74                 25          29\n",
       "478           30                17                 14          57\n",
       "479           35                14                 23          62\n",
       "\n",
       "[480 rows x 4 columns]"
      ]
     },
     "execution_count": 12,
     "metadata": {},
     "output_type": "execute_result"
    }
   ],
   "source": [
    "num"
   ]
  },
  {
   "cell_type": "code",
   "execution_count": 13,
   "id": "356e90b5",
   "metadata": {},
   "outputs": [],
   "source": [
    "cat = df.select_dtypes(include='object')"
   ]
  },
  {
   "cell_type": "code",
   "execution_count": 14,
   "id": "313193ff",
   "metadata": {},
   "outputs": [
    {
     "data": {
      "text/html": [
       "<div>\n",
       "<style scoped>\n",
       "    .dataframe tbody tr th:only-of-type {\n",
       "        vertical-align: middle;\n",
       "    }\n",
       "\n",
       "    .dataframe tbody tr th {\n",
       "        vertical-align: top;\n",
       "    }\n",
       "\n",
       "    .dataframe thead th {\n",
       "        text-align: right;\n",
       "    }\n",
       "</style>\n",
       "<table border=\"1\" class=\"dataframe\">\n",
       "  <thead>\n",
       "    <tr style=\"text-align: right;\">\n",
       "      <th></th>\n",
       "      <th>gender</th>\n",
       "      <th>NationalITy</th>\n",
       "      <th>PlaceofBirth</th>\n",
       "      <th>StageID</th>\n",
       "      <th>GradeID</th>\n",
       "      <th>SectionID</th>\n",
       "      <th>Topic</th>\n",
       "      <th>Semester</th>\n",
       "      <th>Relation</th>\n",
       "      <th>ParentAnsweringSurvey</th>\n",
       "      <th>ParentschoolSatisfaction</th>\n",
       "      <th>StudentAbsenceDays</th>\n",
       "      <th>Class</th>\n",
       "    </tr>\n",
       "  </thead>\n",
       "  <tbody>\n",
       "    <tr>\n",
       "      <th>0</th>\n",
       "      <td>M</td>\n",
       "      <td>KW</td>\n",
       "      <td>KuwaIT</td>\n",
       "      <td>lowerlevel</td>\n",
       "      <td>G-04</td>\n",
       "      <td>A</td>\n",
       "      <td>IT</td>\n",
       "      <td>F</td>\n",
       "      <td>Father</td>\n",
       "      <td>Yes</td>\n",
       "      <td>Good</td>\n",
       "      <td>Under-7</td>\n",
       "      <td>M</td>\n",
       "    </tr>\n",
       "    <tr>\n",
       "      <th>1</th>\n",
       "      <td>M</td>\n",
       "      <td>KW</td>\n",
       "      <td>KuwaIT</td>\n",
       "      <td>lowerlevel</td>\n",
       "      <td>G-04</td>\n",
       "      <td>A</td>\n",
       "      <td>IT</td>\n",
       "      <td>F</td>\n",
       "      <td>Father</td>\n",
       "      <td>Yes</td>\n",
       "      <td>Good</td>\n",
       "      <td>Under-7</td>\n",
       "      <td>M</td>\n",
       "    </tr>\n",
       "    <tr>\n",
       "      <th>2</th>\n",
       "      <td>M</td>\n",
       "      <td>KW</td>\n",
       "      <td>KuwaIT</td>\n",
       "      <td>lowerlevel</td>\n",
       "      <td>G-04</td>\n",
       "      <td>A</td>\n",
       "      <td>IT</td>\n",
       "      <td>F</td>\n",
       "      <td>Father</td>\n",
       "      <td>No</td>\n",
       "      <td>Bad</td>\n",
       "      <td>Above-7</td>\n",
       "      <td>L</td>\n",
       "    </tr>\n",
       "    <tr>\n",
       "      <th>3</th>\n",
       "      <td>M</td>\n",
       "      <td>KW</td>\n",
       "      <td>KuwaIT</td>\n",
       "      <td>lowerlevel</td>\n",
       "      <td>G-04</td>\n",
       "      <td>A</td>\n",
       "      <td>IT</td>\n",
       "      <td>F</td>\n",
       "      <td>Father</td>\n",
       "      <td>No</td>\n",
       "      <td>Bad</td>\n",
       "      <td>Above-7</td>\n",
       "      <td>L</td>\n",
       "    </tr>\n",
       "    <tr>\n",
       "      <th>4</th>\n",
       "      <td>M</td>\n",
       "      <td>KW</td>\n",
       "      <td>KuwaIT</td>\n",
       "      <td>lowerlevel</td>\n",
       "      <td>G-04</td>\n",
       "      <td>A</td>\n",
       "      <td>IT</td>\n",
       "      <td>F</td>\n",
       "      <td>Father</td>\n",
       "      <td>No</td>\n",
       "      <td>Bad</td>\n",
       "      <td>Above-7</td>\n",
       "      <td>M</td>\n",
       "    </tr>\n",
       "    <tr>\n",
       "      <th>...</th>\n",
       "      <td>...</td>\n",
       "      <td>...</td>\n",
       "      <td>...</td>\n",
       "      <td>...</td>\n",
       "      <td>...</td>\n",
       "      <td>...</td>\n",
       "      <td>...</td>\n",
       "      <td>...</td>\n",
       "      <td>...</td>\n",
       "      <td>...</td>\n",
       "      <td>...</td>\n",
       "      <td>...</td>\n",
       "      <td>...</td>\n",
       "    </tr>\n",
       "    <tr>\n",
       "      <th>475</th>\n",
       "      <td>F</td>\n",
       "      <td>Jordan</td>\n",
       "      <td>Jordan</td>\n",
       "      <td>MiddleSchool</td>\n",
       "      <td>G-08</td>\n",
       "      <td>A</td>\n",
       "      <td>Chemistry</td>\n",
       "      <td>S</td>\n",
       "      <td>Father</td>\n",
       "      <td>No</td>\n",
       "      <td>Bad</td>\n",
       "      <td>Above-7</td>\n",
       "      <td>L</td>\n",
       "    </tr>\n",
       "    <tr>\n",
       "      <th>476</th>\n",
       "      <td>F</td>\n",
       "      <td>Jordan</td>\n",
       "      <td>Jordan</td>\n",
       "      <td>MiddleSchool</td>\n",
       "      <td>G-08</td>\n",
       "      <td>A</td>\n",
       "      <td>Geology</td>\n",
       "      <td>F</td>\n",
       "      <td>Father</td>\n",
       "      <td>No</td>\n",
       "      <td>Bad</td>\n",
       "      <td>Under-7</td>\n",
       "      <td>M</td>\n",
       "    </tr>\n",
       "    <tr>\n",
       "      <th>477</th>\n",
       "      <td>F</td>\n",
       "      <td>Jordan</td>\n",
       "      <td>Jordan</td>\n",
       "      <td>MiddleSchool</td>\n",
       "      <td>G-08</td>\n",
       "      <td>A</td>\n",
       "      <td>Geology</td>\n",
       "      <td>S</td>\n",
       "      <td>Father</td>\n",
       "      <td>No</td>\n",
       "      <td>Bad</td>\n",
       "      <td>Under-7</td>\n",
       "      <td>M</td>\n",
       "    </tr>\n",
       "    <tr>\n",
       "      <th>478</th>\n",
       "      <td>F</td>\n",
       "      <td>Jordan</td>\n",
       "      <td>Jordan</td>\n",
       "      <td>MiddleSchool</td>\n",
       "      <td>G-08</td>\n",
       "      <td>A</td>\n",
       "      <td>History</td>\n",
       "      <td>F</td>\n",
       "      <td>Father</td>\n",
       "      <td>No</td>\n",
       "      <td>Bad</td>\n",
       "      <td>Above-7</td>\n",
       "      <td>L</td>\n",
       "    </tr>\n",
       "    <tr>\n",
       "      <th>479</th>\n",
       "      <td>F</td>\n",
       "      <td>Jordan</td>\n",
       "      <td>Jordan</td>\n",
       "      <td>MiddleSchool</td>\n",
       "      <td>G-08</td>\n",
       "      <td>A</td>\n",
       "      <td>History</td>\n",
       "      <td>S</td>\n",
       "      <td>Father</td>\n",
       "      <td>No</td>\n",
       "      <td>Bad</td>\n",
       "      <td>Above-7</td>\n",
       "      <td>L</td>\n",
       "    </tr>\n",
       "  </tbody>\n",
       "</table>\n",
       "<p>480 rows × 13 columns</p>\n",
       "</div>"
      ],
      "text/plain": [
       "    gender NationalITy PlaceofBirth       StageID GradeID SectionID  \\\n",
       "0        M          KW       KuwaIT    lowerlevel    G-04         A   \n",
       "1        M          KW       KuwaIT    lowerlevel    G-04         A   \n",
       "2        M          KW       KuwaIT    lowerlevel    G-04         A   \n",
       "3        M          KW       KuwaIT    lowerlevel    G-04         A   \n",
       "4        M          KW       KuwaIT    lowerlevel    G-04         A   \n",
       "..     ...         ...          ...           ...     ...       ...   \n",
       "475      F      Jordan       Jordan  MiddleSchool    G-08         A   \n",
       "476      F      Jordan       Jordan  MiddleSchool    G-08         A   \n",
       "477      F      Jordan       Jordan  MiddleSchool    G-08         A   \n",
       "478      F      Jordan       Jordan  MiddleSchool    G-08         A   \n",
       "479      F      Jordan       Jordan  MiddleSchool    G-08         A   \n",
       "\n",
       "         Topic Semester Relation ParentAnsweringSurvey  \\\n",
       "0           IT        F   Father                   Yes   \n",
       "1           IT        F   Father                   Yes   \n",
       "2           IT        F   Father                    No   \n",
       "3           IT        F   Father                    No   \n",
       "4           IT        F   Father                    No   \n",
       "..         ...      ...      ...                   ...   \n",
       "475  Chemistry        S   Father                    No   \n",
       "476    Geology        F   Father                    No   \n",
       "477    Geology        S   Father                    No   \n",
       "478    History        F   Father                    No   \n",
       "479    History        S   Father                    No   \n",
       "\n",
       "    ParentschoolSatisfaction StudentAbsenceDays Class  \n",
       "0                       Good            Under-7     M  \n",
       "1                       Good            Under-7     M  \n",
       "2                        Bad            Above-7     L  \n",
       "3                        Bad            Above-7     L  \n",
       "4                        Bad            Above-7     M  \n",
       "..                       ...                ...   ...  \n",
       "475                      Bad            Above-7     L  \n",
       "476                      Bad            Under-7     M  \n",
       "477                      Bad            Under-7     M  \n",
       "478                      Bad            Above-7     L  \n",
       "479                      Bad            Above-7     L  \n",
       "\n",
       "[480 rows x 13 columns]"
      ]
     },
     "execution_count": 14,
     "metadata": {},
     "output_type": "execute_result"
    }
   ],
   "source": [
    "cat"
   ]
  },
  {
   "cell_type": "code",
   "execution_count": 15,
   "id": "11fbcf2e",
   "metadata": {},
   "outputs": [],
   "source": [
    "y = df['Class']"
   ]
  },
  {
   "cell_type": "code",
   "execution_count": 16,
   "id": "0ead5466",
   "metadata": {},
   "outputs": [
    {
     "data": {
      "text/plain": [
       "0      M\n",
       "1      M\n",
       "2      L\n",
       "3      L\n",
       "4      M\n",
       "      ..\n",
       "475    L\n",
       "476    M\n",
       "477    M\n",
       "478    L\n",
       "479    L\n",
       "Name: Class, Length: 480, dtype: object"
      ]
     },
     "execution_count": 16,
     "metadata": {},
     "output_type": "execute_result"
    }
   ],
   "source": [
    "y"
   ]
  },
  {
   "cell_type": "markdown",
   "id": "52dc7279",
   "metadata": {},
   "source": [
    "### Checking Nan variable is present or not in the dataset"
   ]
  },
  {
   "cell_type": "code",
   "execution_count": null,
   "id": "5ebb06ee",
   "metadata": {},
   "outputs": [],
   "source": [
    "num.isna().sum()\n",
    "cat.isna().sum()"
   ]
  },
  {
   "cell_type": "code",
   "execution_count": null,
   "id": "f51460ec",
   "metadata": {},
   "outputs": [],
   "source": []
  },
  {
   "cell_type": "code",
   "execution_count": 18,
   "id": "9a03f189",
   "metadata": {},
   "outputs": [
    {
     "name": "stderr",
     "output_type": "stream",
     "text": [
      "C:\\ProgramData\\Anaconda3\\lib\\site-packages\\seaborn\\_decorators.py:36: FutureWarning: Pass the following variable as a keyword arg: x. From version 0.12, the only valid positional argument will be `data`, and passing other arguments without an explicit keyword will result in an error or misinterpretation.\n",
      "  warnings.warn(\n"
     ]
    },
    {
     "data": {
      "text/plain": [
       "<AxesSubplot:xlabel='raisedhands'>"
      ]
     },
     "execution_count": 18,
     "metadata": {},
     "output_type": "execute_result"
    },
    {
     "data": {
      "image/png": "[encoded data removed]",
      "text/plain": [
       "<Figure size 432x288 with 1 Axes>"
      ]
     },
     "metadata": {
      "needs_background": "light"
     },
     "output_type": "display_data"
    }
   ],
   "source": [
    "sns.boxplot(num['raisedhands'])"
   ]
  },
  {
   "cell_type": "code",
   "execution_count": 19,
   "id": "f03f9bcf",
   "metadata": {},
   "outputs": [
    {
     "name": "stderr",
     "output_type": "stream",
     "text": [
      "C:\\ProgramData\\Anaconda3\\lib\\site-packages\\seaborn\\_decorators.py:36: FutureWarning: Pass the following variable as a keyword arg: x. From version 0.12, the only valid positional argument will be `data`, and passing other arguments without an explicit keyword will result in an error or misinterpretation.\n",
      "  warnings.warn(\n"
     ]
    },
    {
     "data": {
      "text/plain": [
       "<AxesSubplot:xlabel='VisITedResources'>"
      ]
     },
     "execution_count": 19,
     "metadata": {},
     "output_type": "execute_result"
    },
    {
     "data": {
      "image/png": "[encoded data removed]",
      "text/plain": [
       "<Figure size 432x288 with 1 Axes>"
      ]
     },
     "metadata": {
      "needs_background": "light"
     },
     "output_type": "display_data"
    }
   ],
   "source": [
    "sns.boxplot(num['VisITedResources'])"
   ]
  },
  {
   "cell_type": "code",
   "execution_count": 20,
   "id": "a8843f0c",
   "metadata": {},
   "outputs": [
    {
     "name": "stderr",
     "output_type": "stream",
     "text": [
      "C:\\ProgramData\\Anaconda3\\lib\\site-packages\\seaborn\\_decorators.py:36: FutureWarning: Pass the following variable as a keyword arg: x. From version 0.12, the only valid positional argument will be `data`, and passing other arguments without an explicit keyword will result in an error or misinterpretation.\n",
      "  warnings.warn(\n"
     ]
    },
    {
     "data": {
      "text/plain": [
       "<AxesSubplot:xlabel='AnnouncementsView'>"
      ]
     },
     "execution_count": 20,
     "metadata": {},
     "output_type": "execute_result"
    },
    {
     "data": {
      "image/png": "[encoded data removed]",
      "text/plain": [
       "<Figure size 432x288 with 1 Axes>"
      ]
     },
     "metadata": {
      "needs_background": "light"
     },
     "output_type": "display_data"
    }
   ],
   "source": [
    "sns.boxplot(num['AnnouncementsView'])"
   ]
  },
  {
   "cell_type": "code",
   "execution_count": 21,
   "id": "7d134e8d",
   "metadata": {},
   "outputs": [
    {
     "name": "stderr",
     "output_type": "stream",
     "text": [
      "C:\\ProgramData\\Anaconda3\\lib\\site-packages\\seaborn\\_decorators.py:36: FutureWarning: Pass the following variable as a keyword arg: x. From version 0.12, the only valid positional argument will be `data`, and passing other arguments without an explicit keyword will result in an error or misinterpretation.\n",
      "  warnings.warn(\n"
     ]
    },
    {
     "data": {
      "text/plain": [
       "<AxesSubplot:xlabel='Discussion'>"
      ]
     },
     "execution_count": 21,
     "metadata": {},
     "output_type": "execute_result"
    },
    {
     "data": {
      "image/png": "[encoded data removed]",
      "text/plain": [
       "<Figure size 432x288 with 1 Axes>"
      ]
     },
     "metadata": {
      "needs_background": "light"
     },
     "output_type": "display_data"
    }
   ],
   "source": [
    "sns.boxplot(num['Discussion'])"
   ]
  },
  {
   "cell_type": "markdown",
   "id": "4d11701d",
   "metadata": {},
   "source": [
    "## Multicollinearity "
   ]
  },
  {
   "cell_type": "code",
   "execution_count": 22,
   "id": "c8e5508f",
   "metadata": {},
   "outputs": [],
   "source": [
    "from statsmodels.stats.outliers_influence import variance_inflation_factor as vif"
   ]
  },
  {
   "cell_type": "code",
   "execution_count": 23,
   "id": "d2b3a9fd",
   "metadata": {},
   "outputs": [],
   "source": [
    "def multicolinearity_check(x):\n",
    "    vif_data = pd.DataFrame()\n",
    "    vif_data['feature'] = x.columns\n",
    "    vif_data['VIF'] = [vif(x.values,i) for i in range(len(x.columns))]\n",
    "    return vif_data"
   ]
  },
  {
   "cell_type": "code",
   "execution_count": 32,
   "id": "54832410",
   "metadata": {},
   "outputs": [
    {
     "data": {
      "text/html": [
       "<div>\n",
       "<style scoped>\n",
       "    .dataframe tbody tr th:only-of-type {\n",
       "        vertical-align: middle;\n",
       "    }\n",
       "\n",
       "    .dataframe tbody tr th {\n",
       "        vertical-align: top;\n",
       "    }\n",
       "\n",
       "    .dataframe thead th {\n",
       "        text-align: right;\n",
       "    }\n",
       "</style>\n",
       "<table border=\"1\" class=\"dataframe\">\n",
       "  <thead>\n",
       "    <tr style=\"text-align: right;\">\n",
       "      <th></th>\n",
       "      <th>feature</th>\n",
       "      <th>VIF</th>\n",
       "    </tr>\n",
       "  </thead>\n",
       "  <tbody>\n",
       "    <tr>\n",
       "      <th>0</th>\n",
       "      <td>raisedhands</td>\n",
       "      <td>7.624493</td>\n",
       "    </tr>\n",
       "    <tr>\n",
       "      <th>1</th>\n",
       "      <td>VisITedResources</td>\n",
       "      <td>6.893179</td>\n",
       "    </tr>\n",
       "    <tr>\n",
       "      <th>2</th>\n",
       "      <td>AnnouncementsView</td>\n",
       "      <td>6.075343</td>\n",
       "    </tr>\n",
       "    <tr>\n",
       "      <th>3</th>\n",
       "      <td>Discussion</td>\n",
       "      <td>3.365527</td>\n",
       "    </tr>\n",
       "  </tbody>\n",
       "</table>\n",
       "</div>"
      ],
      "text/plain": [
       "             feature       VIF\n",
       "0        raisedhands  7.624493\n",
       "1   VisITedResources  6.893179\n",
       "2  AnnouncementsView  6.075343\n",
       "3         Discussion  3.365527"
      ]
     },
     "execution_count": 32,
     "metadata": {},
     "output_type": "execute_result"
    }
   ],
   "source": [
    "multicolinearity_check(num)"
   ]
  },
  {
   "cell_type": "code",
   "execution_count": null,
   "id": "e7879558",
   "metadata": {},
   "outputs": [],
   "source": []
  },
  {
   "cell_type": "code",
   "execution_count": 28,
   "id": "6b470a73",
   "metadata": {},
   "outputs": [
    {
     "data": {
      "text/plain": [
       "<AxesSubplot:>"
      ]
     },
     "execution_count": 28,
     "metadata": {},
     "output_type": "execute_result"
    },
    {
     "data": {
      "image/png": "[encoded data removed]",
      "text/plain": [
       "<Figure size 432x288 with 2 Axes>"
      ]
     },
     "metadata": {
      "needs_background": "light"
     },
     "output_type": "display_data"
    }
   ],
   "source": [
    "sns.heatmap(data=num.corr(),annot=True)"
   ]
  },
  {
   "cell_type": "code",
   "execution_count": 115,
   "id": "06ebd396",
   "metadata": {},
   "outputs": [
    {
     "data": {
      "text/plain": [
       "raisedhands          0\n",
       "VisITedResources     0\n",
       "AnnouncementsView    0\n",
       "Discussion           0\n",
       "dtype: int64"
      ]
     },
     "execution_count": 115,
     "metadata": {},
     "output_type": "execute_result"
    }
   ],
   "source": [
    "num.isna().sum()"
   ]
  },
  {
   "cell_type": "code",
   "execution_count": 116,
   "id": "ded6de28",
   "metadata": {},
   "outputs": [
    {
     "data": {
      "text/plain": [
       "gender                      0\n",
       "NationalITy                 0\n",
       "PlaceofBirth                0\n",
       "StageID                     0\n",
       "GradeID                     0\n",
       "SectionID                   0\n",
       "Topic                       0\n",
       "Semester                    0\n",
       "Relation                    0\n",
       "ParentAnsweringSurvey       0\n",
       "ParentschoolSatisfaction    0\n",
       "StudentAbsenceDays          0\n",
       "Class                       0\n",
       "dtype: int64"
      ]
     },
     "execution_count": 116,
     "metadata": {},
     "output_type": "execute_result"
    }
   ],
   "source": [
    "cat.isna().sum()"
   ]
  },
  {
   "cell_type": "markdown",
   "id": "2f85f87c",
   "metadata": {},
   "source": [
    "### 1)Visualize just the categorical features individually to see what options are included and how each option fares when it comes to count(how many times it appears) and see what can be deduce from that?"
   ]
  },
  {
   "cell_type": "code",
   "execution_count": 33,
   "id": "d10694ce",
   "metadata": {},
   "outputs": [
    {
     "data": {
      "text/html": [
       "<div>\n",
       "<style scoped>\n",
       "    .dataframe tbody tr th:only-of-type {\n",
       "        vertical-align: middle;\n",
       "    }\n",
       "\n",
       "    .dataframe tbody tr th {\n",
       "        vertical-align: top;\n",
       "    }\n",
       "\n",
       "    .dataframe thead th {\n",
       "        text-align: right;\n",
       "    }\n",
       "</style>\n",
       "<table border=\"1\" class=\"dataframe\">\n",
       "  <thead>\n",
       "    <tr style=\"text-align: right;\">\n",
       "      <th></th>\n",
       "      <th>gender</th>\n",
       "      <th>NationalITy</th>\n",
       "      <th>PlaceofBirth</th>\n",
       "      <th>StageID</th>\n",
       "      <th>GradeID</th>\n",
       "      <th>SectionID</th>\n",
       "      <th>Topic</th>\n",
       "      <th>Semester</th>\n",
       "      <th>Relation</th>\n",
       "      <th>raisedhands</th>\n",
       "      <th>VisITedResources</th>\n",
       "      <th>AnnouncementsView</th>\n",
       "      <th>Discussion</th>\n",
       "      <th>ParentAnsweringSurvey</th>\n",
       "      <th>ParentschoolSatisfaction</th>\n",
       "      <th>StudentAbsenceDays</th>\n",
       "      <th>Class</th>\n",
       "    </tr>\n",
       "  </thead>\n",
       "  <tbody>\n",
       "    <tr>\n",
       "      <th>0</th>\n",
       "      <td>M</td>\n",
       "      <td>KW</td>\n",
       "      <td>KuwaIT</td>\n",
       "      <td>lowerlevel</td>\n",
       "      <td>G-04</td>\n",
       "      <td>A</td>\n",
       "      <td>IT</td>\n",
       "      <td>F</td>\n",
       "      <td>Father</td>\n",
       "      <td>15</td>\n",
       "      <td>16</td>\n",
       "      <td>2</td>\n",
       "      <td>20</td>\n",
       "      <td>Yes</td>\n",
       "      <td>Good</td>\n",
       "      <td>Under-7</td>\n",
       "      <td>M</td>\n",
       "    </tr>\n",
       "    <tr>\n",
       "      <th>1</th>\n",
       "      <td>M</td>\n",
       "      <td>KW</td>\n",
       "      <td>KuwaIT</td>\n",
       "      <td>lowerlevel</td>\n",
       "      <td>G-04</td>\n",
       "      <td>A</td>\n",
       "      <td>IT</td>\n",
       "      <td>F</td>\n",
       "      <td>Father</td>\n",
       "      <td>20</td>\n",
       "      <td>20</td>\n",
       "      <td>3</td>\n",
       "      <td>25</td>\n",
       "      <td>Yes</td>\n",
       "      <td>Good</td>\n",
       "      <td>Under-7</td>\n",
       "      <td>M</td>\n",
       "    </tr>\n",
       "    <tr>\n",
       "      <th>2</th>\n",
       "      <td>M</td>\n",
       "      <td>KW</td>\n",
       "      <td>KuwaIT</td>\n",
       "      <td>lowerlevel</td>\n",
       "      <td>G-04</td>\n",
       "      <td>A</td>\n",
       "      <td>IT</td>\n",
       "      <td>F</td>\n",
       "      <td>Father</td>\n",
       "      <td>10</td>\n",
       "      <td>7</td>\n",
       "      <td>0</td>\n",
       "      <td>30</td>\n",
       "      <td>No</td>\n",
       "      <td>Bad</td>\n",
       "      <td>Above-7</td>\n",
       "      <td>L</td>\n",
       "    </tr>\n",
       "    <tr>\n",
       "      <th>3</th>\n",
       "      <td>M</td>\n",
       "      <td>KW</td>\n",
       "      <td>KuwaIT</td>\n",
       "      <td>lowerlevel</td>\n",
       "      <td>G-04</td>\n",
       "      <td>A</td>\n",
       "      <td>IT</td>\n",
       "      <td>F</td>\n",
       "      <td>Father</td>\n",
       "      <td>30</td>\n",
       "      <td>25</td>\n",
       "      <td>5</td>\n",
       "      <td>35</td>\n",
       "      <td>No</td>\n",
       "      <td>Bad</td>\n",
       "      <td>Above-7</td>\n",
       "      <td>L</td>\n",
       "    </tr>\n",
       "    <tr>\n",
       "      <th>4</th>\n",
       "      <td>M</td>\n",
       "      <td>KW</td>\n",
       "      <td>KuwaIT</td>\n",
       "      <td>lowerlevel</td>\n",
       "      <td>G-04</td>\n",
       "      <td>A</td>\n",
       "      <td>IT</td>\n",
       "      <td>F</td>\n",
       "      <td>Father</td>\n",
       "      <td>40</td>\n",
       "      <td>50</td>\n",
       "      <td>12</td>\n",
       "      <td>50</td>\n",
       "      <td>No</td>\n",
       "      <td>Bad</td>\n",
       "      <td>Above-7</td>\n",
       "      <td>M</td>\n",
       "    </tr>\n",
       "    <tr>\n",
       "      <th>...</th>\n",
       "      <td>...</td>\n",
       "      <td>...</td>\n",
       "      <td>...</td>\n",
       "      <td>...</td>\n",
       "      <td>...</td>\n",
       "      <td>...</td>\n",
       "      <td>...</td>\n",
       "      <td>...</td>\n",
       "      <td>...</td>\n",
       "      <td>...</td>\n",
       "      <td>...</td>\n",
       "      <td>...</td>\n",
       "      <td>...</td>\n",
       "      <td>...</td>\n",
       "      <td>...</td>\n",
       "      <td>...</td>\n",
       "      <td>...</td>\n",
       "    </tr>\n",
       "    <tr>\n",
       "      <th>475</th>\n",
       "      <td>F</td>\n",
       "      <td>Jordan</td>\n",
       "      <td>Jordan</td>\n",
       "      <td>MiddleSchool</td>\n",
       "      <td>G-08</td>\n",
       "      <td>A</td>\n",
       "      <td>Chemistry</td>\n",
       "      <td>S</td>\n",
       "      <td>Father</td>\n",
       "      <td>5</td>\n",
       "      <td>4</td>\n",
       "      <td>5</td>\n",
       "      <td>8</td>\n",
       "      <td>No</td>\n",
       "      <td>Bad</td>\n",
       "      <td>Above-7</td>\n",
       "      <td>L</td>\n",
       "    </tr>\n",
       "    <tr>\n",
       "      <th>476</th>\n",
       "      <td>F</td>\n",
       "      <td>Jordan</td>\n",
       "      <td>Jordan</td>\n",
       "      <td>MiddleSchool</td>\n",
       "      <td>G-08</td>\n",
       "      <td>A</td>\n",
       "      <td>Geology</td>\n",
       "      <td>F</td>\n",
       "      <td>Father</td>\n",
       "      <td>50</td>\n",
       "      <td>77</td>\n",
       "      <td>14</td>\n",
       "      <td>28</td>\n",
       "      <td>No</td>\n",
       "      <td>Bad</td>\n",
       "      <td>Under-7</td>\n",
       "      <td>M</td>\n",
       "    </tr>\n",
       "    <tr>\n",
       "      <th>477</th>\n",
       "      <td>F</td>\n",
       "      <td>Jordan</td>\n",
       "      <td>Jordan</td>\n",
       "      <td>MiddleSchool</td>\n",
       "      <td>G-08</td>\n",
       "      <td>A</td>\n",
       "      <td>Geology</td>\n",
       "      <td>S</td>\n",
       "      <td>Father</td>\n",
       "      <td>55</td>\n",
       "      <td>74</td>\n",
       "      <td>25</td>\n",
       "      <td>29</td>\n",
       "      <td>No</td>\n",
       "      <td>Bad</td>\n",
       "      <td>Under-7</td>\n",
       "      <td>M</td>\n",
       "    </tr>\n",
       "    <tr>\n",
       "      <th>478</th>\n",
       "      <td>F</td>\n",
       "      <td>Jordan</td>\n",
       "      <td>Jordan</td>\n",
       "      <td>MiddleSchool</td>\n",
       "      <td>G-08</td>\n",
       "      <td>A</td>\n",
       "      <td>History</td>\n",
       "      <td>F</td>\n",
       "      <td>Father</td>\n",
       "      <td>30</td>\n",
       "      <td>17</td>\n",
       "      <td>14</td>\n",
       "      <td>57</td>\n",
       "      <td>No</td>\n",
       "      <td>Bad</td>\n",
       "      <td>Above-7</td>\n",
       "      <td>L</td>\n",
       "    </tr>\n",
       "    <tr>\n",
       "      <th>479</th>\n",
       "      <td>F</td>\n",
       "      <td>Jordan</td>\n",
       "      <td>Jordan</td>\n",
       "      <td>MiddleSchool</td>\n",
       "      <td>G-08</td>\n",
       "      <td>A</td>\n",
       "      <td>History</td>\n",
       "      <td>S</td>\n",
       "      <td>Father</td>\n",
       "      <td>35</td>\n",
       "      <td>14</td>\n",
       "      <td>23</td>\n",
       "      <td>62</td>\n",
       "      <td>No</td>\n",
       "      <td>Bad</td>\n",
       "      <td>Above-7</td>\n",
       "      <td>L</td>\n",
       "    </tr>\n",
       "  </tbody>\n",
       "</table>\n",
       "<p>480 rows × 17 columns</p>\n",
       "</div>"
      ],
      "text/plain": [
       "    gender NationalITy PlaceofBirth       StageID GradeID SectionID  \\\n",
       "0        M          KW       KuwaIT    lowerlevel    G-04         A   \n",
       "1        M          KW       KuwaIT    lowerlevel    G-04         A   \n",
       "2        M          KW       KuwaIT    lowerlevel    G-04         A   \n",
       "3        M          KW       KuwaIT    lowerlevel    G-04         A   \n",
       "4        M          KW       KuwaIT    lowerlevel    G-04         A   \n",
       "..     ...         ...          ...           ...     ...       ...   \n",
       "475      F      Jordan       Jordan  MiddleSchool    G-08         A   \n",
       "476      F      Jordan       Jordan  MiddleSchool    G-08         A   \n",
       "477      F      Jordan       Jordan  MiddleSchool    G-08         A   \n",
       "478      F      Jordan       Jordan  MiddleSchool    G-08         A   \n",
       "479      F      Jordan       Jordan  MiddleSchool    G-08         A   \n",
       "\n",
       "         Topic Semester Relation  raisedhands  VisITedResources  \\\n",
       "0           IT        F   Father           15                16   \n",
       "1           IT        F   Father           20                20   \n",
       "2           IT        F   Father           10                 7   \n",
       "3           IT        F   Father           30                25   \n",
       "4           IT        F   Father           40                50   \n",
       "..         ...      ...      ...          ...               ...   \n",
       "475  Chemistry        S   Father            5                 4   \n",
       "476    Geology        F   Father           50                77   \n",
       "477    Geology        S   Father           55                74   \n",
       "478    History        F   Father           30                17   \n",
       "479    History        S   Father           35                14   \n",
       "\n",
       "     AnnouncementsView  Discussion ParentAnsweringSurvey  \\\n",
       "0                    2          20                   Yes   \n",
       "1                    3          25                   Yes   \n",
       "2                    0          30                    No   \n",
       "3                    5          35                    No   \n",
       "4                   12          50                    No   \n",
       "..                 ...         ...                   ...   \n",
       "475                  5           8                    No   \n",
       "476                 14          28                    No   \n",
       "477                 25          29                    No   \n",
       "478                 14          57                    No   \n",
       "479                 23          62                    No   \n",
       "\n",
       "    ParentschoolSatisfaction StudentAbsenceDays Class  \n",
       "0                       Good            Under-7     M  \n",
       "1                       Good            Under-7     M  \n",
       "2                        Bad            Above-7     L  \n",
       "3                        Bad            Above-7     L  \n",
       "4                        Bad            Above-7     M  \n",
       "..                       ...                ...   ...  \n",
       "475                      Bad            Above-7     L  \n",
       "476                      Bad            Under-7     M  \n",
       "477                      Bad            Under-7     M  \n",
       "478                      Bad            Above-7     L  \n",
       "479                      Bad            Above-7     L  \n",
       "\n",
       "[480 rows x 17 columns]"
      ]
     },
     "execution_count": 33,
     "metadata": {},
     "output_type": "execute_result"
    }
   ],
   "source": [
    "df"
   ]
  },
  {
   "cell_type": "code",
   "execution_count": 36,
   "id": "535dc05c",
   "metadata": {},
   "outputs": [
    {
     "name": "stderr",
     "output_type": "stream",
     "text": [
      "C:\\ProgramData\\Anaconda3\\lib\\site-packages\\seaborn\\_decorators.py:36: FutureWarning: Pass the following variable as a keyword arg: x. From version 0.12, the only valid positional argument will be `data`, and passing other arguments without an explicit keyword will result in an error or misinterpretation.\n",
      "  warnings.warn(\n",
      "C:\\ProgramData\\Anaconda3\\lib\\site-packages\\seaborn\\_decorators.py:36: FutureWarning: Pass the following variable as a keyword arg: x. From version 0.12, the only valid positional argument will be `data`, and passing other arguments without an explicit keyword will result in an error or misinterpretation.\n",
      "  warnings.warn(\n",
      "C:\\ProgramData\\Anaconda3\\lib\\site-packages\\seaborn\\_decorators.py:36: FutureWarning: Pass the following variable as a keyword arg: x. From version 0.12, the only valid positional argument will be `data`, and passing other arguments without an explicit keyword will result in an error or misinterpretation.\n",
      "  warnings.warn(\n",
      "C:\\ProgramData\\Anaconda3\\lib\\site-packages\\seaborn\\_decorators.py:36: FutureWarning: Pass the following variable as a keyword arg: x. From version 0.12, the only valid positional argument will be `data`, and passing other arguments without an explicit keyword will result in an error or misinterpretation.\n",
      "  warnings.warn(\n",
      "C:\\ProgramData\\Anaconda3\\lib\\site-packages\\seaborn\\_decorators.py:36: FutureWarning: Pass the following variable as a keyword arg: x. From version 0.12, the only valid positional argument will be `data`, and passing other arguments without an explicit keyword will result in an error or misinterpretation.\n",
      "  warnings.warn(\n",
      "C:\\ProgramData\\Anaconda3\\lib\\site-packages\\seaborn\\_decorators.py:36: FutureWarning: Pass the following variable as a keyword arg: x. From version 0.12, the only valid positional argument will be `data`, and passing other arguments without an explicit keyword will result in an error or misinterpretation.\n",
      "  warnings.warn(\n"
     ]
    },
    {
     "data": {
      "text/plain": [
       "<AxesSubplot:xlabel='StudentAbsenceDays', ylabel='count'>"
      ]
     },
     "execution_count": 36,
     "metadata": {},
     "output_type": "execute_result"
    },
    {
     "data": {
      "image/png": "[encoded data removed]",
      "text/plain": [
       "<Figure size 720x720 with 6 Axes>"
      ]
     },
     "metadata": {
      "needs_background": "light"
     },
     "output_type": "display_data"
    }
   ],
   "source": [
    "f,axa = plt.subplots(3,2,figsize=(10,10))\n",
    "sns.countplot(cat['gender'],ax=axa[0,0])\n",
    "sns.countplot(cat['Semester'],ax=axa[0,1])\n",
    "sns.countplot(cat['ParentAnsweringSurvey'],ax=axa[1,0])\n",
    "sns.countplot(cat['ParentschoolSatisfaction'],ax=axa[1,1])\n",
    "sns.countplot(cat['Class'],ax=axa[2,0])\n",
    "sns.countplot(cat['StudentAbsenceDays'],ax=axa[2,1])"
   ]
  },
  {
   "cell_type": "code",
   "execution_count": 61,
   "id": "61a70a92",
   "metadata": {},
   "outputs": [
    {
     "name": "stderr",
     "output_type": "stream",
     "text": [
      "C:\\ProgramData\\Anaconda3\\lib\\site-packages\\seaborn\\_decorators.py:36: FutureWarning: Pass the following variable as a keyword arg: x. From version 0.12, the only valid positional argument will be `data`, and passing other arguments without an explicit keyword will result in an error or misinterpretation.\n",
      "  warnings.warn(\n"
     ]
    },
    {
     "data": {
      "text/plain": [
       "<AxesSubplot:xlabel='NationalITy', ylabel='count'>"
      ]
     },
     "execution_count": 61,
     "metadata": {},
     "output_type": "execute_result"
    },
    {
     "data": {
      "image/png": "[encoded data removed]",
      "text/plain": [
       "<Figure size 1080x576 with 1 Axes>"
      ]
     },
     "metadata": {
      "needs_background": "light"
     },
     "output_type": "display_data"
    }
   ],
   "source": [
    "f,ax1 = plt.subplots(1,1,figsize=[15,8])\n",
    "sns.countplot(cat['NationalITy'],ax=ax1)"
   ]
  },
  {
   "cell_type": "code",
   "execution_count": 63,
   "id": "0ed5a3af",
   "metadata": {},
   "outputs": [
    {
     "name": "stderr",
     "output_type": "stream",
     "text": [
      "C:\\ProgramData\\Anaconda3\\lib\\site-packages\\seaborn\\_decorators.py:36: FutureWarning: Pass the following variable as a keyword arg: x. From version 0.12, the only valid positional argument will be `data`, and passing other arguments without an explicit keyword will result in an error or misinterpretation.\n",
      "  warnings.warn(\n"
     ]
    },
    {
     "data": {
      "text/plain": [
       "<AxesSubplot:xlabel='PlaceofBirth', ylabel='count'>"
      ]
     },
     "execution_count": 63,
     "metadata": {},
     "output_type": "execute_result"
    },
    {
     "data": {
      "image/png": "[encoded data removed]",
      "text/plain": [
       "<Figure size 1080x576 with 1 Axes>"
      ]
     },
     "metadata": {
      "needs_background": "light"
     },
     "output_type": "display_data"
    }
   ],
   "source": [
    "f,ax1 = plt.subplots(1,1,figsize=[15,8])\n",
    "sns.countplot(cat['PlaceofBirth'],ax=ax1)"
   ]
  },
  {
   "cell_type": "code",
   "execution_count": 64,
   "id": "f4c89a0d",
   "metadata": {},
   "outputs": [
    {
     "name": "stderr",
     "output_type": "stream",
     "text": [
      "C:\\ProgramData\\Anaconda3\\lib\\site-packages\\seaborn\\_decorators.py:36: FutureWarning: Pass the following variable as a keyword arg: x. From version 0.12, the only valid positional argument will be `data`, and passing other arguments without an explicit keyword will result in an error or misinterpretation.\n",
      "  warnings.warn(\n"
     ]
    },
    {
     "data": {
      "text/plain": [
       "<AxesSubplot:xlabel='Topic', ylabel='count'>"
      ]
     },
     "execution_count": 64,
     "metadata": {},
     "output_type": "execute_result"
    },
    {
     "data": {
      "image/png": "[encoded data removed]",
      "text/plain": [
       "<Figure size 1080x576 with 1 Axes>"
      ]
     },
     "metadata": {
      "needs_background": "light"
     },
     "output_type": "display_data"
    }
   ],
   "source": [
    "f,ax1 = plt.subplots(1,1,figsize=[15,8])\n",
    "sns.countplot(cat['Topic'],ax=ax1)"
   ]
  },
  {
   "cell_type": "markdown",
   "id": "d4f168e0",
   "metadata": {},
   "source": [
    "## 2)Look at some categorical features in relation to each other, to see what insights could be possibly read?"
   ]
  },
  {
   "cell_type": "code",
   "execution_count": 65,
   "id": "a7f1758e",
   "metadata": {},
   "outputs": [
    {
     "data": {
      "text/html": [
       "<div>\n",
       "<style scoped>\n",
       "    .dataframe tbody tr th:only-of-type {\n",
       "        vertical-align: middle;\n",
       "    }\n",
       "\n",
       "    .dataframe tbody tr th {\n",
       "        vertical-align: top;\n",
       "    }\n",
       "\n",
       "    .dataframe thead th {\n",
       "        text-align: right;\n",
       "    }\n",
       "</style>\n",
       "<table border=\"1\" class=\"dataframe\">\n",
       "  <thead>\n",
       "    <tr style=\"text-align: right;\">\n",
       "      <th></th>\n",
       "      <th>gender</th>\n",
       "      <th>NationalITy</th>\n",
       "      <th>PlaceofBirth</th>\n",
       "      <th>StageID</th>\n",
       "      <th>GradeID</th>\n",
       "      <th>SectionID</th>\n",
       "      <th>Topic</th>\n",
       "      <th>Semester</th>\n",
       "      <th>Relation</th>\n",
       "      <th>raisedhands</th>\n",
       "      <th>VisITedResources</th>\n",
       "      <th>AnnouncementsView</th>\n",
       "      <th>Discussion</th>\n",
       "      <th>ParentAnsweringSurvey</th>\n",
       "      <th>ParentschoolSatisfaction</th>\n",
       "      <th>StudentAbsenceDays</th>\n",
       "      <th>Class</th>\n",
       "    </tr>\n",
       "  </thead>\n",
       "  <tbody>\n",
       "    <tr>\n",
       "      <th>0</th>\n",
       "      <td>M</td>\n",
       "      <td>KW</td>\n",
       "      <td>KuwaIT</td>\n",
       "      <td>lowerlevel</td>\n",
       "      <td>G-04</td>\n",
       "      <td>A</td>\n",
       "      <td>IT</td>\n",
       "      <td>F</td>\n",
       "      <td>Father</td>\n",
       "      <td>15</td>\n",
       "      <td>16</td>\n",
       "      <td>2</td>\n",
       "      <td>20</td>\n",
       "      <td>Yes</td>\n",
       "      <td>Good</td>\n",
       "      <td>Under-7</td>\n",
       "      <td>M</td>\n",
       "    </tr>\n",
       "    <tr>\n",
       "      <th>1</th>\n",
       "      <td>M</td>\n",
       "      <td>KW</td>\n",
       "      <td>KuwaIT</td>\n",
       "      <td>lowerlevel</td>\n",
       "      <td>G-04</td>\n",
       "      <td>A</td>\n",
       "      <td>IT</td>\n",
       "      <td>F</td>\n",
       "      <td>Father</td>\n",
       "      <td>20</td>\n",
       "      <td>20</td>\n",
       "      <td>3</td>\n",
       "      <td>25</td>\n",
       "      <td>Yes</td>\n",
       "      <td>Good</td>\n",
       "      <td>Under-7</td>\n",
       "      <td>M</td>\n",
       "    </tr>\n",
       "    <tr>\n",
       "      <th>2</th>\n",
       "      <td>M</td>\n",
       "      <td>KW</td>\n",
       "      <td>KuwaIT</td>\n",
       "      <td>lowerlevel</td>\n",
       "      <td>G-04</td>\n",
       "      <td>A</td>\n",
       "      <td>IT</td>\n",
       "      <td>F</td>\n",
       "      <td>Father</td>\n",
       "      <td>10</td>\n",
       "      <td>7</td>\n",
       "      <td>0</td>\n",
       "      <td>30</td>\n",
       "      <td>No</td>\n",
       "      <td>Bad</td>\n",
       "      <td>Above-7</td>\n",
       "      <td>L</td>\n",
       "    </tr>\n",
       "    <tr>\n",
       "      <th>3</th>\n",
       "      <td>M</td>\n",
       "      <td>KW</td>\n",
       "      <td>KuwaIT</td>\n",
       "      <td>lowerlevel</td>\n",
       "      <td>G-04</td>\n",
       "      <td>A</td>\n",
       "      <td>IT</td>\n",
       "      <td>F</td>\n",
       "      <td>Father</td>\n",
       "      <td>30</td>\n",
       "      <td>25</td>\n",
       "      <td>5</td>\n",
       "      <td>35</td>\n",
       "      <td>No</td>\n",
       "      <td>Bad</td>\n",
       "      <td>Above-7</td>\n",
       "      <td>L</td>\n",
       "    </tr>\n",
       "    <tr>\n",
       "      <th>4</th>\n",
       "      <td>M</td>\n",
       "      <td>KW</td>\n",
       "      <td>KuwaIT</td>\n",
       "      <td>lowerlevel</td>\n",
       "      <td>G-04</td>\n",
       "      <td>A</td>\n",
       "      <td>IT</td>\n",
       "      <td>F</td>\n",
       "      <td>Father</td>\n",
       "      <td>40</td>\n",
       "      <td>50</td>\n",
       "      <td>12</td>\n",
       "      <td>50</td>\n",
       "      <td>No</td>\n",
       "      <td>Bad</td>\n",
       "      <td>Above-7</td>\n",
       "      <td>M</td>\n",
       "    </tr>\n",
       "    <tr>\n",
       "      <th>...</th>\n",
       "      <td>...</td>\n",
       "      <td>...</td>\n",
       "      <td>...</td>\n",
       "      <td>...</td>\n",
       "      <td>...</td>\n",
       "      <td>...</td>\n",
       "      <td>...</td>\n",
       "      <td>...</td>\n",
       "      <td>...</td>\n",
       "      <td>...</td>\n",
       "      <td>...</td>\n",
       "      <td>...</td>\n",
       "      <td>...</td>\n",
       "      <td>...</td>\n",
       "      <td>...</td>\n",
       "      <td>...</td>\n",
       "      <td>...</td>\n",
       "    </tr>\n",
       "    <tr>\n",
       "      <th>475</th>\n",
       "      <td>F</td>\n",
       "      <td>Jordan</td>\n",
       "      <td>Jordan</td>\n",
       "      <td>MiddleSchool</td>\n",
       "      <td>G-08</td>\n",
       "      <td>A</td>\n",
       "      <td>Chemistry</td>\n",
       "      <td>S</td>\n",
       "      <td>Father</td>\n",
       "      <td>5</td>\n",
       "      <td>4</td>\n",
       "      <td>5</td>\n",
       "      <td>8</td>\n",
       "      <td>No</td>\n",
       "      <td>Bad</td>\n",
       "      <td>Above-7</td>\n",
       "      <td>L</td>\n",
       "    </tr>\n",
       "    <tr>\n",
       "      <th>476</th>\n",
       "      <td>F</td>\n",
       "      <td>Jordan</td>\n",
       "      <td>Jordan</td>\n",
       "      <td>MiddleSchool</td>\n",
       "      <td>G-08</td>\n",
       "      <td>A</td>\n",
       "      <td>Geology</td>\n",
       "      <td>F</td>\n",
       "      <td>Father</td>\n",
       "      <td>50</td>\n",
       "      <td>77</td>\n",
       "      <td>14</td>\n",
       "      <td>28</td>\n",
       "      <td>No</td>\n",
       "      <td>Bad</td>\n",
       "      <td>Under-7</td>\n",
       "      <td>M</td>\n",
       "    </tr>\n",
       "    <tr>\n",
       "      <th>477</th>\n",
       "      <td>F</td>\n",
       "      <td>Jordan</td>\n",
       "      <td>Jordan</td>\n",
       "      <td>MiddleSchool</td>\n",
       "      <td>G-08</td>\n",
       "      <td>A</td>\n",
       "      <td>Geology</td>\n",
       "      <td>S</td>\n",
       "      <td>Father</td>\n",
       "      <td>55</td>\n",
       "      <td>74</td>\n",
       "      <td>25</td>\n",
       "      <td>29</td>\n",
       "      <td>No</td>\n",
       "      <td>Bad</td>\n",
       "      <td>Under-7</td>\n",
       "      <td>M</td>\n",
       "    </tr>\n",
       "    <tr>\n",
       "      <th>478</th>\n",
       "      <td>F</td>\n",
       "      <td>Jordan</td>\n",
       "      <td>Jordan</td>\n",
       "      <td>MiddleSchool</td>\n",
       "      <td>G-08</td>\n",
       "      <td>A</td>\n",
       "      <td>History</td>\n",
       "      <td>F</td>\n",
       "      <td>Father</td>\n",
       "      <td>30</td>\n",
       "      <td>17</td>\n",
       "      <td>14</td>\n",
       "      <td>57</td>\n",
       "      <td>No</td>\n",
       "      <td>Bad</td>\n",
       "      <td>Above-7</td>\n",
       "      <td>L</td>\n",
       "    </tr>\n",
       "    <tr>\n",
       "      <th>479</th>\n",
       "      <td>F</td>\n",
       "      <td>Jordan</td>\n",
       "      <td>Jordan</td>\n",
       "      <td>MiddleSchool</td>\n",
       "      <td>G-08</td>\n",
       "      <td>A</td>\n",
       "      <td>History</td>\n",
       "      <td>S</td>\n",
       "      <td>Father</td>\n",
       "      <td>35</td>\n",
       "      <td>14</td>\n",
       "      <td>23</td>\n",
       "      <td>62</td>\n",
       "      <td>No</td>\n",
       "      <td>Bad</td>\n",
       "      <td>Above-7</td>\n",
       "      <td>L</td>\n",
       "    </tr>\n",
       "  </tbody>\n",
       "</table>\n",
       "<p>480 rows × 17 columns</p>\n",
       "</div>"
      ],
      "text/plain": [
       "    gender NationalITy PlaceofBirth       StageID GradeID SectionID  \\\n",
       "0        M          KW       KuwaIT    lowerlevel    G-04         A   \n",
       "1        M          KW       KuwaIT    lowerlevel    G-04         A   \n",
       "2        M          KW       KuwaIT    lowerlevel    G-04         A   \n",
       "3        M          KW       KuwaIT    lowerlevel    G-04         A   \n",
       "4        M          KW       KuwaIT    lowerlevel    G-04         A   \n",
       "..     ...         ...          ...           ...     ...       ...   \n",
       "475      F      Jordan       Jordan  MiddleSchool    G-08         A   \n",
       "476      F      Jordan       Jordan  MiddleSchool    G-08         A   \n",
       "477      F      Jordan       Jordan  MiddleSchool    G-08         A   \n",
       "478      F      Jordan       Jordan  MiddleSchool    G-08         A   \n",
       "479      F      Jordan       Jordan  MiddleSchool    G-08         A   \n",
       "\n",
       "         Topic Semester Relation  raisedhands  VisITedResources  \\\n",
       "0           IT        F   Father           15                16   \n",
       "1           IT        F   Father           20                20   \n",
       "2           IT        F   Father           10                 7   \n",
       "3           IT        F   Father           30                25   \n",
       "4           IT        F   Father           40                50   \n",
       "..         ...      ...      ...          ...               ...   \n",
       "475  Chemistry        S   Father            5                 4   \n",
       "476    Geology        F   Father           50                77   \n",
       "477    Geology        S   Father           55                74   \n",
       "478    History        F   Father           30                17   \n",
       "479    History        S   Father           35                14   \n",
       "\n",
       "     AnnouncementsView  Discussion ParentAnsweringSurvey  \\\n",
       "0                    2          20                   Yes   \n",
       "1                    3          25                   Yes   \n",
       "2                    0          30                    No   \n",
       "3                    5          35                    No   \n",
       "4                   12          50                    No   \n",
       "..                 ...         ...                   ...   \n",
       "475                  5           8                    No   \n",
       "476                 14          28                    No   \n",
       "477                 25          29                    No   \n",
       "478                 14          57                    No   \n",
       "479                 23          62                    No   \n",
       "\n",
       "    ParentschoolSatisfaction StudentAbsenceDays Class  \n",
       "0                       Good            Under-7     M  \n",
       "1                       Good            Under-7     M  \n",
       "2                        Bad            Above-7     L  \n",
       "3                        Bad            Above-7     L  \n",
       "4                        Bad            Above-7     M  \n",
       "..                       ...                ...   ...  \n",
       "475                      Bad            Above-7     L  \n",
       "476                      Bad            Under-7     M  \n",
       "477                      Bad            Under-7     M  \n",
       "478                      Bad            Above-7     L  \n",
       "479                      Bad            Above-7     L  \n",
       "\n",
       "[480 rows x 17 columns]"
      ]
     },
     "execution_count": 65,
     "metadata": {},
     "output_type": "execute_result"
    }
   ],
   "source": [
    "df"
   ]
  },
  {
   "cell_type": "code",
   "execution_count": null,
   "id": "5e142b07",
   "metadata": {},
   "outputs": [],
   "source": []
  },
  {
   "cell_type": "code",
   "execution_count": 68,
   "id": "ee29bef3",
   "metadata": {},
   "outputs": [
    {
     "data": {
      "text/plain": [
       "<AxesSubplot:xlabel='gender', ylabel='count'>"
      ]
     },
     "execution_count": 68,
     "metadata": {},
     "output_type": "execute_result"
    },
    {
     "data": {
      "image/png": "[encoded data removed]",
      "text/plain": [
       "<Figure size 1080x576 with 1 Axes>"
      ]
     },
     "metadata": {
      "needs_background": "light"
     },
     "output_type": "display_data"
    }
   ],
   "source": [
    "f,ax1 = plt.subplots(1,1,figsize=[15,8])\n",
    "sns.countplot(x='gender',data=cat,hue='Relation',ax=ax1)"
   ]
  },
  {
   "cell_type": "markdown",
   "id": "473bc9c4",
   "metadata": {},
   "source": [
    "### Based on above countplot diagram relationship with gender and relation ,\n",
    "### 1) male gender having more father count and for female gender having more mum count"
   ]
  },
  {
   "cell_type": "code",
   "execution_count": 70,
   "id": "ef0a72f2",
   "metadata": {
    "scrolled": true
   },
   "outputs": [
    {
     "data": {
      "text/plain": [
       "<AxesSubplot:xlabel='gender', ylabel='count'>"
      ]
     },
     "execution_count": 70,
     "metadata": {},
     "output_type": "execute_result"
    },
    {
     "data": {
      "image/png": "[encoded data removed]",
      "text/plain": [
       "<Figure size 1080x576 with 1 Axes>"
      ]
     },
     "metadata": {
      "needs_background": "light"
     },
     "output_type": "display_data"
    }
   ],
   "source": [
    "f,ax1 = plt.subplots(1,1,figsize=[15,8])\n",
    "sns.countplot(x='gender',data=cat,hue='GradeID',ax=ax1)"
   ]
  },
  {
   "cell_type": "markdown",
   "id": "e6b55776",
   "metadata": {},
   "source": [
    "### 2) Male and female gender scored high in grade2 "
   ]
  },
  {
   "cell_type": "code",
   "execution_count": 71,
   "id": "0c09fc31",
   "metadata": {
    "scrolled": true
   },
   "outputs": [
    {
     "data": {
      "text/plain": [
       "<AxesSubplot:xlabel='gender', ylabel='count'>"
      ]
     },
     "execution_count": 71,
     "metadata": {},
     "output_type": "execute_result"
    },
    {
     "data": {
      "image/png": "[encoded data removed]",
      "text/plain": [
       "<Figure size 1080x576 with 1 Axes>"
      ]
     },
     "metadata": {
      "needs_background": "light"
     },
     "output_type": "display_data"
    }
   ],
   "source": [
    "f,ax1 = plt.subplots(1,1,figsize=[15,8])\n",
    "sns.countplot(x='gender',data=cat,hue='StudentAbsenceDays',ax=ax1)"
   ]
  },
  {
   "cell_type": "code",
   "execution_count": 72,
   "id": "d41a0886",
   "metadata": {},
   "outputs": [
    {
     "data": {
      "text/plain": [
       "<AxesSubplot:xlabel='gender', ylabel='count'>"
      ]
     },
     "execution_count": 72,
     "metadata": {},
     "output_type": "execute_result"
    },
    {
     "data": {
      "image/png": "[encoded data removed]",
      "text/plain": [
       "<Figure size 1080x576 with 1 Axes>"
      ]
     },
     "metadata": {
      "needs_background": "light"
     },
     "output_type": "display_data"
    }
   ],
   "source": [
    "f,ax1 = plt.subplots(1,1,figsize=[15,8])\n",
    "sns.countplot(x='gender',data=cat,hue='Class',ax=ax1)"
   ]
  },
  {
   "cell_type": "markdown",
   "id": "1a9d1694",
   "metadata": {},
   "source": [
    "###  3) Female gender having less student absent days than male\n",
    "###  4) male gender is having more members in classes"
   ]
  },
  {
   "cell_type": "code",
   "execution_count": 78,
   "id": "c28214df",
   "metadata": {},
   "outputs": [
    {
     "data": {
      "text/plain": [
       "<AxesSubplot:xlabel='Class', ylabel='count'>"
      ]
     },
     "execution_count": 78,
     "metadata": {},
     "output_type": "execute_result"
    },
    {
     "data": {
      "image/png": "[encoded data removed]",
      "text/plain": [
       "<Figure size 1080x576 with 1 Axes>"
      ]
     },
     "metadata": {
      "needs_background": "light"
     },
     "output_type": "display_data"
    }
   ],
   "source": [
    "f,ax1 = plt.subplots(1,1,figsize=[15,8])\n",
    "sns.countplot(x='Class',data=df,hue='GradeID',ax=ax1)"
   ]
  },
  {
   "cell_type": "code",
   "execution_count": 81,
   "id": "4a4914ff",
   "metadata": {},
   "outputs": [
    {
     "data": {
      "text/plain": [
       "<AxesSubplot:xlabel='Topic', ylabel='count'>"
      ]
     },
     "execution_count": 81,
     "metadata": {},
     "output_type": "execute_result"
    },
    {
     "data": {
      "image/png": "[encoded data removed]",
      "text/plain": [
       "<Figure size 1080x576 with 1 Axes>"
      ]
     },
     "metadata": {
      "needs_background": "light"
     },
     "output_type": "display_data"
    }
   ],
   "source": [
    "f,ax1 = plt.subplots(1,1,figsize=[15,8])\n",
    "sns.countplot(x='Topic',data=df,hue='Class',ax=ax1)"
   ]
  },
  {
   "cell_type": "markdown",
   "id": "be776b50",
   "metadata": {},
   "source": [
    "## 3)Visualize categorical variables with numerical variables and give conclusions?"
   ]
  },
  {
   "cell_type": "code",
   "execution_count": 84,
   "id": "e29f0cf6",
   "metadata": {},
   "outputs": [
    {
     "data": {
      "text/html": [
       "<div>\n",
       "<style scoped>\n",
       "    .dataframe tbody tr th:only-of-type {\n",
       "        vertical-align: middle;\n",
       "    }\n",
       "\n",
       "    .dataframe tbody tr th {\n",
       "        vertical-align: top;\n",
       "    }\n",
       "\n",
       "    .dataframe thead th {\n",
       "        text-align: right;\n",
       "    }\n",
       "</style>\n",
       "<table border=\"1\" class=\"dataframe\">\n",
       "  <thead>\n",
       "    <tr style=\"text-align: right;\">\n",
       "      <th></th>\n",
       "      <th>gender</th>\n",
       "      <th>NationalITy</th>\n",
       "      <th>PlaceofBirth</th>\n",
       "      <th>StageID</th>\n",
       "      <th>GradeID</th>\n",
       "      <th>SectionID</th>\n",
       "      <th>Topic</th>\n",
       "      <th>Semester</th>\n",
       "      <th>Relation</th>\n",
       "      <th>raisedhands</th>\n",
       "      <th>VisITedResources</th>\n",
       "      <th>AnnouncementsView</th>\n",
       "      <th>Discussion</th>\n",
       "      <th>ParentAnsweringSurvey</th>\n",
       "      <th>ParentschoolSatisfaction</th>\n",
       "      <th>StudentAbsenceDays</th>\n",
       "      <th>Class</th>\n",
       "    </tr>\n",
       "  </thead>\n",
       "  <tbody>\n",
       "    <tr>\n",
       "      <th>0</th>\n",
       "      <td>M</td>\n",
       "      <td>KW</td>\n",
       "      <td>KuwaIT</td>\n",
       "      <td>lowerlevel</td>\n",
       "      <td>G-04</td>\n",
       "      <td>A</td>\n",
       "      <td>IT</td>\n",
       "      <td>F</td>\n",
       "      <td>Father</td>\n",
       "      <td>15</td>\n",
       "      <td>16</td>\n",
       "      <td>2</td>\n",
       "      <td>20</td>\n",
       "      <td>Yes</td>\n",
       "      <td>Good</td>\n",
       "      <td>Under-7</td>\n",
       "      <td>M</td>\n",
       "    </tr>\n",
       "    <tr>\n",
       "      <th>1</th>\n",
       "      <td>M</td>\n",
       "      <td>KW</td>\n",
       "      <td>KuwaIT</td>\n",
       "      <td>lowerlevel</td>\n",
       "      <td>G-04</td>\n",
       "      <td>A</td>\n",
       "      <td>IT</td>\n",
       "      <td>F</td>\n",
       "      <td>Father</td>\n",
       "      <td>20</td>\n",
       "      <td>20</td>\n",
       "      <td>3</td>\n",
       "      <td>25</td>\n",
       "      <td>Yes</td>\n",
       "      <td>Good</td>\n",
       "      <td>Under-7</td>\n",
       "      <td>M</td>\n",
       "    </tr>\n",
       "    <tr>\n",
       "      <th>2</th>\n",
       "      <td>M</td>\n",
       "      <td>KW</td>\n",
       "      <td>KuwaIT</td>\n",
       "      <td>lowerlevel</td>\n",
       "      <td>G-04</td>\n",
       "      <td>A</td>\n",
       "      <td>IT</td>\n",
       "      <td>F</td>\n",
       "      <td>Father</td>\n",
       "      <td>10</td>\n",
       "      <td>7</td>\n",
       "      <td>0</td>\n",
       "      <td>30</td>\n",
       "      <td>No</td>\n",
       "      <td>Bad</td>\n",
       "      <td>Above-7</td>\n",
       "      <td>L</td>\n",
       "    </tr>\n",
       "    <tr>\n",
       "      <th>3</th>\n",
       "      <td>M</td>\n",
       "      <td>KW</td>\n",
       "      <td>KuwaIT</td>\n",
       "      <td>lowerlevel</td>\n",
       "      <td>G-04</td>\n",
       "      <td>A</td>\n",
       "      <td>IT</td>\n",
       "      <td>F</td>\n",
       "      <td>Father</td>\n",
       "      <td>30</td>\n",
       "      <td>25</td>\n",
       "      <td>5</td>\n",
       "      <td>35</td>\n",
       "      <td>No</td>\n",
       "      <td>Bad</td>\n",
       "      <td>Above-7</td>\n",
       "      <td>L</td>\n",
       "    </tr>\n",
       "    <tr>\n",
       "      <th>4</th>\n",
       "      <td>M</td>\n",
       "      <td>KW</td>\n",
       "      <td>KuwaIT</td>\n",
       "      <td>lowerlevel</td>\n",
       "      <td>G-04</td>\n",
       "      <td>A</td>\n",
       "      <td>IT</td>\n",
       "      <td>F</td>\n",
       "      <td>Father</td>\n",
       "      <td>40</td>\n",
       "      <td>50</td>\n",
       "      <td>12</td>\n",
       "      <td>50</td>\n",
       "      <td>No</td>\n",
       "      <td>Bad</td>\n",
       "      <td>Above-7</td>\n",
       "      <td>M</td>\n",
       "    </tr>\n",
       "    <tr>\n",
       "      <th>...</th>\n",
       "      <td>...</td>\n",
       "      <td>...</td>\n",
       "      <td>...</td>\n",
       "      <td>...</td>\n",
       "      <td>...</td>\n",
       "      <td>...</td>\n",
       "      <td>...</td>\n",
       "      <td>...</td>\n",
       "      <td>...</td>\n",
       "      <td>...</td>\n",
       "      <td>...</td>\n",
       "      <td>...</td>\n",
       "      <td>...</td>\n",
       "      <td>...</td>\n",
       "      <td>...</td>\n",
       "      <td>...</td>\n",
       "      <td>...</td>\n",
       "    </tr>\n",
       "    <tr>\n",
       "      <th>475</th>\n",
       "      <td>F</td>\n",
       "      <td>Jordan</td>\n",
       "      <td>Jordan</td>\n",
       "      <td>MiddleSchool</td>\n",
       "      <td>G-08</td>\n",
       "      <td>A</td>\n",
       "      <td>Chemistry</td>\n",
       "      <td>S</td>\n",
       "      <td>Father</td>\n",
       "      <td>5</td>\n",
       "      <td>4</td>\n",
       "      <td>5</td>\n",
       "      <td>8</td>\n",
       "      <td>No</td>\n",
       "      <td>Bad</td>\n",
       "      <td>Above-7</td>\n",
       "      <td>L</td>\n",
       "    </tr>\n",
       "    <tr>\n",
       "      <th>476</th>\n",
       "      <td>F</td>\n",
       "      <td>Jordan</td>\n",
       "      <td>Jordan</td>\n",
       "      <td>MiddleSchool</td>\n",
       "      <td>G-08</td>\n",
       "      <td>A</td>\n",
       "      <td>Geology</td>\n",
       "      <td>F</td>\n",
       "      <td>Father</td>\n",
       "      <td>50</td>\n",
       "      <td>77</td>\n",
       "      <td>14</td>\n",
       "      <td>28</td>\n",
       "      <td>No</td>\n",
       "      <td>Bad</td>\n",
       "      <td>Under-7</td>\n",
       "      <td>M</td>\n",
       "    </tr>\n",
       "    <tr>\n",
       "      <th>477</th>\n",
       "      <td>F</td>\n",
       "      <td>Jordan</td>\n",
       "      <td>Jordan</td>\n",
       "      <td>MiddleSchool</td>\n",
       "      <td>G-08</td>\n",
       "      <td>A</td>\n",
       "      <td>Geology</td>\n",
       "      <td>S</td>\n",
       "      <td>Father</td>\n",
       "      <td>55</td>\n",
       "      <td>74</td>\n",
       "      <td>25</td>\n",
       "      <td>29</td>\n",
       "      <td>No</td>\n",
       "      <td>Bad</td>\n",
       "      <td>Under-7</td>\n",
       "      <td>M</td>\n",
       "    </tr>\n",
       "    <tr>\n",
       "      <th>478</th>\n",
       "      <td>F</td>\n",
       "      <td>Jordan</td>\n",
       "      <td>Jordan</td>\n",
       "      <td>MiddleSchool</td>\n",
       "      <td>G-08</td>\n",
       "      <td>A</td>\n",
       "      <td>History</td>\n",
       "      <td>F</td>\n",
       "      <td>Father</td>\n",
       "      <td>30</td>\n",
       "      <td>17</td>\n",
       "      <td>14</td>\n",
       "      <td>57</td>\n",
       "      <td>No</td>\n",
       "      <td>Bad</td>\n",
       "      <td>Above-7</td>\n",
       "      <td>L</td>\n",
       "    </tr>\n",
       "    <tr>\n",
       "      <th>479</th>\n",
       "      <td>F</td>\n",
       "      <td>Jordan</td>\n",
       "      <td>Jordan</td>\n",
       "      <td>MiddleSchool</td>\n",
       "      <td>G-08</td>\n",
       "      <td>A</td>\n",
       "      <td>History</td>\n",
       "      <td>S</td>\n",
       "      <td>Father</td>\n",
       "      <td>35</td>\n",
       "      <td>14</td>\n",
       "      <td>23</td>\n",
       "      <td>62</td>\n",
       "      <td>No</td>\n",
       "      <td>Bad</td>\n",
       "      <td>Above-7</td>\n",
       "      <td>L</td>\n",
       "    </tr>\n",
       "  </tbody>\n",
       "</table>\n",
       "<p>480 rows × 17 columns</p>\n",
       "</div>"
      ],
      "text/plain": [
       "    gender NationalITy PlaceofBirth       StageID GradeID SectionID  \\\n",
       "0        M          KW       KuwaIT    lowerlevel    G-04         A   \n",
       "1        M          KW       KuwaIT    lowerlevel    G-04         A   \n",
       "2        M          KW       KuwaIT    lowerlevel    G-04         A   \n",
       "3        M          KW       KuwaIT    lowerlevel    G-04         A   \n",
       "4        M          KW       KuwaIT    lowerlevel    G-04         A   \n",
       "..     ...         ...          ...           ...     ...       ...   \n",
       "475      F      Jordan       Jordan  MiddleSchool    G-08         A   \n",
       "476      F      Jordan       Jordan  MiddleSchool    G-08         A   \n",
       "477      F      Jordan       Jordan  MiddleSchool    G-08         A   \n",
       "478      F      Jordan       Jordan  MiddleSchool    G-08         A   \n",
       "479      F      Jordan       Jordan  MiddleSchool    G-08         A   \n",
       "\n",
       "         Topic Semester Relation  raisedhands  VisITedResources  \\\n",
       "0           IT        F   Father           15                16   \n",
       "1           IT        F   Father           20                20   \n",
       "2           IT        F   Father           10                 7   \n",
       "3           IT        F   Father           30                25   \n",
       "4           IT        F   Father           40                50   \n",
       "..         ...      ...      ...          ...               ...   \n",
       "475  Chemistry        S   Father            5                 4   \n",
       "476    Geology        F   Father           50                77   \n",
       "477    Geology        S   Father           55                74   \n",
       "478    History        F   Father           30                17   \n",
       "479    History        S   Father           35                14   \n",
       "\n",
       "     AnnouncementsView  Discussion ParentAnsweringSurvey  \\\n",
       "0                    2          20                   Yes   \n",
       "1                    3          25                   Yes   \n",
       "2                    0          30                    No   \n",
       "3                    5          35                    No   \n",
       "4                   12          50                    No   \n",
       "..                 ...         ...                   ...   \n",
       "475                  5           8                    No   \n",
       "476                 14          28                    No   \n",
       "477                 25          29                    No   \n",
       "478                 14          57                    No   \n",
       "479                 23          62                    No   \n",
       "\n",
       "    ParentschoolSatisfaction StudentAbsenceDays Class  \n",
       "0                       Good            Under-7     M  \n",
       "1                       Good            Under-7     M  \n",
       "2                        Bad            Above-7     L  \n",
       "3                        Bad            Above-7     L  \n",
       "4                        Bad            Above-7     M  \n",
       "..                       ...                ...   ...  \n",
       "475                      Bad            Above-7     L  \n",
       "476                      Bad            Under-7     M  \n",
       "477                      Bad            Under-7     M  \n",
       "478                      Bad            Above-7     L  \n",
       "479                      Bad            Above-7     L  \n",
       "\n",
       "[480 rows x 17 columns]"
      ]
     },
     "execution_count": 84,
     "metadata": {},
     "output_type": "execute_result"
    }
   ],
   "source": [
    "df"
   ]
  },
  {
   "cell_type": "code",
   "execution_count": 92,
   "id": "ef88ec7e",
   "metadata": {},
   "outputs": [
    {
     "data": {
      "text/plain": [
       "<AxesSubplot:xlabel='GradeID', ylabel='raisedhands'>"
      ]
     },
     "execution_count": 92,
     "metadata": {},
     "output_type": "execute_result"
    },
    {
     "data": {
      "image/png": "[encoded data removed]",
      "text/plain": [
       "<Figure size 1080x576 with 1 Axes>"
      ]
     },
     "metadata": {
      "needs_background": "light"
     },
     "output_type": "display_data"
    }
   ],
   "source": [
    "f,ax1 = plt.subplots(1,1,figsize=[15,8])\n",
    "sns.barplot(x='GradeID',y='raisedhands',data=df)"
   ]
  },
  {
   "cell_type": "code",
   "execution_count": 138,
   "id": "f47fbdb3",
   "metadata": {},
   "outputs": [
    {
     "data": {
      "text/plain": [
       "<AxesSubplot:xlabel='Semester', ylabel='AnnouncementsView'>"
      ]
     },
     "execution_count": 138,
     "metadata": {},
     "output_type": "execute_result"
    },
    {
     "data": {
      "image/png": "[encoded data removed]",
      "text/plain": [
       "<Figure size 720x360 with 2 Axes>"
      ]
     },
     "metadata": {
      "needs_background": "light"
     },
     "output_type": "display_data"
    }
   ],
   "source": [
    "fig, (axis1, axis2)  = plt.subplots(1, 2,figsize=(10,5))\n",
    "sns.pointplot(x='Semester', y='VisITedResources', hue='gender', data=df, ax=axis1)\n",
    "sns.pointplot(x='Semester', y='AnnouncementsView', hue='gender', data=df, ax=axis2)"
   ]
  },
  {
   "cell_type": "code",
   "execution_count": 140,
   "id": "b217c698",
   "metadata": {},
   "outputs": [],
   "source": [
    "ave_raisedhands = sum(df['raisedhands'])/len(df['raisedhands'])\n",
    "ave_VisITedResources = sum(df['VisITedResources'])/len(df['VisITedResources'])\n",
    "ave_AnnouncementsView = sum(df['AnnouncementsView'])/len(df['AnnouncementsView'])\n",
    "unsuccess = df.loc[(df['raisedhands'] >= ave_raisedhands) & (df['VisITedResources']>=ave_VisITedResources) & (df['AnnouncementsView']>=ave_AnnouncementsView)  & (df['Class'] == 'L')]\n"
   ]
  },
  {
   "cell_type": "code",
   "execution_count": 141,
   "id": "87275ca9",
   "metadata": {},
   "outputs": [
    {
     "data": {
      "text/html": [
       "<div>\n",
       "<style scoped>\n",
       "    .dataframe tbody tr th:only-of-type {\n",
       "        vertical-align: middle;\n",
       "    }\n",
       "\n",
       "    .dataframe tbody tr th {\n",
       "        vertical-align: top;\n",
       "    }\n",
       "\n",
       "    .dataframe thead th {\n",
       "        text-align: right;\n",
       "    }\n",
       "</style>\n",
       "<table border=\"1\" class=\"dataframe\">\n",
       "  <thead>\n",
       "    <tr style=\"text-align: right;\">\n",
       "      <th></th>\n",
       "      <th>gender</th>\n",
       "      <th>NationalITy</th>\n",
       "      <th>PlaceofBirth</th>\n",
       "      <th>StageID</th>\n",
       "      <th>GradeID</th>\n",
       "      <th>SectionID</th>\n",
       "      <th>Topic</th>\n",
       "      <th>Semester</th>\n",
       "      <th>Relation</th>\n",
       "      <th>raisedhands</th>\n",
       "      <th>VisITedResources</th>\n",
       "      <th>AnnouncementsView</th>\n",
       "      <th>Discussion</th>\n",
       "      <th>ParentAnsweringSurvey</th>\n",
       "      <th>ParentschoolSatisfaction</th>\n",
       "      <th>StudentAbsenceDays</th>\n",
       "      <th>Class</th>\n",
       "    </tr>\n",
       "  </thead>\n",
       "  <tbody>\n",
       "    <tr>\n",
       "      <th>444</th>\n",
       "      <td>M</td>\n",
       "      <td>Jordan</td>\n",
       "      <td>Jordan</td>\n",
       "      <td>MiddleSchool</td>\n",
       "      <td>G-08</td>\n",
       "      <td>A</td>\n",
       "      <td>Chemistry</td>\n",
       "      <td>F</td>\n",
       "      <td>Mum</td>\n",
       "      <td>75</td>\n",
       "      <td>72</td>\n",
       "      <td>64</td>\n",
       "      <td>39</td>\n",
       "      <td>Yes</td>\n",
       "      <td>Good</td>\n",
       "      <td>Above-7</td>\n",
       "      <td>L</td>\n",
       "    </tr>\n",
       "    <tr>\n",
       "      <th>445</th>\n",
       "      <td>M</td>\n",
       "      <td>Jordan</td>\n",
       "      <td>Jordan</td>\n",
       "      <td>MiddleSchool</td>\n",
       "      <td>G-08</td>\n",
       "      <td>A</td>\n",
       "      <td>Chemistry</td>\n",
       "      <td>S</td>\n",
       "      <td>Mum</td>\n",
       "      <td>72</td>\n",
       "      <td>76</td>\n",
       "      <td>66</td>\n",
       "      <td>40</td>\n",
       "      <td>Yes</td>\n",
       "      <td>Good</td>\n",
       "      <td>Above-7</td>\n",
       "      <td>L</td>\n",
       "    </tr>\n",
       "  </tbody>\n",
       "</table>\n",
       "</div>"
      ],
      "text/plain": [
       "    gender NationalITy PlaceofBirth       StageID GradeID SectionID  \\\n",
       "444      M      Jordan       Jordan  MiddleSchool    G-08         A   \n",
       "445      M      Jordan       Jordan  MiddleSchool    G-08         A   \n",
       "\n",
       "         Topic Semester Relation  raisedhands  VisITedResources  \\\n",
       "444  Chemistry        F      Mum           75                72   \n",
       "445  Chemistry        S      Mum           72                76   \n",
       "\n",
       "     AnnouncementsView  Discussion ParentAnsweringSurvey  \\\n",
       "444                 64          39                   Yes   \n",
       "445                 66          40                   Yes   \n",
       "\n",
       "    ParentschoolSatisfaction StudentAbsenceDays Class  \n",
       "444                     Good            Above-7     L  \n",
       "445                     Good            Above-7     L  "
      ]
     },
     "execution_count": 141,
     "metadata": {},
     "output_type": "execute_result"
    }
   ],
   "source": [
    "unsuccess"
   ]
  },
  {
   "cell_type": "markdown",
   "id": "1af028f6",
   "metadata": {},
   "source": [
    "## From the above result, what are the factors that leads to get low grades of the students?"
   ]
  },
  {
   "cell_type": "code",
   "execution_count": 143,
   "id": "47f77fa5",
   "metadata": {},
   "outputs": [],
   "source": [
    "df['num_cl'] = [1 if df.loc[i,'Class'] == 'L' else 2 if df.loc[i,'Class'] == 'M' else 3 for i in range(len(df))]"
   ]
  },
  {
   "cell_type": "code",
   "execution_count": 144,
   "id": "fb7580bd",
   "metadata": {},
   "outputs": [],
   "source": [
    "gr_male_avg = sum(df[df.gender == 'M'].num_cl)/float(len(df[df.gender == 'M']))\n",
    "gr_fem_avg = sum(df[df.gender == 'F'].num_cl)/float(len(df[df.gender == 'F']))"
   ]
  },
  {
   "cell_type": "code",
   "execution_count": 145,
   "id": "e79632b2",
   "metadata": {},
   "outputs": [
    {
     "name": "stdout",
     "output_type": "stream",
     "text": [
      "Jordan average: 2.0930232558139537\n"
     ]
    },
    {
     "data": {
      "text/plain": [
       "(array([ 0,  1,  2,  3,  4,  5,  6,  7,  8,  9, 10, 11, 12, 13]),\n",
       " [Text(0, 0, 'KW'),\n",
       "  Text(1, 0, 'lebanon'),\n",
       "  Text(2, 0, 'Egypt'),\n",
       "  Text(3, 0, 'SaudiArabia'),\n",
       "  Text(4, 0, 'USA'),\n",
       "  Text(5, 0, 'Jordan'),\n",
       "  Text(6, 0, 'venzuela'),\n",
       "  Text(7, 0, 'Iran'),\n",
       "  Text(8, 0, 'Tunis'),\n",
       "  Text(9, 0, 'Morocco'),\n",
       "  Text(10, 0, 'Syria'),\n",
       "  Text(11, 0, 'Palestine'),\n",
       "  Text(12, 0, 'Iraq'),\n",
       "  Text(13, 0, 'Lybia')])"
      ]
     },
     "execution_count": 145,
     "metadata": {},
     "output_type": "execute_result"
    },
    {
     "data": {
      "image/png": "[encoded data removed]",
      "text/plain": [
       "<Figure size 432x288 with 1 Axes>"
      ]
     },
     "metadata": {
      "needs_background": "light"
     },
     "output_type": "display_data"
    }
   ],
   "source": [
    "nat = df.NationalITy.unique()\n",
    "nat_gr_ave = [sum(df[df.NationalITy == i].num_cl)/float(len(df[df.NationalITy == i])) for i in nat]\n",
    "ax = sns.barplot(x=nat, y=nat_gr_ave)\n",
    "jordan_ave = sum(df[df.NationalITy == 'Jordan'].num_cl)/float(len(df[df.NationalITy == 'Jordan']))\n",
    "print('Jordan average: '+str(jordan_ave))\n",
    "plt.xticks(rotation=90)"
   ]
  },
  {
   "cell_type": "code",
   "execution_count": 146,
   "id": "5a131486",
   "metadata": {},
   "outputs": [
    {
     "data": {
      "text/plain": [
       "Text(0.5, 1.0, 'Relation with father or mother affects success of students')"
      ]
     },
     "execution_count": 146,
     "metadata": {},
     "output_type": "execute_result"
    },
    {
     "data": {
      "image/png": "[encoded data removed]",
      "text/plain": [
       "<Figure size 432x288 with 1 Axes>"
      ]
     },
     "metadata": {
      "needs_background": "light"
     },
     "output_type": "display_data"
    }
   ],
   "source": [
    "rel = df.Relation.unique()\n",
    "rel_grade_ave = [sum(df[df.Relation == i].num_cl)/float(len(df[df.Relation == i])) for i in rel]\n",
    "ax = sns.barplot(x=rel, y=rel_grade_ave)\n",
    "plt.title('Relation with father or mother affects success of students')"
   ]
  },
  {
   "cell_type": "code",
   "execution_count": 123,
   "id": "14ef1930",
   "metadata": {},
   "outputs": [],
   "source": [
    "discuss = df.Discussion"
   ]
  },
  {
   "cell_type": "code",
   "execution_count": 147,
   "id": "38992848",
   "metadata": {},
   "outputs": [
    {
     "data": {
      "text/plain": [
       "Text(0.5, 1.0, 'Discussion group participation')"
      ]
     },
     "execution_count": 147,
     "metadata": {},
     "output_type": "execute_result"
    },
    {
     "data": {
      "image/png": "[encoded data removed]",
      "text/plain": [
       "<Figure size 432x288 with 1 Axes>"
      ]
     },
     "metadata": {
      "needs_background": "light"
     },
     "output_type": "display_data"
    }
   ],
   "source": [
    "discuss_ave = sum(discuss)/len(discuss)\n",
    "ax = sns.violinplot(y=discuss,split=True,inner='quart')\n",
    "ax = sns.swarmplot(y=discuss,color='black')\n",
    "ax = sns.swarmplot(y = unsuccess.Discussion, color='red')\n",
    "plt.title('Discussion group participation')"
   ]
  },
  {
   "cell_type": "code",
   "execution_count": 150,
   "id": "427f242b",
   "metadata": {
    "scrolled": true
   },
   "outputs": [
    {
     "data": {
      "text/plain": [
       "Text(0.5, 1.0, 'Absence effect on success')"
      ]
     },
     "execution_count": 150,
     "metadata": {},
     "output_type": "execute_result"
    },
    {
     "data": {
      "image/png": "[encoded data removed]",
      "text/plain": [
       "<Figure size 432x288 with 1 Axes>"
      ]
     },
     "metadata": {
      "needs_background": "light"
     },
     "output_type": "display_data"
    }
   ],
   "source": [
    "abs_day = df.StudentAbsenceDays.unique()\n",
    "abs_day_ave = [sum(df[df.StudentAbsenceDays == i].num_cl)/float(len(df[df.StudentAbsenceDays == i])) for i in abs_day]\n",
    "ax = sns.barplot(x=abs_day, y=abs_day_ave)\n",
    "plt.title('Absence effect on success')\n"
   ]
  },
  {
   "cell_type": "markdown",
   "id": "6bf359d2",
   "metadata": {},
   "source": [
    "\n",
    "## Two students are below average of discussion. Therefore, not participating in discussion groups can be important reason to get low grades and absence days are above seven which resulted in low grades"
   ]
  },
  {
   "cell_type": "code",
   "execution_count": null,
   "id": "2b8159a0",
   "metadata": {},
   "outputs": [],
   "source": []
  },
  {
   "cell_type": "markdown",
   "id": "5f009632",
   "metadata": {},
   "source": [
    "### 5)Build classification model and present it's classification report?"
   ]
  },
  {
   "cell_type": "code",
   "execution_count": 153,
   "id": "076ce3a0",
   "metadata": {},
   "outputs": [],
   "source": [
    "data_1 = df.drop('Class',axis = 1)\n",
    "dummy = pd.get_dummies(data_1, drop_first=True)"
   ]
  },
  {
   "cell_type": "code",
   "execution_count": 155,
   "id": "33713451",
   "metadata": {},
   "outputs": [],
   "source": [
    "Fe = dummy.drop(['num_cl'],axis = 1)\n",
    "T = dummy['num_cl']"
   ]
  },
  {
   "cell_type": "code",
   "execution_count": 157,
   "id": "9c6ec094",
   "metadata": {},
   "outputs": [
    {
     "data": {
      "text/plain": [
       "StandardScaler()"
      ]
     },
     "execution_count": 157,
     "metadata": {},
     "output_type": "execute_result"
    }
   ],
   "source": [
    "from sklearn.preprocessing import StandardScaler\n",
    "\n",
    "scaler = StandardScaler()\n",
    "scaler.fit(Fe)\n"
   ]
  },
  {
   "cell_type": "code",
   "execution_count": 158,
   "id": "a56f9b27",
   "metadata": {},
   "outputs": [],
   "source": [
    "X = scaler.fit_transform(Fe)"
   ]
  },
  {
   "cell_type": "code",
   "execution_count": 159,
   "id": "4f103099",
   "metadata": {},
   "outputs": [],
   "source": [
    "from sklearn.model_selection import train_test_split"
   ]
  },
  {
   "cell_type": "code",
   "execution_count": 160,
   "id": "c649b1d1",
   "metadata": {},
   "outputs": [],
   "source": [
    "from sklearn.linear_model import LogisticRegression\n",
    "from sklearn.metrics import classification_report, accuracy_score"
   ]
  },
  {
   "cell_type": "code",
   "execution_count": 167,
   "id": "fc5de513",
   "metadata": {},
   "outputs": [],
   "source": [
    "X_train, X_test, y_train, y_test = train_test_split(X, T, test_size=0.3, random_state=42)"
   ]
  },
  {
   "cell_type": "code",
   "execution_count": 168,
   "id": "ee7d34b5",
   "metadata": {},
   "outputs": [
    {
     "data": {
      "text/plain": [
       "LogisticRegression()"
      ]
     },
     "execution_count": 168,
     "metadata": {},
     "output_type": "execute_result"
    }
   ],
   "source": [
    "Logit_Model = LogisticRegression()\n",
    "Logit_Model.fit(X_train,y_train)"
   ]
  },
  {
   "cell_type": "code",
   "execution_count": 169,
   "id": "34b8ae27",
   "metadata": {},
   "outputs": [],
   "source": [
    "Prediction = Logit_Model.predict(X_test)\n",
    "Score = accuracy_score(y_test,Prediction)\n",
    "Report = classification_report(y_test,Prediction)"
   ]
  },
  {
   "cell_type": "code",
   "execution_count": 170,
   "id": "adeab42b",
   "metadata": {},
   "outputs": [
    {
     "data": {
      "text/plain": [
       "array([1, 1, 3, 2, 2, 2, 1, 1, 2, 2, 2, 3, 3, 1, 3, 2, 1, 2, 1, 2, 3, 3,\n",
       "       1, 2, 1, 1, 3, 2, 1, 2, 3, 2, 1, 3, 2, 2, 2, 2, 2, 2, 2, 2, 1, 2,\n",
       "       3, 1, 3, 2, 3, 2, 3, 2, 1, 2, 2, 2, 1, 3, 2, 1, 2, 1, 1, 3, 2, 2,\n",
       "       1, 2, 1, 3, 2, 3, 1, 2, 2, 2, 2, 1, 1, 3, 3, 2, 2, 3, 2, 2, 2, 1,\n",
       "       1, 2, 3, 2, 2, 2, 1, 3, 1, 3, 2, 2, 2, 1, 1, 3, 2, 3, 3, 2, 2, 1,\n",
       "       2, 2, 2, 3, 2, 1, 3, 2, 2, 1, 1, 1, 3, 3, 1, 2, 1, 1, 2, 2, 2, 1,\n",
       "       1, 1, 1, 2, 2, 2, 2, 1, 1, 2, 1, 1], dtype=int64)"
      ]
     },
     "execution_count": 170,
     "metadata": {},
     "output_type": "execute_result"
    }
   ],
   "source": [
    "Prediction"
   ]
  },
  {
   "cell_type": "code",
   "execution_count": 171,
   "id": "237d1bca",
   "metadata": {},
   "outputs": [
    {
     "data": {
      "text/plain": [
       "0.75"
      ]
     },
     "execution_count": 171,
     "metadata": {},
     "output_type": "execute_result"
    }
   ],
   "source": [
    "Score"
   ]
  },
  {
   "cell_type": "code",
   "execution_count": 173,
   "id": "67b8b971",
   "metadata": {},
   "outputs": [
    {
     "name": "stdout",
     "output_type": "stream",
     "text": [
      "              precision    recall  f1-score   support\n",
      "\n",
      "           1       0.80      0.82      0.81        45\n",
      "           2       0.74      0.74      0.74        68\n",
      "           3       0.70      0.68      0.69        31\n",
      "\n",
      "    accuracy                           0.75       144\n",
      "   macro avg       0.75      0.74      0.75       144\n",
      "weighted avg       0.75      0.75      0.75       144\n",
      "\n"
     ]
    }
   ],
   "source": [
    "print(Report)"
   ]
  },
  {
   "cell_type": "code",
   "execution_count": null,
   "id": "ba5e8893",
   "metadata": {},
   "outputs": [],
   "source": []
  }
 ],
 "metadata": {
  "kernelspec": {
   "display_name": "Python 3 (ipykernel)",
   "language": "python",
   "name": "python3"
  },
  "language_info": {
   "codemirror_mode": {
    "name": "ipython",
    "version": 3
   },
   "file_extension": ".py",
   "mimetype": "text/x-python",
   "name": "python",
   "nbconvert_exporter": "python",
   "pygments_lexer": "ipython3",
   "version": "3.9.12"
  }
 },
 "nbformat": 4,
 "nbformat_minor": 5
}
