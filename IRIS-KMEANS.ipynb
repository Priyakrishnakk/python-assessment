{
 "cells": [
  {
   "cell_type": "code",
   "execution_count": 60,
   "id": "7a6ea61d",
   "metadata": {},
   "outputs": [],
   "source": [
    "import numpy as np\n",
    "import pandas as pd\n",
    "import matplotlib.pyplot as plt\n",
    "from sklearn.cluster import KMeans, k_means, kmeans_plusplus"
   ]
  },
  {
   "cell_type": "code",
   "execution_count": 61,
   "id": "04815b0c",
   "metadata": {},
   "outputs": [],
   "source": [
    "df=pd.read_excel('iris.xlsx')"
   ]
  },
  {
   "cell_type": "code",
   "execution_count": 62,
   "id": "40c3aeb9",
   "metadata": {},
   "outputs": [
    {
     "data": {
      "text/html": [
       "<div>\n",
       "<style scoped>\n",
       "    .dataframe tbody tr th:only-of-type {\n",
       "        vertical-align: middle;\n",
       "    }\n",
       "\n",
       "    .dataframe tbody tr th {\n",
       "        vertical-align: top;\n",
       "    }\n",
       "\n",
       "    .dataframe thead th {\n",
       "        text-align: right;\n",
       "    }\n",
       "</style>\n",
       "<table border=\"1\" class=\"dataframe\">\n",
       "  <thead>\n",
       "    <tr style=\"text-align: right;\">\n",
       "      <th></th>\n",
       "      <th>sepal.length</th>\n",
       "      <th>sepal.width</th>\n",
       "      <th>petal.length</th>\n",
       "      <th>petal.width</th>\n",
       "      <th>variety</th>\n",
       "    </tr>\n",
       "  </thead>\n",
       "  <tbody>\n",
       "    <tr>\n",
       "      <th>0</th>\n",
       "      <td>4.7</td>\n",
       "      <td>3.2</td>\n",
       "      <td>1.3</td>\n",
       "      <td>0.2</td>\n",
       "      <td>Setosa</td>\n",
       "    </tr>\n",
       "    <tr>\n",
       "      <th>1</th>\n",
       "      <td>4.6</td>\n",
       "      <td>3.1</td>\n",
       "      <td>1.5</td>\n",
       "      <td>0.2</td>\n",
       "      <td>Setosa</td>\n",
       "    </tr>\n",
       "    <tr>\n",
       "      <th>2</th>\n",
       "      <td>4.6</td>\n",
       "      <td>3.4</td>\n",
       "      <td>1.4</td>\n",
       "      <td>0.3</td>\n",
       "      <td>Setosa</td>\n",
       "    </tr>\n",
       "    <tr>\n",
       "      <th>3</th>\n",
       "      <td>4.4</td>\n",
       "      <td>2.9</td>\n",
       "      <td>1.4</td>\n",
       "      <td>0.2</td>\n",
       "      <td>Setosa</td>\n",
       "    </tr>\n",
       "    <tr>\n",
       "      <th>4</th>\n",
       "      <td>4.8</td>\n",
       "      <td>3.0</td>\n",
       "      <td>1.4</td>\n",
       "      <td>0.1</td>\n",
       "      <td>Setosa</td>\n",
       "    </tr>\n",
       "    <tr>\n",
       "      <th>...</th>\n",
       "      <td>...</td>\n",
       "      <td>...</td>\n",
       "      <td>...</td>\n",
       "      <td>...</td>\n",
       "      <td>...</td>\n",
       "    </tr>\n",
       "    <tr>\n",
       "      <th>145</th>\n",
       "      <td>5.0</td>\n",
       "      <td>3.5</td>\n",
       "      <td>1.6</td>\n",
       "      <td>0.6</td>\n",
       "      <td>Setosa</td>\n",
       "    </tr>\n",
       "    <tr>\n",
       "      <th>146</th>\n",
       "      <td>5.1</td>\n",
       "      <td>3.8</td>\n",
       "      <td>1.9</td>\n",
       "      <td>0.4</td>\n",
       "      <td>Setosa</td>\n",
       "    </tr>\n",
       "    <tr>\n",
       "      <th>147</th>\n",
       "      <td>5.1</td>\n",
       "      <td>3.8</td>\n",
       "      <td>1.6</td>\n",
       "      <td>0.2</td>\n",
       "      <td>Setosa</td>\n",
       "    </tr>\n",
       "    <tr>\n",
       "      <th>148</th>\n",
       "      <td>5.3</td>\n",
       "      <td>3.7</td>\n",
       "      <td>1.5</td>\n",
       "      <td>0.2</td>\n",
       "      <td>Setosa</td>\n",
       "    </tr>\n",
       "    <tr>\n",
       "      <th>149</th>\n",
       "      <td>5.0</td>\n",
       "      <td>3.3</td>\n",
       "      <td>1.4</td>\n",
       "      <td>0.2</td>\n",
       "      <td>Setosa</td>\n",
       "    </tr>\n",
       "  </tbody>\n",
       "</table>\n",
       "<p>150 rows × 5 columns</p>\n",
       "</div>"
      ],
      "text/plain": [
       "     sepal.length  sepal.width  petal.length  petal.width variety\n",
       "0             4.7          3.2           1.3          0.2  Setosa\n",
       "1             4.6          3.1           1.5          0.2  Setosa\n",
       "2             4.6          3.4           1.4          0.3  Setosa\n",
       "3             4.4          2.9           1.4          0.2  Setosa\n",
       "4             4.8          3.0           1.4          0.1  Setosa\n",
       "..            ...          ...           ...          ...     ...\n",
       "145           5.0          3.5           1.6          0.6  Setosa\n",
       "146           5.1          3.8           1.9          0.4  Setosa\n",
       "147           5.1          3.8           1.6          0.2  Setosa\n",
       "148           5.3          3.7           1.5          0.2  Setosa\n",
       "149           5.0          3.3           1.4          0.2  Setosa\n",
       "\n",
       "[150 rows x 5 columns]"
      ]
     },
     "execution_count": 62,
     "metadata": {},
     "output_type": "execute_result"
    }
   ],
   "source": [
    "df"
   ]
  },
  {
   "cell_type": "code",
   "execution_count": 63,
   "id": "e7ff2801",
   "metadata": {},
   "outputs": [],
   "source": [
    "x=df.iloc[:,:-1]\n",
    "y=df.iloc[:,-1]"
   ]
  },
  {
   "cell_type": "code",
   "execution_count": null,
   "id": "907a4852",
   "metadata": {},
   "outputs": [],
   "source": []
  },
  {
   "cell_type": "code",
   "execution_count": 65,
   "id": "f9a97f95",
   "metadata": {},
   "outputs": [
    {
     "name": "stdout",
     "output_type": "stream",
     "text": [
      "Initialization complete\n",
      "Iteration 0, inertia 146.69000000000003\n",
      "Iteration 1, inertia 84.48211680772569\n",
      "Iteration 2, inertia 83.68689490216782\n",
      "Iteration 3, inertia 82.79519452600701\n",
      "Iteration 4, inertia 81.54360278471788\n",
      "Iteration 5, inertia 80.80637600000001\n",
      "Iteration 6, inertia 79.87357983461304\n",
      "Iteration 7, inertia 79.34436414532676\n",
      "Iteration 8, inertia 78.92130972222222\n",
      "Iteration 9, inertia 78.85566582597731\n",
      "Converged at iteration 9: strict convergence.\n",
      "Initialization complete\n",
      "Iteration 0, inertia 138.01000000000002\n",
      "Iteration 1, inertia 86.60012871174563\n",
      "Iteration 2, inertia 84.26527300347225\n",
      "Iteration 3, inertia 83.3902326388889\n",
      "Iteration 4, inertia 82.00418738904195\n",
      "Iteration 5, inertia 81.08093414092329\n",
      "Iteration 6, inertia 79.87357983461304\n",
      "Iteration 7, inertia 79.34436414532676\n",
      "Iteration 8, inertia 78.92130972222222\n",
      "Iteration 9, inertia 78.85566582597731\n",
      "Converged at iteration 9: strict convergence.\n",
      "Initialization complete\n",
      "Iteration 0, inertia 150.96999999999994\n",
      "Iteration 1, inertia 95.18378380102041\n",
      "Iteration 2, inertia 86.91416562736207\n",
      "Iteration 3, inertia 84.71232984452898\n",
      "Iteration 4, inertia 84.0127788886515\n",
      "Iteration 5, inertia 83.04698186876973\n",
      "Iteration 6, inertia 81.7496020677262\n",
      "Iteration 7, inertia 80.80637600000001\n",
      "Iteration 8, inertia 79.87357983461304\n",
      "Iteration 9, inertia 79.34436414532676\n",
      "Iteration 10, inertia 78.92130972222222\n",
      "Iteration 11, inertia 78.85566582597731\n",
      "Converged at iteration 11: strict convergence.\n",
      "Initialization complete\n",
      "Iteration 0, inertia 125.04000000000002\n",
      "Iteration 1, inertia 86.45128732290581\n",
      "Iteration 2, inertia 84.49193138509843\n",
      "Iteration 3, inertia 83.57911394574322\n",
      "Iteration 4, inertia 82.7270109307298\n",
      "Iteration 5, inertia 81.54360278471788\n",
      "Iteration 6, inertia 80.80637600000001\n",
      "Iteration 7, inertia 79.87357983461304\n",
      "Iteration 8, inertia 79.34436414532676\n",
      "Iteration 9, inertia 78.92130972222222\n",
      "Iteration 10, inertia 78.85566582597731\n",
      "Converged at iteration 10: strict convergence.\n",
      "Initialization complete\n",
      "Iteration 0, inertia 177.94999999999996\n",
      "Iteration 1, inertia 95.65656583540303\n",
      "Iteration 2, inertia 86.29439304485363\n",
      "Iteration 3, inertia 79.86398439527466\n",
      "Iteration 4, inertia 79.19714263977781\n",
      "Iteration 5, inertia 78.85144142614602\n",
      "Converged at iteration 5: strict convergence.\n",
      "Initialization complete\n",
      "Iteration 0, inertia 137.05\n",
      "Iteration 1, inertia 95.4316678407063\n",
      "Iteration 2, inertia 86.29439304485363\n",
      "Iteration 3, inertia 79.86398439527466\n",
      "Iteration 4, inertia 79.19714263977781\n",
      "Iteration 5, inertia 78.85144142614602\n",
      "Converged at iteration 5: strict convergence.\n",
      "Initialization complete\n",
      "Iteration 0, inertia 119.12000000000003\n",
      "Iteration 1, inertia 83.68689490216782\n",
      "Iteration 2, inertia 82.79519452600701\n",
      "Iteration 3, inertia 81.54360278471788\n",
      "Iteration 4, inertia 80.80637600000001\n",
      "Iteration 5, inertia 79.87357983461304\n",
      "Iteration 6, inertia 79.34436414532676\n",
      "Iteration 7, inertia 78.92130972222222\n",
      "Iteration 8, inertia 78.85566582597731\n",
      "Converged at iteration 8: strict convergence.\n",
      "Initialization complete\n",
      "Iteration 0, inertia 123.05\n",
      "Iteration 1, inertia 86.29439304485363\n",
      "Iteration 2, inertia 79.86398439527466\n",
      "Iteration 3, inertia 79.19714263977781\n",
      "Iteration 4, inertia 78.85144142614602\n",
      "Converged at iteration 4: strict convergence.\n",
      "Initialization complete\n",
      "Iteration 0, inertia 140.1\n",
      "Iteration 1, inertia 85.15685296689466\n",
      "Iteration 2, inertia 79.86398439527466\n",
      "Iteration 3, inertia 79.19714263977781\n",
      "Iteration 4, inertia 78.85144142614602\n",
      "Converged at iteration 4: strict convergence.\n",
      "Initialization complete\n",
      "Iteration 0, inertia 144.12000000000006\n",
      "Iteration 1, inertia 82.11929517798458\n",
      "Iteration 2, inertia 78.91794589639166\n",
      "Iteration 3, inertia 78.85144142614602\n",
      "Converged at iteration 3: strict convergence.\n"
     ]
    },
    {
     "data": {
      "text/plain": [
       "KMeans(n_clusters=3, verbose=1)"
      ]
     },
     "execution_count": 65,
     "metadata": {},
     "output_type": "execute_result"
    }
   ],
   "source": [
    "\n",
    "model = KMeans(n_clusters=3,verbose=1)\n",
    "model.fit(x)\n"
   ]
  },
  {
   "cell_type": "code",
   "execution_count": 66,
   "id": "43548e0a",
   "metadata": {},
   "outputs": [
    {
     "data": {
      "text/plain": [
       "array([[ 75.5  ,   5.936,   2.77 ,   4.26 ,   1.326],\n",
       "       [125.5  ,   6.588,   2.974,   5.552,   2.026],\n",
       "       [ 25.5  ,   5.006,   3.428,   1.462,   0.246]])"
      ]
     },
     "execution_count": 66,
     "metadata": {},
     "output_type": "execute_result"
    }
   ],
   "source": [
    "\n",
    "kmeans5.cluster_centers_"
   ]
  },
  {
   "cell_type": "code",
   "execution_count": 67,
   "id": "9f290834",
   "metadata": {},
   "outputs": [
    {
     "data": {
      "text/plain": [
       "78.85144142614602"
      ]
     },
     "execution_count": 67,
     "metadata": {},
     "output_type": "execute_result"
    }
   ],
   "source": [
    "model.inertia_"
   ]
  },
  {
   "cell_type": "code",
   "execution_count": 68,
   "id": "7711a265",
   "metadata": {},
   "outputs": [
    {
     "data": {
      "text/plain": [
       "array([0, 0, 0, 0, 0, 0, 0, 0, 0, 0, 0, 0, 1, 1, 2, 1, 1, 1, 1, 1, 1, 1,\n",
       "       1, 1, 1, 1, 1, 1, 1, 1, 1, 1, 1, 1, 1, 1, 1, 1, 1, 2, 1, 1, 1, 1,\n",
       "       1, 1, 1, 1, 1, 1, 1, 1, 1, 1, 1, 1, 1, 1, 1, 1, 1, 1, 2, 1, 2, 2,\n",
       "       2, 2, 1, 2, 2, 2, 2, 2, 2, 1, 1, 2, 2, 2, 2, 1, 2, 1, 2, 1, 2, 2,\n",
       "       1, 1, 2, 2, 2, 2, 2, 1, 2, 2, 2, 2, 1, 2, 2, 2, 1, 2, 2, 2, 1, 2,\n",
       "       2, 1, 0, 0, 0, 0, 0, 0, 0, 0, 0, 0, 0, 0, 0, 0, 0, 0, 0, 0, 0, 0,\n",
       "       0, 0, 0, 0, 0, 0, 0, 0, 0, 0, 0, 0, 0, 0, 0, 0, 0, 0])"
      ]
     },
     "execution_count": 68,
     "metadata": {},
     "output_type": "execute_result"
    }
   ],
   "source": [
    "model.labels_"
   ]
  },
  {
   "cell_type": "code",
   "execution_count": 69,
   "id": "ae55a502",
   "metadata": {},
   "outputs": [
    {
     "data": {
      "text/plain": [
       "array([0, 0, 0, 0, 0, 0, 0, 0, 0, 0, 0, 0, 1, 1, 2, 1, 1, 1, 1, 1, 1, 1,\n",
       "       1, 1, 1, 1, 1, 1, 1, 1, 1, 1, 1, 1, 1, 1, 1, 1, 1, 2, 1, 1, 1, 1,\n",
       "       1, 1, 1, 1, 1, 1, 1, 1, 1, 1, 1, 1, 1, 1, 1, 1, 1, 1, 2, 1, 2, 2,\n",
       "       2, 2, 1, 2, 2, 2, 2, 2, 2, 1, 1, 2, 2, 2, 2, 1, 2, 1, 2, 1, 2, 2,\n",
       "       1, 1, 2, 2, 2, 2, 2, 1, 2, 2, 2, 2, 1, 2, 2, 2, 1, 2, 2, 2, 1, 2,\n",
       "       2, 1, 0, 0, 0, 0, 0, 0, 0, 0, 0, 0, 0, 0, 0, 0, 0, 0, 0, 0, 0, 0,\n",
       "       0, 0, 0, 0, 0, 0, 0, 0, 0, 0, 0, 0, 0, 0, 0, 0, 0, 0])"
      ]
     },
     "execution_count": 69,
     "metadata": {},
     "output_type": "execute_result"
    }
   ],
   "source": [
    "model.predict(x)"
   ]
  },
  {
   "cell_type": "code",
   "execution_count": 70,
   "id": "e3a1ec18",
   "metadata": {},
   "outputs": [
    {
     "data": {
      "text/plain": [
       "array([[5.006     , 3.428     , 1.462     , 0.246     ],\n",
       "       [5.9016129 , 2.7483871 , 4.39354839, 1.43387097],\n",
       "       [6.85      , 3.07368421, 5.74210526, 2.07105263]])"
      ]
     },
     "execution_count": 70,
     "metadata": {},
     "output_type": "execute_result"
    }
   ],
   "source": [
    "model.cluster_centers_"
   ]
  },
  {
   "cell_type": "code",
   "execution_count": 71,
   "id": "b57e6605",
   "metadata": {},
   "outputs": [
    {
     "data": {
      "text/plain": [
       "array(['sepal.length', 'sepal.width', 'petal.length', 'petal.width'],\n",
       "      dtype=object)"
      ]
     },
     "execution_count": 71,
     "metadata": {},
     "output_type": "execute_result"
    }
   ],
   "source": [
    "model.feature_names_in_"
   ]
  },
  {
   "cell_type": "code",
   "execution_count": 72,
   "id": "f218a373",
   "metadata": {},
   "outputs": [
    {
     "name": "stderr",
     "output_type": "stream",
     "text": [
      "C:\\Users\\Ashok\\anaconda3\\lib\\site-packages\\sklearn\\cluster\\_kmeans.py:1036: UserWarning: KMeans is known to have a memory leak on Windows with MKL, when there are less chunks than available threads. You can avoid it by setting the environment variable OMP_NUM_THREADS=1.\n",
      "  warnings.warn(\n",
      "C:\\Users\\Ashok\\anaconda3\\lib\\site-packages\\sklearn\\cluster\\_kmeans.py:1036: UserWarning: KMeans is known to have a memory leak on Windows with MKL, when there are less chunks than available threads. You can avoid it by setting the environment variable OMP_NUM_THREADS=1.\n",
      "  warnings.warn(\n"
     ]
    },
    {
     "data": {
      "image/png": "[encoded data removed]",
      "text/plain": [
       "<Figure size 432x288 with 1 Axes>"
      ]
     },
     "metadata": {
      "needs_background": "light"
     },
     "output_type": "display_data"
    }
   ],
   "source": [
    "Error =[]\n",
    "\n",
    "for i in range(1, 11):\n",
    "    kmeans = KMeans(n_clusters = i).fit(x)\n",
    "    kmeans.fit(x)\n",
    "    Error.append(kmeans.inertia_)\n",
    "    \n",
    "\n",
    "plt.plot(range(1, 11), Error)\n",
    "plt.title('Elbow method')\n",
    "plt.xlabel('No of clusters')\n",
    "plt.ylabel('Error')\n",
    "plt.show()"
   ]
  },
  {
   "cell_type": "code",
   "execution_count": null,
   "id": "7d6898ec",
   "metadata": {},
   "outputs": [],
   "source": []
  },
  {
   "cell_type": "code",
   "execution_count": null,
   "id": "de729607",
   "metadata": {},
   "outputs": [],
   "source": []
  }
 ],
 "metadata": {
  "kernelspec": {
   "display_name": "Python 3 (ipykernel)",
   "language": "python",
   "name": "python3"
  },
  "language_info": {
   "codemirror_mode": {
    "name": "ipython",
    "version": 3
   },
   "file_extension": ".py",
   "mimetype": "text/x-python",
   "name": "python",
   "nbconvert_exporter": "python",
   "pygments_lexer": "ipython3",
   "version": "3.9.12"
  }
 },
 "nbformat": 4,
 "nbformat_minor": 5
}
